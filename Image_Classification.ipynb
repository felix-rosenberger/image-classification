{
  "nbformat": 4,
  "nbformat_minor": 0,
  "metadata": {
    "colab": {
      "provenance": [],
      "toc_visible": true
    },
    "kernelspec": {
      "name": "python3",
      "display_name": "Python 3"
    }
  },
  "cells": [
    {
      "cell_type": "markdown",
      "source": [
        "Kaggle Username: Felix Rosenberger"
      ],
      "metadata": {
        "id": "xUqlyO6Hr2BY"
      }
    },
    {
      "cell_type": "markdown",
      "metadata": {
        "id": "0tjLd13gSOzH"
      },
      "source": [
        "# Introduction\n",
        "\n",
        "This notebook is for the major project submission for COMP7220/8220, on the [image/language] dataset and task.  It contains the following sections:\n",
        "\n",
        "*   a description of the selected conventional ML model;\n",
        "*   some notes about the choices made in building the conventional ML model;\n",
        "*   a description of the selected deep learning model;\n",
        "*   some notes about the choices made in building the deep model; and\n",
        "*   a discussion of the performance of the two models.\n",
        "\n"
      ]
    },
    {
      "cell_type": "markdown",
      "source": [
        "# Library and Data Import"
      ],
      "metadata": {
        "id": "lk5fOL18ZdfY"
      }
    },
    {
      "cell_type": "code",
      "source": [
        "# library import\n",
        "import os\n",
        "from google.colab import drive\n",
        "import numpy as np\n",
        "import pandas as pd\n",
        "import seaborn as sns\n",
        "import matplotlib.pyplot as plt"
      ],
      "metadata": {
        "id": "zOUH6HuVJnX5"
      },
      "execution_count": 2,
      "outputs": []
    },
    {
      "cell_type": "code",
      "source": [
        "# notebook setup\n",
        "drive.mount('/content/gdrive')\n",
        "os.chdir('/content/gdrive/My Drive/Colab Notebooks/COMP8220/Major_Project/image-classification')"
      ],
      "metadata": {
        "colab": {
          "base_uri": "https://localhost:8080/"
        },
        "id": "P6CvlUR3wDA6",
        "outputId": "c34b9357-ae9f-43fe-adef-174466ec5a37"
      },
      "execution_count": 3,
      "outputs": [
        {
          "output_type": "stream",
          "name": "stdout",
          "text": [
            "Mounted at /content/gdrive\n"
          ]
        }
      ]
    },
    {
      "cell_type": "code",
      "source": [
        "# read data in\n",
        "train = np.load('Data/Training_data_images.npy')\n",
        "test = np.load('Data/PublicTest_data_images.npy')\n",
        "labels = np.load('Data/Training_data_labels.npy')"
      ],
      "metadata": {
        "id": "D6A4HIH8IAYT"
      },
      "execution_count": 4,
      "outputs": []
    },
    {
      "cell_type": "markdown",
      "source": [
        "# Basic Data Exploration"
      ],
      "metadata": {
        "id": "2ViRih7UZlYI"
      }
    },
    {
      "cell_type": "markdown",
      "source": [
        "Let's first have a look at the different arrays."
      ],
      "metadata": {
        "id": "xd1LbzK8L1MV"
      }
    },
    {
      "cell_type": "code",
      "source": [
        "# training data\n",
        "print(f'The training data: \\t{train.shape}\\n'\n",
        "      f'The test data: \\t\\t{test.shape}\\n'\n",
        "      f'The label data: \\t{labels.shape}\\n')\n"
      ],
      "metadata": {
        "colab": {
          "base_uri": "https://localhost:8080/"
        },
        "id": "5iY9AfqTKhmn",
        "outputId": "d65cd489-b0a6-4098-ceae-c9ca9a763f11"
      },
      "execution_count": 5,
      "outputs": [
        {
          "output_type": "stream",
          "name": "stdout",
          "text": [
            "The training data: \t(9328, 48, 48)\n",
            "The test data: \t\t(1136, 48, 48)\n",
            "The label data: \t(9328,)\n",
            "\n"
          ]
        }
      ]
    },
    {
      "cell_type": "markdown",
      "source": [
        "We can see that the **training data consists of 9328 images**, each of which is a 48x48 array itself. The image size represents the pixels of each image. Similarly, the test data consists of 1136 images. The label data is vector containing the labels of the 9328 training images. We'll know look at the labels in more detail."
      ],
      "metadata": {
        "id": "fBJvEgkoL77l"
      }
    },
    {
      "cell_type": "code",
      "source": [
        "np.unique(labels)"
      ],
      "metadata": {
        "colab": {
          "base_uri": "https://localhost:8080/"
        },
        "id": "mDD5IJ4gMb5V",
        "outputId": "2e783f52-7fa1-46f0-fb3c-cde932ae458a"
      },
      "execution_count": 6,
      "outputs": [
        {
          "output_type": "execute_result",
          "data": {
            "text/plain": [
              "array([0, 1, 2, 3, 4, 5, 6])"
            ]
          },
          "metadata": {},
          "execution_count": 6
        }
      ]
    },
    {
      "cell_type": "markdown",
      "source": [
        "The integers shown are the unique image labels which correspond to emotions displayes on the images. The above order correspond to the labels **[angry, disgusted, fearful, happy, sad, surprised, neutral]**.\n",
        "Let's look at the first image and corresponding label."
      ],
      "metadata": {
        "id": "rP6G7NuaP_vj"
      }
    },
    {
      "cell_type": "code",
      "source": [
        "plt.imshow(train[0])\n",
        "plt.axis('off')\n",
        "plt.show()\n",
        "print(f'The label for the first image is {labels[0]}')"
      ],
      "metadata": {
        "colab": {
          "base_uri": "https://localhost:8080/",
          "height": 423
        },
        "id": "Z_4J-QmUVT4N",
        "outputId": "57211355-9156-4f95-d908-8f90957c9526"
      },
      "execution_count": 7,
      "outputs": [
        {
          "output_type": "display_data",
          "data": {
            "text/plain": [
              "<Figure size 640x480 with 1 Axes>"
            ],
            "image/png": "[encoded data removed]"
          },
          "metadata": {}
        },
        {
          "output_type": "stream",
          "name": "stdout",
          "text": [
            "The label for the first image is 0\n"
          ]
        }
      ]
    },
    {
      "cell_type": "markdown",
      "source": [
        "Hence the above image is classified as 'angry' in the training data. Next we'll look at the range of pixel sizes for each image."
      ],
      "metadata": {
        "id": "tkho6T5DXyzs"
      }
    },
    {
      "cell_type": "code",
      "source": [
        "# loop through all images and check min max values\n",
        "n = 0\n",
        "for i in range(len(train)):\n",
        "  min = np.min(train[i])\n",
        "  max = np.max(train[i])\n",
        "  if min < 0 and max > 1:\n",
        "    print('values out of normalisation range')\n",
        "  else:\n",
        "    n += 1\n",
        "\n",
        "print(f'All pixel values are between 0 and 1') if n == len(train) else print(f'Pixel scales are not aligned')"
      ],
      "metadata": {
        "id": "GxYmfhYVQjfi",
        "colab": {
          "base_uri": "https://localhost:8080/"
        },
        "outputId": "f58c6ad2-fca1-4897-bb18-8222dcd49c38"
      },
      "execution_count": 20,
      "outputs": [
        {
          "output_type": "stream",
          "name": "stdout",
          "text": [
            "All pixel values are between 0 and 1\n"
          ]
        }
      ]
    },
    {
      "cell_type": "markdown",
      "source": [
        "We now know that all pixel sizes are between 0 and 1. Hence normalisation is not required at a later stage for preprocessing."
      ],
      "metadata": {
        "id": "P43d4c3vZD1d"
      }
    },
    {
      "cell_type": "markdown",
      "metadata": {
        "id": "rZenD0ZqVAt9"
      },
      "source": [
        "# Conventional ML Model\n",
        "\n",
        "The final model that produced the best-performing predictions for the Kaggle submission (accuracy x%) was an SVM with a polynomial kernel.  The features were ..."
      ]
    },
    {
      "cell_type": "markdown",
      "source": [
        "## Data Preprocessing"
      ],
      "metadata": {
        "id": "zuYnWxhHZ3Y1"
      }
    },
    {
      "cell_type": "code",
      "metadata": {
        "id": "zJzTLEezSL_J"
      },
      "source": [
        "# some initialisation code"
      ],
      "execution_count": null,
      "outputs": []
    },
    {
      "cell_type": "markdown",
      "metadata": {
        "id": "qtFYH5HGVPLc"
      },
      "source": [
        "The code below handles feature extraction by first preprocessing the text, and then ..."
      ]
    },
    {
      "cell_type": "code",
      "metadata": {
        "id": "FJHWLg8BVYo7"
      },
      "source": [
        "# preprocessing + feature extraction code"
      ],
      "execution_count": null,
      "outputs": []
    },
    {
      "cell_type": "markdown",
      "metadata": {
        "id": "gF6wCdyrVX4-"
      },
      "source": [
        "The model is defined ..."
      ]
    },
    {
      "cell_type": "code",
      "metadata": {
        "id": "uLZku14oVhPQ"
      },
      "source": [
        "# model definition code"
      ],
      "execution_count": null,
      "outputs": []
    },
    {
      "cell_type": "markdown",
      "metadata": {
        "id": "HEGAmgJbVuSR"
      },
      "source": [
        "# Notes on the Conventional ML Model\n",
        "\n",
        "For the final model, hyperparameters were chosen by ...\n",
        "\n",
        "In addition to the final model, I also tried a logistic regression model, ...  This performed fairly poorly (accuracy y%) ...  This may have been because ..."
      ]
    },
    {
      "cell_type": "markdown",
      "metadata": {
        "id": "exJ0WB6EWipX"
      },
      "source": [
        "# Deep Learning Model\n",
        "\n",
        "The final model that produced the best-performing predictions for the Kaggle submission (accuracy (x+5)%) was a fully connected dense model with NN layers.  The input was the raw data that had been preprocessed by ..."
      ]
    },
    {
      "cell_type": "markdown",
      "source": [
        "## Data Preprocessing\n",
        "https://machinelearningmastery.com/best-practices-for-preparing-and-augmenting-image-data-for-convolutional-neural-networks/\n",
        "\n",
        "https://prince-canuma.medium.com/image-pre-processing-c1aec0be3edf\n",
        "\n",
        "https://www.kaggle.com/code/khotijahs1/cv-image-preprocessing"
      ],
      "metadata": {
        "id": "5vPtsCWKcnxF"
      }
    },
    {
      "cell_type": "markdown",
      "source": [
        "### Data Augmentation\n",
        "https://www.section.io/engineering-education/image-preprocessing-in-python/"
      ],
      "metadata": {
        "id": "5FEAUO1Jc1Yq"
      }
    },
    {
      "cell_type": "markdown",
      "metadata": {
        "id": "8OoUKNz3Wv9g"
      },
      "source": [
        "[Following this, code and comments as above.]"
      ]
    },
    {
      "cell_type": "markdown",
      "metadata": {
        "id": "EcDCI2dIW3ir"
      },
      "source": [
        "# Notes on the Deep Learning Model\n",
        "\n",
        "For the final model, hyperparameters were chosen by ...\n",
        "\n",
        "In addition to the final model, I also tried a CNN with two conv layers and ...  This performed almost as well as the final model (accuracy (x-3)%) ...  This gap in performance may have been because ..."
      ]
    },
    {
      "cell_type": "markdown",
      "metadata": {
        "id": "O1ngpqdsXg2m"
      },
      "source": [
        "# Discussion of Model Performance and Implementation\n",
        "\n",
        "Comparing my final conventional ML and deep learning models, the deep learning one performed better by 5% on the public test set.  The deep learning model ranked #12 out of N submissions on the public test set, with the top-performing system having z% accuracy, and a majority class baseline having z'% accuracy ...\n",
        "\n",
        "[E.g. discussion about what performance on validation set versus public test set might say about your models or about the dataset.]\n",
        "\n",
        "[E.g. discussion about what performance on private test set versus public test set might say about your models or about the dataset.]\n",
        "\n",
        "[E.g. discussion about what inspecting the data might say about your models or about the dataset.]\n",
        "\n",
        "[E.g. reflection on resource required for models or other implementation issues.]\n",
        "\n"
      ]
    }
  ]
}