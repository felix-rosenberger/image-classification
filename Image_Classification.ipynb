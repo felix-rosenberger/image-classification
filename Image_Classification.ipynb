{
  "nbformat": 4,
  "nbformat_minor": 0,
  "metadata": {
    "colab": {
      "provenance": [],
      "toc_visible": true,
      "include_colab_link": true
    },
    "kernelspec": {
      "name": "python3",
      "display_name": "Python 3"
    }
  },
  "cells": [
    {
      "cell_type": "markdown",
      "metadata": {
        "id": "view-in-github",
        "colab_type": "text"
      },
      "source": [
        "<a href=\"https://colab.research.google.com/github/felix-rosenberger/image-classification/blob/main/Image_Classification.ipynb\" target=\"_parent\"><img src=\"https://colab.research.google.com/assets/colab-badge.svg\" alt=\"Open In Colab\"/></a>"
      ]
    },
    {
      "cell_type": "markdown",
      "source": [
        "Kaggle Username: Felix Rosenberger"
      ],
      "metadata": {
        "id": "xUqlyO6Hr2BY"
      }
    },
    {
      "cell_type": "markdown",
      "metadata": {
        "id": "0tjLd13gSOzH"
      },
      "source": [
        "# Introduction\n",
        "\n",
        "This notebook is for the major project submission for COMP7220/8220, on the [image/language] dataset and task.  It contains the following sections:\n",
        "\n",
        "*   a description of the selected conventional ML model;\n",
        "*   some notes about the choices made in building the conventional ML model;\n",
        "*   a description of the selected deep learning model;\n",
        "*   some notes about the choices made in building the deep model; and\n",
        "*   a discussion of the performance of the two models.\n",
        "\n"
      ]
    },
    {
      "cell_type": "markdown",
      "source": [
        "# Library and Data Import"
      ],
      "metadata": {
        "id": "lk5fOL18ZdfY"
      }
    },
    {
      "cell_type": "code",
      "source": [
        "# library import\n",
        "import os\n",
        "from google.colab import drive\n",
        "from skimage.feature import hog, corner_harris, corner_peaks, local_binary_pattern, canny\n",
        "from skimage import exposure\n",
        "from scipy import ndimage as ndi\n",
        "import numpy as np\n",
        "import pandas as pd\n",
        "import seaborn as sns\n",
        "import matplotlib.pyplot as plt\n",
        "from sklearn.model_selection import train_test_split, cross_val_score, StratifiedKFold, RandomizedSearchCV\n",
        "from sklearn.preprocessing import MinMaxScaler\n",
        "from sklearn.svm import SVC\n",
        "from sklearn.metrics import accuracy_score\n",
        "from sklearn.ensemble import RandomForestClassifier, AdaBoostClassifier\n",
        "from sklearn.tree import DecisionTreeClassifier\n",
        "import xgboost as xgb"
      ],
      "metadata": {
        "id": "zOUH6HuVJnX5"
      },
      "execution_count": 41,
      "outputs": []
    },
    {
      "cell_type": "code",
      "source": [
        "# notebook setup\n",
        "drive.mount('/content/gdrive')\n",
        "os.chdir('/content/gdrive/My Drive/Colab Notebooks/COMP8220/Major_Project/image-classification')"
      ],
      "metadata": {
        "colab": {
          "base_uri": "https://localhost:8080/"
        },
        "id": "P6CvlUR3wDA6",
        "outputId": "e25dd2e1-abdf-44d3-e593-32de204b616a"
      },
      "execution_count": 2,
      "outputs": [
        {
          "output_type": "stream",
          "name": "stdout",
          "text": [
            "Mounted at /content/gdrive\n"
          ]
        }
      ]
    },
    {
      "cell_type": "code",
      "source": [
        "# read data in\n",
        "train = np.load('Data/Training_data_images.npy')\n",
        "test = np.load('Data/PublicTest_data_images.npy')\n",
        "labels = np.load('Data/Training_data_labels.npy')"
      ],
      "metadata": {
        "id": "D6A4HIH8IAYT"
      },
      "execution_count": 3,
      "outputs": []
    },
    {
      "cell_type": "markdown",
      "source": [
        "# Basic Data Exploration"
      ],
      "metadata": {
        "id": "2ViRih7UZlYI"
      }
    },
    {
      "cell_type": "markdown",
      "source": [
        "Let's first have a look at the different arrays."
      ],
      "metadata": {
        "id": "xd1LbzK8L1MV"
      }
    },
    {
      "cell_type": "code",
      "source": [
        "# training data\n",
        "print(f'The training data: \\t{train.shape}\\n'\n",
        "      f'The test data: \\t\\t{test.shape}\\n'\n",
        "      f'The label data: \\t{labels.shape}\\n')\n"
      ],
      "metadata": {
        "colab": {
          "base_uri": "https://localhost:8080/"
        },
        "id": "5iY9AfqTKhmn",
        "outputId": "5ae06b71-48d6-4996-f917-4aa915b9adb7"
      },
      "execution_count": 4,
      "outputs": [
        {
          "output_type": "stream",
          "name": "stdout",
          "text": [
            "The training data: \t(9328, 48, 48)\n",
            "The test data: \t\t(1136, 48, 48)\n",
            "The label data: \t(9328,)\n",
            "\n"
          ]
        }
      ]
    },
    {
      "cell_type": "markdown",
      "source": [
        "We can see that the **training data consists of 9328 images**, each of which is a 48x48 array itself. The image size represents the pixels of each image. Similarly, the test data consists of 1136 images. The label data is vector containing the labels of the 9328 training images. We'll know look at the labels in more detail."
      ],
      "metadata": {
        "id": "fBJvEgkoL77l"
      }
    },
    {
      "cell_type": "code",
      "source": [
        "np.unique(labels)"
      ],
      "metadata": {
        "colab": {
          "base_uri": "https://localhost:8080/"
        },
        "id": "mDD5IJ4gMb5V",
        "outputId": "9df9e17e-d6b0-41db-ac6b-65152ae8cc9d"
      },
      "execution_count": 5,
      "outputs": [
        {
          "output_type": "execute_result",
          "data": {
            "text/plain": [
              "array([0, 1, 2, 3, 4, 5, 6])"
            ]
          },
          "metadata": {},
          "execution_count": 5
        }
      ]
    },
    {
      "cell_type": "markdown",
      "source": [
        "The integers shown are the unique image labels which correspond to emotions displayes on the images. The above order correspond to the labels **[angry, disgusted, fearful, happy, sad, surprised, neutral]**.\n",
        "Let's look at the first 6 images and corresponding labels."
      ],
      "metadata": {
        "id": "rP6G7NuaP_vj"
      }
    },
    {
      "cell_type": "code",
      "source": [
        "# create label dict\n",
        "keys = list(np.unique(labels))\n",
        "values = ['angry', 'disgusted', 'fearful', 'happy', 'sad', 'surprised', 'neutral']\n",
        "label_classes = dict(zip(keys, values)) # provide key value pairs using zip\n",
        "print(label_classes)"
      ],
      "metadata": {
        "colab": {
          "base_uri": "https://localhost:8080/"
        },
        "id": "1nFuePqSnnm2",
        "outputId": "512ee948-c4c8-4a9f-adaa-1f143ebe0605"
      },
      "execution_count": 6,
      "outputs": [
        {
          "output_type": "stream",
          "name": "stdout",
          "text": [
            "{0: 'angry', 1: 'disgusted', 2: 'fearful', 3: 'happy', 4: 'sad', 5: 'surprised', 6: 'neutral'}\n"
          ]
        }
      ]
    },
    {
      "cell_type": "code",
      "source": [
        "fig, ax = plt.subplots(nrows=2, ncols=3, figsize=(10, 8))\n",
        "for i in range(len(train[0:6])):\n",
        "    lookup_key = labels[i]\n",
        "    subplot = ax[i // 3, i % 3] # get current subplot\n",
        "    subplot.imshow(train[i], cmap='gray') # plot image on the current subplot\n",
        "    subplot.set_title(f'The label for this image is {label_classes[lookup_key]}') # set title to corresponding label\n",
        "\n",
        "plt.tight_layout() # no overlap\n",
        "plt.show()"
      ],
      "metadata": {
        "colab": {
          "base_uri": "https://localhost:8080/",
          "height": 757
        },
        "id": "Z_4J-QmUVT4N",
        "outputId": "7f86cdc5-3598-4654-d82e-2354b8df6570"
      },
      "execution_count": 7,
      "outputs": [
        {
          "output_type": "display_data",
          "data": {
            "text/plain": [
              "<Figure size 1000x800 with 6 Axes>"
            ],
            "image/png": "[encoded data removed]"
          },
          "metadata": {}
        }
      ]
    },
    {
      "cell_type": "markdown",
      "source": [
        "Next we'll look at the range of pixel sizes for each image."
      ],
      "metadata": {
        "id": "tkho6T5DXyzs"
      }
    },
    {
      "cell_type": "code",
      "source": [
        "# loop through all images and check min max values\n",
        "n = 0\n",
        "for i in range(len(train)):\n",
        "  min_val = np.min(train[i])\n",
        "  max_val = np.max(train[i])\n",
        "  if min_val < 0 and max_val > 1:\n",
        "    print('values out of normalisation range')\n",
        "  else:\n",
        "    n += 1\n",
        "\n",
        "print(f'All pixel values are between 0 and 1') if n == len(train) else print(f'Pixel scales are not aligned')"
      ],
      "metadata": {
        "id": "GxYmfhYVQjfi",
        "colab": {
          "base_uri": "https://localhost:8080/"
        },
        "outputId": "022405ba-165c-41a0-86e8-4af2fac81964"
      },
      "execution_count": 8,
      "outputs": [
        {
          "output_type": "stream",
          "name": "stdout",
          "text": [
            "All pixel values are between 0 and 1\n"
          ]
        }
      ]
    },
    {
      "cell_type": "markdown",
      "source": [
        "We now know that all pixel sizes are between 0 and 1. Hence normalisation is not required at a later stage for preprocessing."
      ],
      "metadata": {
        "id": "P43d4c3vZD1d"
      }
    },
    {
      "cell_type": "markdown",
      "metadata": {
        "id": "rZenD0ZqVAt9"
      },
      "source": [
        "# Conventional ML Model\n",
        "\n",
        "The final model that produced the best-performing predictions for the Kaggle submission (accuracy x%) was an SVM with a polynomial kernel.  The features were ..."
      ]
    },
    {
      "cell_type": "markdown",
      "source": [
        "## Data Preprocessing and Feature Extraction"
      ],
      "metadata": {
        "id": "zuYnWxhHZ3Y1"
      }
    },
    {
      "cell_type": "markdown",
      "source": [
        "### Baseline\n",
        "Before diving into ML models, we need to establish a baseline against complex models are evaluated, i.e., to assess whether they actually add value. The most simple approach would just be to assign classes based on their training data representation. Hence any ML model only adds value if it improves the below classification accuracies. One method could be to just predict the most frequent class which is **happy (29.33%) and use this as a benchmark**. A model has to be at least as good."
      ],
      "metadata": {
        "id": "fUHRSI9w1nWd"
      }
    },
    {
      "cell_type": "code",
      "source": [
        "# get unique labels and number of occurrence\n",
        "unique, counts = np.unique(labels, return_counts=True)\n",
        "\n",
        "# calculate percentages\n",
        "total_samples = len(labels)\n",
        "percentages = (counts / total_samples) * 100\n",
        "\n",
        "# map unique labels to their corresponding expression\n",
        "label_names = [label_classes[label_num] for label_num in unique]"
      ],
      "metadata": {
        "id": "I6O-S8CU449h"
      },
      "execution_count": 9,
      "outputs": []
    },
    {
      "cell_type": "code",
      "source": [
        "for label, num in zip(label_names, percentages):\n",
        "  print(f'{label}: {num:.2f}%')"
      ],
      "metadata": {
        "colab": {
          "base_uri": "https://localhost:8080/"
        },
        "id": "TVONDgLT8Y97",
        "outputId": "8a23005f-612c-4d2d-e83a-47b772089444"
      },
      "execution_count": 10,
      "outputs": [
        {
          "output_type": "stream",
          "name": "stdout",
          "text": [
            "angry: 13.57%\n",
            "disgusted: 2.26%\n",
            "fearful: 11.87%\n",
            "happy: 29.33%\n",
            "sad: 11.18%\n",
            "surprised: 11.28%\n",
            "neutral: 20.51%\n"
          ]
        }
      ]
    },
    {
      "cell_type": "markdown",
      "source": [
        "However, since we are dealing with imbalanced data for multiple classes, a more nuanced approach seems feasible. For this, we we will calculate the odds of guessing each class based on their frequency in the data, and calculate the expected accuracy if we would do this constantly (see: https://towardsdatascience.com/calculating-a-baseline-accuracy-for-a-classification-model-a4b342ceb88f)."
      ],
      "metadata": {
        "id": "CvsX916r_EST"
      }
    },
    {
      "cell_type": "code",
      "source": [
        "sum_freq = 0\n",
        "for i in percentages:\n",
        "  sum_freq += (i/100)**2\n",
        "\n",
        "print(f'If we guessed at the rate of class frequency in the training data, the accuracy would be {sum_freq:.2%}.')"
      ],
      "metadata": {
        "colab": {
          "base_uri": "https://localhost:8080/"
        },
        "id": "U2r3cvPF9ecZ",
        "outputId": "e950c704-f3c6-431f-f863-a3b564863da9"
      },
      "execution_count": 11,
      "outputs": [
        {
          "output_type": "stream",
          "name": "stdout",
          "text": [
            "If we guessed at the rate of class frequency in the training data, the accuracy would be 18.63%.\n"
          ]
        }
      ]
    },
    {
      "cell_type": "markdown",
      "source": [
        "Hence any model should at least achieve an accuracy of 18.63%. However, since always predicting 'happy' would result in a 29.33% accuracy, this should be our benchmark. Next we will create some features out of the raw image data."
      ],
      "metadata": {
        "id": "cmBOtHFr_ytk"
      }
    },
    {
      "cell_type": "markdown",
      "source": [
        "### Validation Set Creation\n",
        "We will split the data now into train, validation, and test data. This will preserve that information from the training data gets leaked into the test data during preprocessing steps like feature scaling. Considering the amount of training data available, adding 5% to the validation set seems reasonable. Later on, generalisation will also be evaluated using cross-validation. Let's first look at the distribution of class labels in the training data."
      ],
      "metadata": {
        "id": "psMvVrQKgsg6"
      }
    },
    {
      "cell_type": "code",
      "source": [
        "# get unique labels and number of occurrence\n",
        "unique, counts = np.unique(labels, return_counts=True)\n",
        "\n",
        "# calculate percentages\n",
        "total_samples = len(labels)\n",
        "percentages = (counts / total_samples) * 100\n",
        "\n",
        "# map unique labels to their corresponding expression\n",
        "label_names = [label_classes[label_num] for label_num in unique]\n",
        "\n",
        "plt.bar(label_names, percentages)\n",
        "plt.title(\"Distribution of Image Labels in Training Data\")\n",
        "plt.xlabel(\"Label\")\n",
        "plt.ylabel(\"Count\")\n",
        "plt.xticks(rotation=45, ha=\"right\")\n",
        "plt.show();"
      ],
      "metadata": {
        "colab": {
          "base_uri": "https://localhost:8080/",
          "height": 514
        },
        "outputId": "7d565ffa-b071-4e22-bfd0-ccb65f29ed90",
        "id": "mEOI3xemKy7j"
      },
      "execution_count": 12,
      "outputs": [
        {
          "output_type": "display_data",
          "data": {
            "text/plain": [
              "<Figure size 640x480 with 1 Axes>"
            ],
            "image/png": "[encoded data removed]"
          },
          "metadata": {}
        }
      ]
    },
    {
      "cell_type": "markdown",
      "source": [
        "The plot shows that there are some expression categories which are unevelenly represented in the training data. 'happy' and 'neutral' are overrepresented while 'disgusted' is underrepresented. To split the data in a representative way, we will use the stratify argument. We will do this for each model depending on the features used."
      ],
      "metadata": {
        "id": "Yb2czZg0Ky7l"
      }
    },
    {
      "cell_type": "code",
      "source": [
        "# create validation set\n",
        "train_data, val_data, train_labels, val_labels = train_test_split(train, labels,\n",
        "                                                                  test_size=0.05, random_state=42,\n",
        "                                                                  stratify=labels) # stratify based on labels proportion\n",
        "# show dimensions\n",
        "print(f'The training data dimensions: \\t{train_data.shape}\\n'\n",
        "      f'The validation data dimensions: {val_data.shape}\\n')"
      ],
      "metadata": {
        "colab": {
          "base_uri": "https://localhost:8080/"
        },
        "outputId": "0acbe5a0-8a2f-4905-b3fe-bb32f08d8453",
        "id": "mhDDJrYMfF0b"
      },
      "execution_count": 13,
      "outputs": [
        {
          "output_type": "stream",
          "name": "stdout",
          "text": [
            "The training data dimensions: \t(8861, 48, 48)\n",
            "The validation data dimensions: (467, 48, 48)\n",
            "\n"
          ]
        }
      ]
    },
    {
      "cell_type": "markdown",
      "source": [
        "### Data Combination & Image Flattening\n",
        "We'll combine train and test data before we extract any features so that all extractions will be done on both parts of the data. We will split the data again before training our ML models so that the first 9328 images are contained in the training data. After that, we'll flatten the images into feature vectors. In order to feed our data into any ML algorithm, we need to flatten the multidimensional structure into a 2D format. Hence for each picture in our sample, the 48x48 2D structure will be flattened out into a vector of 2304 pixels (48*48) which will then serve as features."
      ],
      "metadata": {
        "id": "AbCEBGQuzlbU"
      }
    },
    {
      "cell_type": "code",
      "source": [
        "# combine data\n",
        "full_data = np.vstack((train, test))\n",
        "print(f'The full data dimensions: {full_data.shape}')"
      ],
      "metadata": {
        "colab": {
          "base_uri": "https://localhost:8080/"
        },
        "id": "QZQkTW0OvoyR",
        "outputId": "96c84c86-073d-4d3b-fe67-16946e1e8aaa"
      },
      "execution_count": 14,
      "outputs": [
        {
          "output_type": "stream",
          "name": "stdout",
          "text": [
            "The full data dimensions: (10464, 48, 48)\n"
          ]
        }
      ]
    },
    {
      "cell_type": "code",
      "source": [
        "# reshape training data\n",
        "n_samples = train_data.shape[0] # length of training data\n",
        "n_features = train_data.shape[1] * train_data.shape[2] # length of feature vector\n",
        "train_data_flat = train_data.reshape((n_samples, n_features)) # reshape into 2D array of corresponding dimensions\n",
        "\n",
        "# reshape validation data\n",
        "n_samples = val_data.shape[0] # length of training data\n",
        "n_features = val_data.shape[1] * val_data.shape[2] # length of feature vector\n",
        "val_data_flat = val_data.reshape((n_samples, n_features)) # reshape into 2D array of corresponding dimensions\n",
        "\n",
        "# reshape test data\n",
        "n_samples = test.shape[0] # length of training data\n",
        "n_features = test.shape[1] * test.shape[2] # length of feature vector\n",
        "test_data_flat = test.reshape((n_samples, n_features)) # reshape into 2D array of corresponding dimensions\n",
        "\n",
        "# show dimensions\n",
        "print(f'The flattened data dimensions are \\n'\n",
        "      f'train: {train_data_flat.shape} \\n'\n",
        "      f'validation: {val_data_flat.shape} \\n'\n",
        "      f'test: {test_data_flat.shape} \\n')"
      ],
      "metadata": {
        "colab": {
          "base_uri": "https://localhost:8080/"
        },
        "id": "1jh1uHB1tZCS",
        "outputId": "52cded6e-885b-465b-83f2-707e0b6b7c23"
      },
      "execution_count": 15,
      "outputs": [
        {
          "output_type": "stream",
          "name": "stdout",
          "text": [
            "The flattened data dimensions are \n",
            "train: (8861, 2304) \n",
            "validation: (467, 2304) \n",
            "test: (1136, 2304) \n",
            "\n"
          ]
        }
      ]
    },
    {
      "cell_type": "markdown",
      "source": [
        "### Image Sharpening\n",
        "To enable easier edge and feature detection in the images, we will apply some image sharpening."
      ],
      "metadata": {
        "id": "IxWp9u8P4MyE"
      }
    },
    {
      "cell_type": "markdown",
      "source": [
        "#### Unsharp Masking\n",
        "A sharpening technique that enhances edges and fine details. It is a linear image processing technique which sharpens the image. The sharp details are identified as a difference between the original image and its blurred version. These details are then scaled, and added back to the original image. For blurring, a gaussian filter is used."
      ],
      "metadata": {
        "id": "l4GLarpc6RT4"
      }
    },
    {
      "cell_type": "code",
      "source": [
        "import cv2\n",
        "import numpy as np\n",
        "\n",
        "def unsharp_mask(image, kernel_size=(5, 5), sigma=1.0, alpha=1.5, beta=-0.5):\n",
        "    # Apply Gaussian blur to the image\n",
        "    blurred = cv2.GaussianBlur(image, kernel_size, sigma)\n",
        "\n",
        "    # Calculate the unsharp mask\n",
        "    mask = cv2.addWeighted(image, 1 + alpha, blurred, beta, 0)\n",
        "\n",
        "    # Ensure pixel values are in the valid range [0, 255]\n",
        "    mask = np.clip(mask / 255.0, 0, 1).astype(np.float32)\n",
        "\n",
        "    return mask\n",
        "\n",
        "image = train[0]\n",
        "\n",
        "# Apply unsharp masking\n",
        "sharpened_image = unsharp_mask(image, alpha=3.0, beta=-2.0)\n",
        "\n",
        "plt.imshow(sharpened_image, cmap='gray')\n",
        "plt.axis('off')  # Turn off axis labels\n",
        "plt.show()\n"
      ],
      "metadata": {
        "colab": {
          "base_uri": "https://localhost:8080/",
          "height": 405
        },
        "id": "w-yx0DyB6OBt",
        "outputId": "50162337-d420-4d71-ce38-53f2f135d4ef"
      },
      "execution_count": 16,
      "outputs": [
        {
          "output_type": "display_data",
          "data": {
            "text/plain": [
              "<Figure size 640x480 with 1 Axes>"
            ],
            "image/png": "[encoded data removed]"
          },
          "metadata": {}
        }
      ]
    },
    {
      "cell_type": "code",
      "source": [
        "plt.imshow(train[0], cmap='gray')\n",
        "plt.axis('off')  # Turn off axis labels\n",
        "plt.show()"
      ],
      "metadata": {
        "colab": {
          "base_uri": "https://localhost:8080/",
          "height": 405
        },
        "id": "rle-v6FvhzqQ",
        "outputId": "8c60c249-c4f3-4c34-b8d9-d0030d46e380"
      },
      "execution_count": 17,
      "outputs": [
        {
          "output_type": "display_data",
          "data": {
            "text/plain": [
              "<Figure size 640x480 with 1 Axes>"
            ],
            "image/png": "[encoded data removed]"
          },
          "metadata": {}
        }
      ]
    },
    {
      "cell_type": "code",
      "source": [
        "from skimage.filters import unsharp_mask\n",
        "\n",
        "image = train[0]\n",
        "result_1 = unsharp_mask(image, radius=1, # sigma for gaussian filer\n",
        "                        amount=1, # amplification of filtering\n",
        "                        preserve_range=True) # preserve original value range\n",
        "result_2 = unsharp_mask(image, radius=5, amount=2, preserve_range=True)\n",
        "result_3 = unsharp_mask(image, radius=20, amount=1, preserve_range=True)\n",
        "\n",
        "fig, axes = plt.subplots(nrows=2, ncols=2,\n",
        "                         sharex=True, sharey=True, figsize=(10, 10))\n",
        "ax = axes.ravel()\n",
        "\n",
        "ax[0].imshow(image, cmap=plt.cm.gray)\n",
        "ax[0].set_title('Original image')\n",
        "ax[1].imshow(result_1, cmap=plt.cm.gray)\n",
        "ax[1].set_title('Enhanced image, radius=1, amount=1.0')\n",
        "ax[2].imshow(result_2, cmap=plt.cm.gray)\n",
        "ax[2].set_title('Enhanced image, radius=5, amount=2.0')\n",
        "ax[3].imshow(result_3, cmap=plt.cm.gray)\n",
        "ax[3].set_title('Enhanced image, radius=20, amount=1.0')\n",
        "\n",
        "for a in ax:\n",
        "    a.axis('off')\n",
        "fig.tight_layout()\n",
        "plt.show()"
      ],
      "metadata": {
        "colab": {
          "base_uri": "https://localhost:8080/"
        },
        "id": "jnPxEBl8hoBc",
        "outputId": "464a9301-012d-44a7-f768-30d75dfb231f"
      },
      "execution_count": 18,
      "outputs": [
        {
          "output_type": "execute_result",
          "data": {
            "text/plain": [
              "(48, 48)"
            ]
          },
          "metadata": {},
          "execution_count": 18
        }
      ]
    },
    {
      "cell_type": "markdown",
      "source": [
        "#### High-Pass Filtering (Laplacian Sharpening)\n",
        "The Laplacian filter enhances edges and is a simple yet effective sharpening method."
      ],
      "metadata": {
        "id": "JlHvJ_vn6cDJ"
      }
    },
    {
      "cell_type": "code",
      "source": [
        "import cv2\n",
        "\n",
        "def laplacian_sharpen(image):\n",
        "    # Apply Laplacian filter for edge enhancement\n",
        "    laplacian = cv2.Laplacian(image, cv2.CV_64F)\n",
        "\n",
        "    # Convert back to uint8 and ensure pixel values are in the valid range [0, 255]\n",
        "    sharpened_image = cv2.convertScaleAbs(image - laplacian)\n",
        "\n",
        "    return sharpened_image\n",
        "\n",
        "image = train[0]\n",
        "\n",
        "# Apply Laplacian sharpening\n",
        "sharpened_image = laplacian_sharpen(image)\n",
        "\n",
        "plt.imshow(sharpened_image, cmap='gray')\n",
        "plt.axis('off')  # Turn off axis labels\n",
        "plt.show()\n"
      ],
      "metadata": {
        "colab": {
          "base_uri": "https://localhost:8080/",
          "height": 405
        },
        "id": "NU54Yoi96f09",
        "outputId": "718ac613-281b-4faa-a2fc-0629855fc2e0"
      },
      "execution_count": 19,
      "outputs": [
        {
          "output_type": "display_data",
          "data": {
            "text/plain": [
              "<Figure size 640x480 with 1 Axes>"
            ],
            "image/png": "[encoded data removed]"
          },
          "metadata": {}
        }
      ]
    },
    {
      "cell_type": "markdown",
      "source": [
        "### Data Augmentation\n",
        "Considering the sample size of our training data, augmenting the images by rotating, scaling, and other approaches seems like a useful approach to increase our training data and provide more input for any ML algorithm to learn from. In addition to this, the high-dimensionality of image data will also lead to a need of as much training data as possible."
      ],
      "metadata": {
        "id": "fI_wd54uRkcm"
      }
    },
    {
      "cell_type": "code",
      "source": [],
      "metadata": {
        "id": "GWGobQyXSLhk"
      },
      "execution_count": 19,
      "outputs": []
    },
    {
      "cell_type": "markdown",
      "source": [
        "### Feature Descriptors\n",
        "e.g. HOG features, HOF features or MBH features\n",
        "We will create those features based on the original train data and merge them into the flattened array.\n"
      ],
      "metadata": {
        "id": "mEz6i5fzjJEf"
      }
    },
    {
      "cell_type": "markdown",
      "source": [
        "#### Histogram of Oriented Gradients (HOG)\n",
        "This feature descriptor is effective for capturing the shape and texture information of objects in images. Hence this is expected to provide useful information for the detection of an emotional state.\n",
        "\n",
        "\n"
      ],
      "metadata": {
        "id": "lz1iExf5EufF"
      }
    },
    {
      "cell_type": "code",
      "source": [
        "# show on first picture\n",
        "feats, hog1 = hog(full_data[0], orientations= 8, pixels_per_cell=(8, 8), cells_per_block=(1, 1), visualize=True)\n",
        "fig, (axes1, axes2) = plt.subplots(1, 2, figsize=(15, 10), sharex=True, sharey=True)\n",
        "axes1.axis('off'), axes1.imshow(train[0], cmap='gray'), axes1.set_title('Input image')\n",
        "axes2.axis('off'), axes2.imshow(hog1, cmap='gray'), axes2.set_title('Histogram of Oriented Gradients')\n",
        "plt.show()"
      ],
      "metadata": {
        "colab": {
          "base_uri": "https://localhost:8080/",
          "height": 587
        },
        "id": "6IMltvpN6XaM",
        "outputId": "fc9f31cd-3933-46ac-838e-bf33c2d0ca6b"
      },
      "execution_count": 20,
      "outputs": [
        {
          "output_type": "display_data",
          "data": {
            "text/plain": [
              "<Figure size 1500x1000 with 2 Axes>"
            ],
            "image/png": "[encoded data removed]"
          },
          "metadata": {}
        }
      ]
    },
    {
      "cell_type": "code",
      "source": [
        "feats.shape"
      ],
      "metadata": {
        "colab": {
          "base_uri": "https://localhost:8080/"
        },
        "id": "ZDqr-gZD_Fdo",
        "outputId": "e1729398-ae14-4813-d206-001cf58edeca"
      },
      "execution_count": 21,
      "outputs": [
        {
          "output_type": "execute_result",
          "data": {
            "text/plain": [
              "(288,)"
            ]
          },
          "metadata": {},
          "execution_count": 21
        }
      ]
    },
    {
      "cell_type": "markdown",
      "source": [
        "Creating HOG descriptors with the above arguments would create 288 additional features for each picture. We'll create a function to extract the HOG descriptors, apply it to each picture and merge the output features with the flattened data."
      ],
      "metadata": {
        "id": "tNmM4eIQCjF3"
      }
    },
    {
      "cell_type": "code",
      "source": [
        "def hog_image(image: np.array):\n",
        "    \"\"\"Apply Histogram of Oriented Gradients (HOG) and return the image as a flattened vector.\"\"\"\n",
        "    features = hog(image, orientations=8, pixels_per_cell=(8, 8), cells_per_block=(1, 1), visualize=False)\n",
        "    return features"
      ],
      "metadata": {
        "id": "CD2GWrz_DT4y"
      },
      "execution_count": 22,
      "outputs": []
    },
    {
      "cell_type": "code",
      "source": [
        "# extract HOG features for each image in training data\n",
        "hog_features = [hog_image(image) for image in train_data]\n",
        "hog_features_array = np.array(hog_features) # convert to array\n",
        "train_hog = np.hstack((train_data_flat, hog_features_array)) # merge into other data\n",
        "\n",
        "# extract HOG features for each image in validation data\n",
        "hog_features = [hog_image(image) for image in val_data]\n",
        "hog_features_array = np.array(hog_features) # convert to array\n",
        "val_hog = np.hstack((val_data_flat, hog_features_array)) # merge into other data\n",
        "\n",
        "# extract HOG features for each image in test data\n",
        "hog_features = [hog_image(image) for image in test]\n",
        "hog_features_array = np.array(hog_features) # convert to array\n",
        "test_hog = np.hstack((test_data_flat, hog_features_array)) # merge into other data"
      ],
      "metadata": {
        "id": "Rs-XfiQMHFVW"
      },
      "execution_count": 23,
      "outputs": []
    },
    {
      "cell_type": "code",
      "source": [
        "# show dimensions\n",
        "print(f'The data dimensions incl. HOG features are \\n'\n",
        "      f'train: \\t\\t{train_hog.shape} \\n'\n",
        "      f'validation: \\t{val_hog.shape} \\n'\n",
        "      f'test: \\t\\t{test_hog.shape} \\n')"
      ],
      "metadata": {
        "colab": {
          "base_uri": "https://localhost:8080/"
        },
        "id": "BQIQFdfLHj97",
        "outputId": "7a84f508-875c-44a9-acc8-add6fde349b6"
      },
      "execution_count": 24,
      "outputs": [
        {
          "output_type": "stream",
          "name": "stdout",
          "text": [
            "The data dimensions incl. HOG features are \n",
            "train: \t\t(8861, 2592) \n",
            "validation: \t(467, 2592) \n",
            "test: \t\t(1136, 2592) \n",
            "\n"
          ]
        }
      ]
    },
    {
      "cell_type": "markdown",
      "source": [
        "We can see above that the 288 HOG features have been added to the raw data."
      ],
      "metadata": {
        "id": "pqAal01pHqMD"
      }
    },
    {
      "cell_type": "markdown",
      "source": [
        "#### Harris Corner Detector\n",
        "This descriptor identifies points in an image where the intensity or color changes significantly in multiple directions, indicating the presence of corners, junctions, or key features/objects. Different emotions might manifest as distinct patterns of facial features in different regions of the face which should then be detected in similar regions across images for the same emotions.\n",
        "\n",
        "\n",
        "\n"
      ],
      "metadata": {
        "id": "oONPXVilONwk"
      }
    },
    {
      "cell_type": "code",
      "source": [
        "# show corners for first picture\n",
        "coordinates = corner_harris(full_data[0], k=0.001) # compute harris corner\n",
        "corner_mask = coordinates > 0.1 * coordinates.max() # set condition mask for corner candidates\n",
        "marked_image = np.copy(full_data[0]) # copy image before color set\n",
        "marked_image[corner_mask] = 255\n",
        "\n",
        "# display the marked image\n",
        "plt.figure(figsize=(20, 10))\n",
        "plt.imshow(marked_image)\n",
        "plt.axis('off')\n",
        "plt.show()"
      ],
      "metadata": {
        "colab": {
          "base_uri": "https://localhost:8080/",
          "height": 807
        },
        "id": "Jkz-kwqmT3eW",
        "outputId": "7ac48ec7-bae8-4439-f0ea-aa42d67e9fc3"
      },
      "execution_count": 25,
      "outputs": [
        {
          "output_type": "display_data",
          "data": {
            "text/plain": [
              "<Figure size 2000x1000 with 1 Axes>"
            ],
            "image/png": "[encoded data removed]"
          },
          "metadata": {}
        }
      ]
    },
    {
      "cell_type": "code",
      "source": [
        "# show how many corners there are in the picture given a minimum distance constraint\n",
        "corner_coordinates = corner_peaks(coordinates, min_distance=2)\n",
        "corner_coordinates.shape"
      ],
      "metadata": {
        "colab": {
          "base_uri": "https://localhost:8080/"
        },
        "id": "Qg46fqMgbV75",
        "outputId": "be9cd43c-c516-4e29-a192-dc8176c6f029"
      },
      "execution_count": 26,
      "outputs": [
        {
          "output_type": "execute_result",
          "data": {
            "text/plain": [
              "(14, 2)"
            ]
          },
          "metadata": {},
          "execution_count": 26
        }
      ]
    },
    {
      "cell_type": "markdown",
      "source": [
        "We will now apply the Harris Corner Detector on all images in our training data. However, each picture will likely return a different number of corners which would be difficult to incorporate into the training data. Hence we will partition each image into a grid and count the number of corners in each region of the grid for each image which will give us a fixed sized number of features with counts for each image. This can then be used as ML input as the difference of corner occurrences in each image region will be measurable across images."
      ],
      "metadata": {
        "id": "VzZ-hORYeY5k"
      }
    },
    {
      "cell_type": "code",
      "source": [
        "def harris_corners(image: np.array, num_regions_x: int, num_regions_y: int):\n",
        "    \"\"\"\n",
        "    Apply Harris Corner Detector and return the corners as well as region-based corner counts.\n",
        "    \"\"\"\n",
        "    coordinates = corner_harris(image, k=0.001) # harris corners\n",
        "    corners = corner_peaks(coordinates, min_distance=1)\n",
        "    region_counts = np.zeros((num_regions_x, num_regions_y), dtype=int) # empty array to populate\n",
        "\n",
        "    # calculate region size\n",
        "    region_height = image.shape[0] // num_regions_x\n",
        "    region_width = image.shape[1] // num_regions_y\n",
        "\n",
        "    # count corners in each region\n",
        "    for corner in corners:\n",
        "        region_x = min(corner[0] // region_height, num_regions_x - 1)\n",
        "        region_y = min(corner[1] // region_width, num_regions_y - 1)\n",
        "        region_counts[region_x, region_y] += 1 # increase count in respective region\n",
        "\n",
        "    return region_counts"
      ],
      "metadata": {
        "id": "rbru5F43j4A7"
      },
      "execution_count": 27,
      "outputs": []
    },
    {
      "cell_type": "code",
      "source": [
        "# apply harris corner extraction on training data\n",
        "region_train = [harris_corners(image, num_regions_x=4, num_regions_y=4) for image in train_data]\n",
        "region_train_flat = [array.flatten() for array in region_train] # flatten arrays into vectors\n",
        "region_train_flat_np = np.array(region_train_flat) # convert to numpy\n",
        "\n",
        "# apply harris corner extraction on validation data\n",
        "region_val = [harris_corners(image, num_regions_x=4, num_regions_y=4) for image in val_data]\n",
        "region_val_flat = [array.flatten() for array in region_val] # flatten arrays into vectors\n",
        "region_val_flat_np = np.array(region_val_flat) # convert to numpy\n",
        "\n",
        "# apply harris corner extraction on test data\n",
        "region_test = [harris_corners(image, num_regions_x=4, num_regions_y=4) for image in test]\n",
        "region_test_flat = [array.flatten() for array in region_test] # flatten arrays into vectors\n",
        "region_test_flat_np = np.array(region_test_flat) # convert to numpy"
      ],
      "metadata": {
        "id": "jZ7vGyV3n6yQ"
      },
      "execution_count": 28,
      "outputs": []
    },
    {
      "cell_type": "code",
      "source": [
        "# apply scaling on individual datasets\n",
        "scaler = MinMaxScaler()\n",
        "norm_regions_train = scaler.fit_transform(region_train_flat_np) # fit scaling parameters on training data\n",
        "norm_regions_val = scaler.transform(region_val_flat_np) # transform validation data\n",
        "norm_regions_test = scaler.transform(region_test_flat_np) # transform test data\n",
        "\n",
        "# merge corner features with other data respectively\n",
        "train_hog_corner = np.hstack((train_hog, norm_regions_train))\n",
        "val_hog_corner = np.hstack((val_hog, norm_regions_val))\n",
        "test_hog_corner = np.hstack((test_hog, norm_regions_test))"
      ],
      "metadata": {
        "id": "Hb17962X5an7"
      },
      "execution_count": 29,
      "outputs": []
    },
    {
      "cell_type": "code",
      "source": [
        "# show dimensions\n",
        "print(f'The data dimensions incl. HOG & corner features are \\n'\n",
        "      f'train: \\t\\t{train_hog_corner.shape} \\n'\n",
        "      f'validation:\\t {val_hog_corner.shape} \\n'\n",
        "      f'test: \\t\\t{test_hog_corner.shape} \\n')"
      ],
      "metadata": {
        "colab": {
          "base_uri": "https://localhost:8080/"
        },
        "outputId": "feda261e-6d31-4f2a-8f2e-55c890776405",
        "id": "5jOV2G64kVtU"
      },
      "execution_count": 30,
      "outputs": [
        {
          "output_type": "stream",
          "name": "stdout",
          "text": [
            "The data dimensions incl. HOG & corner features are \n",
            "train: \t\t(8861, 2608) \n",
            "validation:\t (467, 2608) \n",
            "test: \t\t(1136, 2608) \n",
            "\n"
          ]
        }
      ]
    },
    {
      "cell_type": "markdown",
      "source": [
        "The Harris Corner features have been added. Basically, there are now 16 additional features for each image which show a distribution of corner counts for the same subregions of all images. Since these corners are relevant points in an image, they are expected to help a ML classifier identifying similar emotions across different images."
      ],
      "metadata": {
        "id": "X0Oj2rMk8Fle"
      }
    },
    {
      "cell_type": "markdown",
      "source": [
        "#### Local Binary Patterns (LBP)\n",
        "The goal of LBP is to encode geometric features of an image by detecting edges, corners, raised or flat areas and hard lines. This allows us to generate a feature vector representation of an image through density function representations which can then be used as input for ML models.\n",
        "In this case, we will use a uniform method to preserve rotation invariance. First, we extract the binary patterns for each image. Second, we calculate the histogram of LBP values for each image. Third, we normalize these values and, fourth, concatenate these into a vector of feature per image which can then be concatenated to the full data."
      ],
      "metadata": {
        "id": "PGA0__Jd6KOO"
      }
    },
    {
      "cell_type": "code",
      "source": [
        "def lbp_extraction(image_data: np.array, radius: int, neighbors: int, method='uniform'):\n",
        "\n",
        "  lbp_histograms = [] # empty list to store histograms\n",
        "\n",
        "  # apply binary pattern extraction and histogram for each image\n",
        "  n_points = neighbors * radius\n",
        "  for image in image_data:\n",
        "    # get pattern\n",
        "    binary_image_pattern = local_binary_pattern(image, method=method, R=radius, P=n_points)\n",
        "\n",
        "    # get histogram\n",
        "    n_bins = int(binary_image_pattern.max() + 1) # number of bins\n",
        "    hist, _ = np.histogram(binary_image_pattern.ravel(), bins=n_bins, range=(0, n_bins))\n",
        "    lbp_histograms.append(hist) # append to list\n",
        "\n",
        "  return lbp_histograms"
      ],
      "metadata": {
        "id": "0rYLEfHG_Ljo"
      },
      "execution_count": 31,
      "outputs": []
    },
    {
      "cell_type": "markdown",
      "source": [
        "Now we can apply the above function which does the job for tasks 1 and 2 outlined before. Then we will standardize the outputs on train, validation, and test set separately."
      ],
      "metadata": {
        "id": "dGE59dyXdkri"
      }
    },
    {
      "cell_type": "code",
      "source": [
        "# extract LBP patterns and histograms on training data\n",
        "lbp_train = lbp_extraction(train_data, radius=1, neighbors=8)\n",
        "\n",
        "# extract LBP patterns and histograms on validation data\n",
        "lbp_val = lbp_extraction(val_data, radius=1, neighbors=8)\n",
        "\n",
        "# extract LBP patterns and histograms on test data\n",
        "lbp_test = lbp_extraction(test, radius=1, neighbors=8)"
      ],
      "metadata": {
        "id": "UHb7A00_o-5Z"
      },
      "execution_count": 32,
      "outputs": []
    },
    {
      "cell_type": "code",
      "source": [
        "# apply scaling on individual datasets\n",
        "scaler = MinMaxScaler()\n",
        "norm_lbp_train = scaler.fit_transform(lbp_train) # fit scaling parameters on training data\n",
        "norm_lbp_val = scaler.transform(lbp_val) # transform validation data\n",
        "norm_lbp_test = scaler.transform(lbp_test) # transform test data\n",
        "\n",
        "# merge corner features with other data respectively\n",
        "train_hog_corner_lbp = np.hstack((train_hog_corner, norm_lbp_train))\n",
        "val_hog_corner_lbp = np.hstack((val_hog_corner, norm_lbp_val))\n",
        "test_hog_corner_lbp = np.hstack((test_hog_corner, norm_lbp_test))"
      ],
      "metadata": {
        "id": "eABCYg17o-5e"
      },
      "execution_count": 33,
      "outputs": []
    },
    {
      "cell_type": "code",
      "source": [
        "# show dimensions\n",
        "print(f'The data dimensions incl. HOG, corner & LBP features are \\n'\n",
        "      f'train: \\t\\t{train_hog_corner_lbp.shape} \\n'\n",
        "      f'validation: \\t{val_hog_corner_lbp.shape} \\n'\n",
        "      f'test: \\t\\t{test_hog_corner_lbp.shape} \\n')"
      ],
      "metadata": {
        "colab": {
          "base_uri": "https://localhost:8080/"
        },
        "id": "oxyafg_3tHNM",
        "outputId": "f0dedad8-86f6-4002-87c2-6e3aa36b212b"
      },
      "execution_count": 34,
      "outputs": [
        {
          "output_type": "stream",
          "name": "stdout",
          "text": [
            "The data dimensions incl. HOG, corner & LBP features are \n",
            "train: \t\t(8861, 2618) \n",
            "validation: \t(467, 2618) \n",
            "test: \t\t(1136, 2618) \n",
            "\n"
          ]
        }
      ]
    },
    {
      "cell_type": "markdown",
      "source": [
        "#### Canny Edge Detector\n",
        "We will use the Canny edge detection algorithm as it produces smoother, thinner, and cleaner images than Sobel and Prewitt filters.\n",
        "\n"
      ],
      "metadata": {
        "id": "UcH5WW81UMqs"
      }
    },
    {
      "cell_type": "markdown",
      "source": [
        "We will try different parameter specifications including gaussian blurring as a first step on the first image of the training data to get a feeling for reasonable parameter values edge detection. Then we will apply it on our whole data.\n",
        "\n"
      ],
      "metadata": {
        "id": "5u3i4Swfylxw"
      }
    },
    {
      "cell_type": "code",
      "source": [
        "# apply gaussian blur\n",
        "image = ndi.gaussian_filter(train[0], sigma=1)\n",
        "\n",
        "# compute canny filter for two values of sigma\n",
        "edges1 = canny(image, sigma=1)\n",
        "edges2 = canny(image, sigma=2)\n",
        "edges3 = canny(image, sigma=3)\n",
        "\n",
        "# display results\n",
        "fig, ax = plt.subplots(nrows=1, ncols=4, figsize=(12, 3))\n",
        "\n",
        "ax[0].imshow(image, cmap='gray') # blurred image\n",
        "ax[0].set_title('noisy image', fontsize=20)\n",
        "\n",
        "ax[1].imshow(edges1, cmap='gray')\n",
        "ax[1].set_title(r'Canny filter, $\\sigma=1$', fontsize=20)\n",
        "\n",
        "ax[2].imshow(edges2, cmap='gray')\n",
        "ax[2].set_title(r'Canny filter, $\\sigma=2$', fontsize=20)\n",
        "\n",
        "ax[3].imshow(edges3, cmap='gray')\n",
        "ax[3].set_title(r'Canny filter, $\\sigma=3$', fontsize=20)\n",
        "\n",
        "for a in ax:\n",
        "    a.axis('off')\n",
        "\n",
        "fig.tight_layout()\n",
        "plt.show()"
      ],
      "metadata": {
        "id": "BWqeBIUjUNyP",
        "colab": {
          "base_uri": "https://localhost:8080/",
          "height": 320
        },
        "outputId": "e268997b-65aa-494d-9c23-7dfb3d5ee1ad"
      },
      "execution_count": null,
      "outputs": [
        {
          "output_type": "display_data",
          "data": {
            "text/plain": [
              "<Figure size 1200x300 with 4 Axes>"
            ],
            "image/png": "[encoded data removed]"
          },
          "metadata": {}
        }
      ]
    },
    {
      "cell_type": "code",
      "source": [
        "\n",
        "# apply gaussian blur\n",
        "#image = ndi.gaussian_filter(sharpened_image, sigma=1)\n",
        "image = sharpened_image\n",
        "\n",
        "# compute canny filter for two values of sigma\n",
        "edges1 = canny(image, sigma=1)\n",
        "edges2 = canny(image, sigma=2)\n",
        "edges3 = canny(image, sigma=3)\n",
        "\n",
        "# display results\n",
        "fig, ax = plt.subplots(nrows=1, ncols=4, figsize=(12, 3))\n",
        "\n",
        "ax[0].imshow(image, cmap='gray') # blurred image\n",
        "ax[0].set_title('noisy image', fontsize=20)\n",
        "\n",
        "ax[1].imshow(edges1, cmap='gray')\n",
        "ax[1].set_title(r'Canny filter, $\\sigma=1$', fontsize=20)\n",
        "\n",
        "ax[2].imshow(edges2, cmap='gray')\n",
        "ax[2].set_title(r'Canny filter, $\\sigma=2$', fontsize=20)\n",
        "\n",
        "ax[3].imshow(edges3, cmap='gray')\n",
        "ax[3].set_title(r'Canny filter, $\\sigma=3$', fontsize=20)\n",
        "\n",
        "for a in ax:\n",
        "    a.axis('off')\n",
        "\n",
        "fig.tight_layout()\n",
        "plt.show()"
      ],
      "metadata": {
        "colab": {
          "base_uri": "https://localhost:8080/",
          "height": 320
        },
        "id": "9HPh6ao5iwcZ",
        "outputId": "7fa2bcab-7621-4c21-fcc2-16dff0bf1bd6"
      },
      "execution_count": null,
      "outputs": [
        {
          "output_type": "display_data",
          "data": {
            "text/plain": [
              "<Figure size 1200x300 with 4 Axes>"
            ],
            "image/png": "[encoded data removed]"
          },
          "metadata": {}
        }
      ]
    },
    {
      "cell_type": "markdown",
      "source": [
        "Different parameter variations have been tried, including incorporation of random noise in addition to gaussian blur. In the end, both a gaussian blur and the canny filter with σ=1 seemed like the most reasonable parameter choice as the edges showed the main characteristics of the corresponding emotion the most. Now we will apply the edge detection on all images."
      ],
      "metadata": {
        "id": "LdutffJjOK9P"
      }
    },
    {
      "cell_type": "code",
      "source": [
        "def edge_detection(images: np.array, sigma_gauss: float, sigma_canny: float):\n",
        "  \"\"\"\n",
        "  This function applies edge detection on images in an array of images and returns\n",
        "  a binary feature vector of 0 and 1 determining where edges are present or not.\n",
        "  \"\"\"\n",
        "  edges = [] # empty list to append edge vectors to\n",
        "\n",
        "  for image in images: # get index and image\n",
        "    blurred = ndi.gaussian_filter(image, sigma=1) # apply gaussian blur\n",
        "    edged = canny(blurred, sigma=1) # apply edge detection\n",
        "    edged_flat = edged.flatten()\n",
        "    edged_binary = edged_flat.astype(int) # transform true/false to 1/0\n",
        "    edges.append(edged_binary) # append edge vector\n",
        "\n",
        "  edges = np.array(edges) # transform to numpy array\n",
        "\n",
        "  return edges"
      ],
      "metadata": {
        "id": "t0XMv5-FQQIB"
      },
      "execution_count": null,
      "outputs": []
    },
    {
      "cell_type": "code",
      "source": [
        "# apply edge detection on training data\n",
        "edge_train = edge_detection(train_data, sigma_gauss=1, sigma_canny=1)\n",
        "\n",
        "# apply edge detection on validation data\n",
        "edge_val = edge_detection(val_data, sigma_gauss=1, sigma_canny=1)\n",
        "\n",
        "# apply edge detection on test data\n",
        "edge_test = edge_detection(test, sigma_gauss=1, sigma_canny=1)"
      ],
      "metadata": {
        "id": "X68RevE_Xb41"
      },
      "execution_count": null,
      "outputs": []
    },
    {
      "cell_type": "code",
      "source": [
        "# merge corner features with other data respectively\n",
        "train_hog_corner_lbp_canny = np.hstack((train_hog_corner_lbp, edge_train))\n",
        "val_hog_corner_lbp_canny = np.hstack((val_hog_corner_lbp, edge_val))\n",
        "test_hog_corner_lbp_canny = np.hstack((test_hog_corner_lbp, edge_test))"
      ],
      "metadata": {
        "id": "n-Eh7lXdXb43"
      },
      "execution_count": null,
      "outputs": []
    },
    {
      "cell_type": "code",
      "source": [
        "# show dimensions\n",
        "print(f'The data dimensions incl. HOG, corner & LBP features are \\n'\n",
        "      f'train: \\t\\t{train_hog_corner_lbp_canny.shape} \\n'\n",
        "      f'validation: \\t{val_hog_corner_lbp_canny.shape} \\n'\n",
        "      f'test: \\t\\t{test_hog_corner_lbp_canny.shape} \\n')"
      ],
      "metadata": {
        "colab": {
          "base_uri": "https://localhost:8080/"
        },
        "outputId": "346a7db7-b92c-4886-9e81-963fcd46c139",
        "id": "pYFvQD2LXb44"
      },
      "execution_count": null,
      "outputs": [
        {
          "output_type": "stream",
          "name": "stdout",
          "text": [
            "The data dimensions incl. HOG, corner & LBP features are \n",
            "train: \t\t(8861, 4922) \n",
            "validation: \t(467, 4922) \n",
            "test: \t\t(1136, 4922) \n",
            "\n"
          ]
        }
      ]
    },
    {
      "cell_type": "markdown",
      "source": [
        "## Raw Data ML Model"
      ],
      "metadata": {
        "id": "RAt0s3PJIEVt"
      }
    },
    {
      "cell_type": "markdown",
      "source": [
        "### Support Vector Machine"
      ],
      "metadata": {
        "id": "bAU2CQRxpQqS"
      }
    },
    {
      "cell_type": "code",
      "source": [
        "svm_clf = SVC(kernel='rbf', C=1.0) # initialise instance\n",
        "cv = StratifiedKFold(n_splits=5, shuffle=True, random_state=42) # use cross validation\n",
        "scores = cross_val_score(svm_clf, train_data_flat, train_labels, cv=cv, scoring='accuracy') # evaluate\n",
        "svm_clf.fit(train_data_flat, train_labels) # fit classifier on full data again\n",
        "y_pred = svm_clf.predict(val_data_flat) # predict using validation data\n",
        "accuracy = accuracy_score(val_labels, y_pred) # calculate prediction accuracy"
      ],
      "metadata": {
        "id": "gm-RhnXGIINc"
      },
      "execution_count": null,
      "outputs": []
    },
    {
      "cell_type": "code",
      "source": [
        "# print cross-validation scores and final accuracy\n",
        "print(f'Cross-Validation Scores: \\t\\t\\t{scores}')\n",
        "print(f'Average Cross-Validation Accuracy: \\t\\t{np.mean(scores):.2%}')\n",
        "print(f'Cross-Validation Accuracy Standard Deviation: \\t{np.std(scores):.2%}')\n",
        "print(f'Final Accuracy on Validation Data: \\t\\t{accuracy:.2%}')"
      ],
      "metadata": {
        "colab": {
          "base_uri": "https://localhost:8080/"
        },
        "id": "Tc3EEEI5Pf99",
        "outputId": "5aabcb6b-ea5c-41bc-8c49-59542e8fb908"
      },
      "execution_count": null,
      "outputs": [
        {
          "output_type": "stream",
          "name": "stdout",
          "text": [
            "Cross-Validation Scores: \t\t\t[0.5036661  0.50677201 0.51297968 0.50282167 0.51354402]\n",
            "Average Cross-Validation Accuracy: \t\t50.80%\n",
            "Cross-Validation Accuracy Standard Deviation: \t0.45%\n",
            "Final Accuracy on Validation Data: \t\t54.39%\n"
          ]
        }
      ]
    },
    {
      "cell_type": "code",
      "source": [
        "# predict on test data\n",
        "y_pred_test = svm_clf.predict(test_data_flat)\n",
        "\n",
        "# define test file for kaggle\n",
        "test_id = np.arange(0, 1136, 1)\n",
        "pred_file = pd.DataFrame({\"ID\":test_id, \"Predictions\": y_pred_test})\n",
        "pred_file.to_csv(\"Predictions/46165991-conv-svm-raw.csv\", index=False, header=True)\n",
        "pred_file.head(5)"
      ],
      "metadata": {
        "colab": {
          "base_uri": "https://localhost:8080/",
          "height": 201
        },
        "id": "sdkVLcBm8eZ3",
        "outputId": "4c8e6d5d-7277-4109-eee6-6e487251773a"
      },
      "execution_count": null,
      "outputs": [
        {
          "output_type": "execute_result",
          "data": {
            "text/plain": [
              "   ID  Predictions\n",
              "0   0            3\n",
              "1   1            3\n",
              "2   2            2\n",
              "3   3            0\n",
              "4   4            6"
            ],
            "text/html": [
              "\n",
              "  <div id=\"df-670b4c7b-af6d-435f-ab6b-4500f9c96f75\" class=\"colab-df-container\">\n",
              "    <div>\n",
              "<style scoped>\n",
              "    .dataframe tbody tr th:only-of-type {\n",
              "        vertical-align: middle;\n",
              "    }\n",
              "\n",
              "    .dataframe tbody tr th {\n",
              "        vertical-align: top;\n",
              "    }\n",
              "\n",
              "    .dataframe thead th {\n",
              "        text-align: right;\n",
              "    }\n",
              "</style>\n",
              "<table border=\"1\" class=\"dataframe\">\n",
              "  <thead>\n",
              "    <tr style=\"text-align: right;\">\n",
              "      <th></th>\n",
              "      <th>ID</th>\n",
              "      <th>Predictions</th>\n",
              "    </tr>\n",
              "  </thead>\n",
              "  <tbody>\n",
              "    <tr>\n",
              "      <th>0</th>\n",
              "      <td>0</td>\n",
              "      <td>3</td>\n",
              "    </tr>\n",
              "    <tr>\n",
              "      <th>1</th>\n",
              "      <td>1</td>\n",
              "      <td>3</td>\n",
              "    </tr>\n",
              "    <tr>\n",
              "      <th>2</th>\n",
              "      <td>2</td>\n",
              "      <td>2</td>\n",
              "    </tr>\n",
              "    <tr>\n",
              "      <th>3</th>\n",
              "      <td>3</td>\n",
              "      <td>0</td>\n",
              "    </tr>\n",
              "    <tr>\n",
              "      <th>4</th>\n",
              "      <td>4</td>\n",
              "      <td>6</td>\n",
              "    </tr>\n",
              "  </tbody>\n",
              "</table>\n",
              "</div>\n",
              "    <div class=\"colab-df-buttons\">\n",
              "\n",
              "  <div class=\"colab-df-container\">\n",
              "    <button class=\"colab-df-convert\" onclick=\"convertToInteractive('df-670b4c7b-af6d-435f-ab6b-4500f9c96f75')\"\n",
              "            title=\"Convert this dataframe to an interactive table.\"\n",
              "            style=\"display:none;\">\n",
              "\n",
              "  <svg xmlns=\"http://www.w3.org/2000/svg\" height=\"24px\" viewBox=\"0 -960 960 960\">\n",
              "    <path d=\"M120-120v-720h720v720H120Zm60-500h600v-160H180v160Zm220 220h160v-160H400v160Zm0 220h160v-160H400v160ZM180-400h160v-160H180v160Zm440 0h160v-160H620v160ZM180-180h160v-160H180v160Zm440 0h160v-160H620v160Z\"/>\n",
              "  </svg>\n",
              "    </button>\n",
              "\n",
              "  <style>\n",
              "    .colab-df-container {\n",
              "      display:flex;\n",
              "      gap: 12px;\n",
              "    }\n",
              "\n",
              "    .colab-df-convert {\n",
              "      background-color: #E8F0FE;\n",
              "      border: none;\n",
              "      border-radius: 50%;\n",
              "      cursor: pointer;\n",
              "      display: none;\n",
              "      fill: #1967D2;\n",
              "      height: 32px;\n",
              "      padding: 0 0 0 0;\n",
              "      width: 32px;\n",
              "    }\n",
              "\n",
              "    .colab-df-convert:hover {\n",
              "      background-color: #E2EBFA;\n",
              "      box-shadow: 0px 1px 2px rgba(60, 64, 67, 0.3), 0px 1px 3px 1px rgba(60, 64, 67, 0.15);\n",
              "      fill: #174EA6;\n",
              "    }\n",
              "\n",
              "    .colab-df-buttons div {\n",
              "      margin-bottom: 4px;\n",
              "    }\n",
              "\n",
              "    [theme=dark] .colab-df-convert {\n",
              "      background-color: #3B4455;\n",
              "      fill: #D2E3FC;\n",
              "    }\n",
              "\n",
              "    [theme=dark] .colab-df-convert:hover {\n",
              "      background-color: #434B5C;\n",
              "      box-shadow: 0px 1px 3px 1px rgba(0, 0, 0, 0.15);\n",
              "      filter: drop-shadow(0px 1px 2px rgba(0, 0, 0, 0.3));\n",
              "      fill: #FFFFFF;\n",
              "    }\n",
              "  </style>\n",
              "\n",
              "    <script>\n",
              "      const buttonEl =\n",
              "        document.querySelector('#df-670b4c7b-af6d-435f-ab6b-4500f9c96f75 button.colab-df-convert');\n",
              "      buttonEl.style.display =\n",
              "        google.colab.kernel.accessAllowed ? 'block' : 'none';\n",
              "\n",
              "      async function convertToInteractive(key) {\n",
              "        const element = document.querySelector('#df-670b4c7b-af6d-435f-ab6b-4500f9c96f75');\n",
              "        const dataTable =\n",
              "          await google.colab.kernel.invokeFunction('convertToInteractive',\n",
              "                                                    [key], {});\n",
              "        if (!dataTable) return;\n",
              "\n",
              "        const docLinkHtml = 'Like what you see? Visit the ' +\n",
              "          '<a target=\"_blank\" href=https://colab.research.google.com/notebooks/data_table.ipynb>data table notebook</a>'\n",
              "          + ' to learn more about interactive tables.';\n",
              "        element.innerHTML = '';\n",
              "        dataTable['output_type'] = 'display_data';\n",
              "        await google.colab.output.renderOutput(dataTable, element);\n",
              "        const docLink = document.createElement('div');\n",
              "        docLink.innerHTML = docLinkHtml;\n",
              "        element.appendChild(docLink);\n",
              "      }\n",
              "    </script>\n",
              "  </div>\n",
              "\n",
              "\n",
              "<div id=\"df-faf03f60-e05c-494a-8ffd-ff05108e4330\">\n",
              "  <button class=\"colab-df-quickchart\" onclick=\"quickchart('df-faf03f60-e05c-494a-8ffd-ff05108e4330')\"\n",
              "            title=\"Suggest charts.\"\n",
              "            style=\"display:none;\">\n",
              "\n",
              "<svg xmlns=\"http://www.w3.org/2000/svg\" height=\"24px\"viewBox=\"0 0 24 24\"\n",
              "     width=\"24px\">\n",
              "    <g>\n",
              "        <path d=\"M19 3H5c-1.1 0-2 .9-2 2v14c0 1.1.9 2 2 2h14c1.1 0 2-.9 2-2V5c0-1.1-.9-2-2-2zM9 17H7v-7h2v7zm4 0h-2V7h2v10zm4 0h-2v-4h2v4z\"/>\n",
              "    </g>\n",
              "</svg>\n",
              "  </button>\n",
              "\n",
              "<style>\n",
              "  .colab-df-quickchart {\n",
              "      --bg-color: #E8F0FE;\n",
              "      --fill-color: #1967D2;\n",
              "      --hover-bg-color: #E2EBFA;\n",
              "      --hover-fill-color: #174EA6;\n",
              "      --disabled-fill-color: #AAA;\n",
              "      --disabled-bg-color: #DDD;\n",
              "  }\n",
              "\n",
              "  [theme=dark] .colab-df-quickchart {\n",
              "      --bg-color: #3B4455;\n",
              "      --fill-color: #D2E3FC;\n",
              "      --hover-bg-color: #434B5C;\n",
              "      --hover-fill-color: #FFFFFF;\n",
              "      --disabled-bg-color: #3B4455;\n",
              "      --disabled-fill-color: #666;\n",
              "  }\n",
              "\n",
              "  .colab-df-quickchart {\n",
              "    background-color: var(--bg-color);\n",
              "    border: none;\n",
              "    border-radius: 50%;\n",
              "    cursor: pointer;\n",
              "    display: none;\n",
              "    fill: var(--fill-color);\n",
              "    height: 32px;\n",
              "    padding: 0;\n",
              "    width: 32px;\n",
              "  }\n",
              "\n",
              "  .colab-df-quickchart:hover {\n",
              "    background-color: var(--hover-bg-color);\n",
              "    box-shadow: 0 1px 2px rgba(60, 64, 67, 0.3), 0 1px 3px 1px rgba(60, 64, 67, 0.15);\n",
              "    fill: var(--button-hover-fill-color);\n",
              "  }\n",
              "\n",
              "  .colab-df-quickchart-complete:disabled,\n",
              "  .colab-df-quickchart-complete:disabled:hover {\n",
              "    background-color: var(--disabled-bg-color);\n",
              "    fill: var(--disabled-fill-color);\n",
              "    box-shadow: none;\n",
              "  }\n",
              "\n",
              "  .colab-df-spinner {\n",
              "    border: 2px solid var(--fill-color);\n",
              "    border-color: transparent;\n",
              "    border-bottom-color: var(--fill-color);\n",
              "    animation:\n",
              "      spin 1s steps(1) infinite;\n",
              "  }\n",
              "\n",
              "  @keyframes spin {\n",
              "    0% {\n",
              "      border-color: transparent;\n",
              "      border-bottom-color: var(--fill-color);\n",
              "      border-left-color: var(--fill-color);\n",
              "    }\n",
              "    20% {\n",
              "      border-color: transparent;\n",
              "      border-left-color: var(--fill-color);\n",
              "      border-top-color: var(--fill-color);\n",
              "    }\n",
              "    30% {\n",
              "      border-color: transparent;\n",
              "      border-left-color: var(--fill-color);\n",
              "      border-top-color: var(--fill-color);\n",
              "      border-right-color: var(--fill-color);\n",
              "    }\n",
              "    40% {\n",
              "      border-color: transparent;\n",
              "      border-right-color: var(--fill-color);\n",
              "      border-top-color: var(--fill-color);\n",
              "    }\n",
              "    60% {\n",
              "      border-color: transparent;\n",
              "      border-right-color: var(--fill-color);\n",
              "    }\n",
              "    80% {\n",
              "      border-color: transparent;\n",
              "      border-right-color: var(--fill-color);\n",
              "      border-bottom-color: var(--fill-color);\n",
              "    }\n",
              "    90% {\n",
              "      border-color: transparent;\n",
              "      border-bottom-color: var(--fill-color);\n",
              "    }\n",
              "  }\n",
              "</style>\n",
              "\n",
              "  <script>\n",
              "    async function quickchart(key) {\n",
              "      const quickchartButtonEl =\n",
              "        document.querySelector('#' + key + ' button');\n",
              "      quickchartButtonEl.disabled = true;  // To prevent multiple clicks.\n",
              "      quickchartButtonEl.classList.add('colab-df-spinner');\n",
              "      try {\n",
              "        const charts = await google.colab.kernel.invokeFunction(\n",
              "            'suggestCharts', [key], {});\n",
              "      } catch (error) {\n",
              "        console.error('Error during call to suggestCharts:', error);\n",
              "      }\n",
              "      quickchartButtonEl.classList.remove('colab-df-spinner');\n",
              "      quickchartButtonEl.classList.add('colab-df-quickchart-complete');\n",
              "    }\n",
              "    (() => {\n",
              "      let quickchartButtonEl =\n",
              "        document.querySelector('#df-faf03f60-e05c-494a-8ffd-ff05108e4330 button');\n",
              "      quickchartButtonEl.style.display =\n",
              "        google.colab.kernel.accessAllowed ? 'block' : 'none';\n",
              "    })();\n",
              "  </script>\n",
              "</div>\n",
              "    </div>\n",
              "  </div>\n"
            ]
          },
          "metadata": {},
          "execution_count": 41
        }
      ]
    },
    {
      "cell_type": "code",
      "source": [
        "# compare training class frequency and prediction class frequency\n",
        "class_freq_train = pd.DataFrame({'emotion': label_names, 'train_freq': np.round(percentages,2)}) # create training frequency df\n",
        "\n",
        "# create prediction frequency df\n",
        "prediction_counts = np.round(pd.Series(y_pred_test).value_counts(normalize=True).reset_index(),2)\n",
        "prediction_counts.columns = ['emotion', 'pred_freq']\n",
        "prediction_counts = prediction_counts.sort_values(by='emotion')\n",
        "prediction_counts['pred_freq'] = prediction_counts['pred_freq']*100\n",
        "\n",
        "# map numerical emotion values to actual emotions\n",
        "prediction_counts['emotion'] = prediction_counts['emotion'].map(label_classes)\n",
        "\n",
        "# set emotion columns as index\n",
        "prediction_counts.set_index('emotion', inplace=True)\n",
        "class_freq_train.set_index('emotion', inplace=True)\n",
        "\n",
        "raw_svm_freq = pd.merge(class_freq_train, prediction_counts, left_index=True, right_index=True, how='left') # merge on index\n",
        "raw_svm_freq['pred_freq'].fillna(0, inplace=True) # fill missing prediction classes with zero\n",
        "raw_svm_freq['freq_deviation'] = raw_svm_freq['train_freq']-raw_svm_freq['pred_freq'] # calculate frequency difference\n",
        "raw_svm_freq"
      ],
      "metadata": {
        "colab": {
          "base_uri": "https://localhost:8080/",
          "height": 291
        },
        "id": "Hha4z1MVF-ci",
        "outputId": "d75a3f0d-ec10-4aa6-ee74-e9d7a84cedc5"
      },
      "execution_count": null,
      "outputs": [
        {
          "output_type": "execute_result",
          "data": {
            "text/plain": [
              "           train_freq  pred_freq  freq_deviation\n",
              "emotion                                         \n",
              "angry           13.57        9.0            4.57\n",
              "disgusted        2.26        0.0            2.26\n",
              "fearful         11.87        5.0            6.87\n",
              "happy           29.33       39.0           -9.67\n",
              "sad             11.18        2.0            9.18\n",
              "surprised       11.28       10.0            1.28\n",
              "neutral         20.51       35.0          -14.49"
            ],
            "text/html": [
              "\n",
              "  <div id=\"df-7add6927-3c29-4cc3-bb58-48c356696881\" class=\"colab-df-container\">\n",
              "    <div>\n",
              "<style scoped>\n",
              "    .dataframe tbody tr th:only-of-type {\n",
              "        vertical-align: middle;\n",
              "    }\n",
              "\n",
              "    .dataframe tbody tr th {\n",
              "        vertical-align: top;\n",
              "    }\n",
              "\n",
              "    .dataframe thead th {\n",
              "        text-align: right;\n",
              "    }\n",
              "</style>\n",
              "<table border=\"1\" class=\"dataframe\">\n",
              "  <thead>\n",
              "    <tr style=\"text-align: right;\">\n",
              "      <th></th>\n",
              "      <th>train_freq</th>\n",
              "      <th>pred_freq</th>\n",
              "      <th>freq_deviation</th>\n",
              "    </tr>\n",
              "    <tr>\n",
              "      <th>emotion</th>\n",
              "      <th></th>\n",
              "      <th></th>\n",
              "      <th></th>\n",
              "    </tr>\n",
              "  </thead>\n",
              "  <tbody>\n",
              "    <tr>\n",
              "      <th>angry</th>\n",
              "      <td>13.57</td>\n",
              "      <td>9.0</td>\n",
              "      <td>4.57</td>\n",
              "    </tr>\n",
              "    <tr>\n",
              "      <th>disgusted</th>\n",
              "      <td>2.26</td>\n",
              "      <td>0.0</td>\n",
              "      <td>2.26</td>\n",
              "    </tr>\n",
              "    <tr>\n",
              "      <th>fearful</th>\n",
              "      <td>11.87</td>\n",
              "      <td>5.0</td>\n",
              "      <td>6.87</td>\n",
              "    </tr>\n",
              "    <tr>\n",
              "      <th>happy</th>\n",
              "      <td>29.33</td>\n",
              "      <td>39.0</td>\n",
              "      <td>-9.67</td>\n",
              "    </tr>\n",
              "    <tr>\n",
              "      <th>sad</th>\n",
              "      <td>11.18</td>\n",
              "      <td>2.0</td>\n",
              "      <td>9.18</td>\n",
              "    </tr>\n",
              "    <tr>\n",
              "      <th>surprised</th>\n",
              "      <td>11.28</td>\n",
              "      <td>10.0</td>\n",
              "      <td>1.28</td>\n",
              "    </tr>\n",
              "    <tr>\n",
              "      <th>neutral</th>\n",
              "      <td>20.51</td>\n",
              "      <td>35.0</td>\n",
              "      <td>-14.49</td>\n",
              "    </tr>\n",
              "  </tbody>\n",
              "</table>\n",
              "</div>\n",
              "    <div class=\"colab-df-buttons\">\n",
              "\n",
              "  <div class=\"colab-df-container\">\n",
              "    <button class=\"colab-df-convert\" onclick=\"convertToInteractive('df-7add6927-3c29-4cc3-bb58-48c356696881')\"\n",
              "            title=\"Convert this dataframe to an interactive table.\"\n",
              "            style=\"display:none;\">\n",
              "\n",
              "  <svg xmlns=\"http://www.w3.org/2000/svg\" height=\"24px\" viewBox=\"0 -960 960 960\">\n",
              "    <path d=\"M120-120v-720h720v720H120Zm60-500h600v-160H180v160Zm220 220h160v-160H400v160Zm0 220h160v-160H400v160ZM180-400h160v-160H180v160Zm440 0h160v-160H620v160ZM180-180h160v-160H180v160Zm440 0h160v-160H620v160Z\"/>\n",
              "  </svg>\n",
              "    </button>\n",
              "\n",
              "  <style>\n",
              "    .colab-df-container {\n",
              "      display:flex;\n",
              "      gap: 12px;\n",
              "    }\n",
              "\n",
              "    .colab-df-convert {\n",
              "      background-color: #E8F0FE;\n",
              "      border: none;\n",
              "      border-radius: 50%;\n",
              "      cursor: pointer;\n",
              "      display: none;\n",
              "      fill: #1967D2;\n",
              "      height: 32px;\n",
              "      padding: 0 0 0 0;\n",
              "      width: 32px;\n",
              "    }\n",
              "\n",
              "    .colab-df-convert:hover {\n",
              "      background-color: #E2EBFA;\n",
              "      box-shadow: 0px 1px 2px rgba(60, 64, 67, 0.3), 0px 1px 3px 1px rgba(60, 64, 67, 0.15);\n",
              "      fill: #174EA6;\n",
              "    }\n",
              "\n",
              "    .colab-df-buttons div {\n",
              "      margin-bottom: 4px;\n",
              "    }\n",
              "\n",
              "    [theme=dark] .colab-df-convert {\n",
              "      background-color: #3B4455;\n",
              "      fill: #D2E3FC;\n",
              "    }\n",
              "\n",
              "    [theme=dark] .colab-df-convert:hover {\n",
              "      background-color: #434B5C;\n",
              "      box-shadow: 0px 1px 3px 1px rgba(0, 0, 0, 0.15);\n",
              "      filter: drop-shadow(0px 1px 2px rgba(0, 0, 0, 0.3));\n",
              "      fill: #FFFFFF;\n",
              "    }\n",
              "  </style>\n",
              "\n",
              "    <script>\n",
              "      const buttonEl =\n",
              "        document.querySelector('#df-7add6927-3c29-4cc3-bb58-48c356696881 button.colab-df-convert');\n",
              "      buttonEl.style.display =\n",
              "        google.colab.kernel.accessAllowed ? 'block' : 'none';\n",
              "\n",
              "      async function convertToInteractive(key) {\n",
              "        const element = document.querySelector('#df-7add6927-3c29-4cc3-bb58-48c356696881');\n",
              "        const dataTable =\n",
              "          await google.colab.kernel.invokeFunction('convertToInteractive',\n",
              "                                                    [key], {});\n",
              "        if (!dataTable) return;\n",
              "\n",
              "        const docLinkHtml = 'Like what you see? Visit the ' +\n",
              "          '<a target=\"_blank\" href=https://colab.research.google.com/notebooks/data_table.ipynb>data table notebook</a>'\n",
              "          + ' to learn more about interactive tables.';\n",
              "        element.innerHTML = '';\n",
              "        dataTable['output_type'] = 'display_data';\n",
              "        await google.colab.output.renderOutput(dataTable, element);\n",
              "        const docLink = document.createElement('div');\n",
              "        docLink.innerHTML = docLinkHtml;\n",
              "        element.appendChild(docLink);\n",
              "      }\n",
              "    </script>\n",
              "  </div>\n",
              "\n",
              "\n",
              "<div id=\"df-e3d63972-1b69-4b99-b84f-cd433ecc0cb2\">\n",
              "  <button class=\"colab-df-quickchart\" onclick=\"quickchart('df-e3d63972-1b69-4b99-b84f-cd433ecc0cb2')\"\n",
              "            title=\"Suggest charts.\"\n",
              "            style=\"display:none;\">\n",
              "\n",
              "<svg xmlns=\"http://www.w3.org/2000/svg\" height=\"24px\"viewBox=\"0 0 24 24\"\n",
              "     width=\"24px\">\n",
              "    <g>\n",
              "        <path d=\"M19 3H5c-1.1 0-2 .9-2 2v14c0 1.1.9 2 2 2h14c1.1 0 2-.9 2-2V5c0-1.1-.9-2-2-2zM9 17H7v-7h2v7zm4 0h-2V7h2v10zm4 0h-2v-4h2v4z\"/>\n",
              "    </g>\n",
              "</svg>\n",
              "  </button>\n",
              "\n",
              "<style>\n",
              "  .colab-df-quickchart {\n",
              "      --bg-color: #E8F0FE;\n",
              "      --fill-color: #1967D2;\n",
              "      --hover-bg-color: #E2EBFA;\n",
              "      --hover-fill-color: #174EA6;\n",
              "      --disabled-fill-color: #AAA;\n",
              "      --disabled-bg-color: #DDD;\n",
              "  }\n",
              "\n",
              "  [theme=dark] .colab-df-quickchart {\n",
              "      --bg-color: #3B4455;\n",
              "      --fill-color: #D2E3FC;\n",
              "      --hover-bg-color: #434B5C;\n",
              "      --hover-fill-color: #FFFFFF;\n",
              "      --disabled-bg-color: #3B4455;\n",
              "      --disabled-fill-color: #666;\n",
              "  }\n",
              "\n",
              "  .colab-df-quickchart {\n",
              "    background-color: var(--bg-color);\n",
              "    border: none;\n",
              "    border-radius: 50%;\n",
              "    cursor: pointer;\n",
              "    display: none;\n",
              "    fill: var(--fill-color);\n",
              "    height: 32px;\n",
              "    padding: 0;\n",
              "    width: 32px;\n",
              "  }\n",
              "\n",
              "  .colab-df-quickchart:hover {\n",
              "    background-color: var(--hover-bg-color);\n",
              "    box-shadow: 0 1px 2px rgba(60, 64, 67, 0.3), 0 1px 3px 1px rgba(60, 64, 67, 0.15);\n",
              "    fill: var(--button-hover-fill-color);\n",
              "  }\n",
              "\n",
              "  .colab-df-quickchart-complete:disabled,\n",
              "  .colab-df-quickchart-complete:disabled:hover {\n",
              "    background-color: var(--disabled-bg-color);\n",
              "    fill: var(--disabled-fill-color);\n",
              "    box-shadow: none;\n",
              "  }\n",
              "\n",
              "  .colab-df-spinner {\n",
              "    border: 2px solid var(--fill-color);\n",
              "    border-color: transparent;\n",
              "    border-bottom-color: var(--fill-color);\n",
              "    animation:\n",
              "      spin 1s steps(1) infinite;\n",
              "  }\n",
              "\n",
              "  @keyframes spin {\n",
              "    0% {\n",
              "      border-color: transparent;\n",
              "      border-bottom-color: var(--fill-color);\n",
              "      border-left-color: var(--fill-color);\n",
              "    }\n",
              "    20% {\n",
              "      border-color: transparent;\n",
              "      border-left-color: var(--fill-color);\n",
              "      border-top-color: var(--fill-color);\n",
              "    }\n",
              "    30% {\n",
              "      border-color: transparent;\n",
              "      border-left-color: var(--fill-color);\n",
              "      border-top-color: var(--fill-color);\n",
              "      border-right-color: var(--fill-color);\n",
              "    }\n",
              "    40% {\n",
              "      border-color: transparent;\n",
              "      border-right-color: var(--fill-color);\n",
              "      border-top-color: var(--fill-color);\n",
              "    }\n",
              "    60% {\n",
              "      border-color: transparent;\n",
              "      border-right-color: var(--fill-color);\n",
              "    }\n",
              "    80% {\n",
              "      border-color: transparent;\n",
              "      border-right-color: var(--fill-color);\n",
              "      border-bottom-color: var(--fill-color);\n",
              "    }\n",
              "    90% {\n",
              "      border-color: transparent;\n",
              "      border-bottom-color: var(--fill-color);\n",
              "    }\n",
              "  }\n",
              "</style>\n",
              "\n",
              "  <script>\n",
              "    async function quickchart(key) {\n",
              "      const quickchartButtonEl =\n",
              "        document.querySelector('#' + key + ' button');\n",
              "      quickchartButtonEl.disabled = true;  // To prevent multiple clicks.\n",
              "      quickchartButtonEl.classList.add('colab-df-spinner');\n",
              "      try {\n",
              "        const charts = await google.colab.kernel.invokeFunction(\n",
              "            'suggestCharts', [key], {});\n",
              "      } catch (error) {\n",
              "        console.error('Error during call to suggestCharts:', error);\n",
              "      }\n",
              "      quickchartButtonEl.classList.remove('colab-df-spinner');\n",
              "      quickchartButtonEl.classList.add('colab-df-quickchart-complete');\n",
              "    }\n",
              "    (() => {\n",
              "      let quickchartButtonEl =\n",
              "        document.querySelector('#df-e3d63972-1b69-4b99-b84f-cd433ecc0cb2 button');\n",
              "      quickchartButtonEl.style.display =\n",
              "        google.colab.kernel.accessAllowed ? 'block' : 'none';\n",
              "    })();\n",
              "  </script>\n",
              "</div>\n",
              "    </div>\n",
              "  </div>\n"
            ]
          },
          "metadata": {},
          "execution_count": 92
        }
      ]
    },
    {
      "cell_type": "markdown",
      "source": [
        "The first SVM classifier using only the raw data already improved the initially estimated baseline by a lot. It is interesting to see that **this model did not predict 'disgusted' (1) for any picture**. This happens to be the most underrepresented class in the training data so it seems like SVM had trouble learning about this emotion particularly. Contrarily, **the most frequent classes prevalent in the training data are heavily overrepresented in the actual predictions**. This partly explains the overall low accuracy of roughly 50%. The model did not pick up important nuances\n",
        "Now we will try further improvements using different models and engineered features. The above obviously only applies under the assumptions that the test data is distributed similarly to the training data."
      ],
      "metadata": {
        "id": "-Ie4xE33PbxG"
      }
    },
    {
      "cell_type": "markdown",
      "source": [
        "## LBP Pattern ML Model\n",
        "Let's try to use only the LBP patterns as model input to see how it compares to using only the raw data."
      ],
      "metadata": {
        "id": "9bP4kED6FgxN"
      }
    },
    {
      "cell_type": "markdown",
      "source": [
        "### Support Vector Machine"
      ],
      "metadata": {
        "id": "6_r5aPygFgxW"
      }
    },
    {
      "cell_type": "code",
      "source": [
        "svm_lbp = SVC(kernel='rbf', C=1.0) # initialise instance\n",
        "cv = StratifiedKFold(n_splits=5, shuffle=True, random_state=42) # use cross validation\n",
        "scores = cross_val_score(svm_lbp, norm_lbp_train, train_labels, cv=cv, scoring='accuracy') # evaluate\n",
        "svm_lbp.fit(norm_lbp_train, train_labels) # fit classifier on full data again\n",
        "y_pred = svm_lbp.predict(norm_lbp_val) # predict using validation data\n",
        "accuracy = accuracy_score(val_labels, y_pred) # calculate prediction accuracy"
      ],
      "metadata": {
        "id": "yx19kCxQFgxX"
      },
      "execution_count": null,
      "outputs": []
    },
    {
      "cell_type": "code",
      "source": [
        "# print cross-validation scores and final accuracy\n",
        "print(f'Cross-Validation Scores: \\t\\t\\t{scores}')\n",
        "print(f'Average Cross-Validation Accuracy: \\t\\t{np.mean(scores):.2%}')\n",
        "print(f'Cross-Validation Accuracy Standard Deviation: \\t{np.std(scores):.2%}')\n",
        "print(f'Final Accuracy on Validation Data: \\t\\t{accuracy:.2%}')"
      ],
      "metadata": {
        "colab": {
          "base_uri": "https://localhost:8080/"
        },
        "outputId": "84a39aae-efca-4970-ddf7-9736524148e3",
        "id": "Lh9HuEgiFgxY"
      },
      "execution_count": null,
      "outputs": [
        {
          "output_type": "stream",
          "name": "stdout",
          "text": [
            "Cross-Validation Scores: \t\t\t[0.32036097 0.32731377 0.32505643 0.3278781  0.31941309]\n",
            "Average Cross-Validation Accuracy: \t\t32.40%\n",
            "Cross-Validation Accuracy Standard Deviation: \t0.35%\n",
            "Final Accuracy on Validation Data: \t\t34.05%\n"
          ]
        }
      ]
    },
    {
      "cell_type": "markdown",
      "source": [
        "This model clearly lacks predictive power as its accuracy is significantly worse compared to using raw data only. Further, it is only slightly above our estasblished baseline of using the most frequent emotion as a single prediction for all images. Thus, it seems like the raw data is needed in addition."
      ],
      "metadata": {
        "id": "6jbUFAfAIGKb"
      }
    },
    {
      "cell_type": "markdown",
      "source": [
        "## Raw Data + HOG ML Model"
      ],
      "metadata": {
        "id": "2ll83HJ772fN"
      }
    },
    {
      "cell_type": "markdown",
      "source": [
        "### Support Vector Machine"
      ],
      "metadata": {
        "id": "8JjxJaykAd3H"
      }
    },
    {
      "cell_type": "code",
      "source": [
        "svm_clf_hog = SVC(kernel='rbf', C=1.0) # initialise instance\n",
        "cv = StratifiedKFold(n_splits=5, shuffle=True, random_state=42) # use cross validation\n",
        "scores = cross_val_score(svm_clf_hog, train_hog, train_labels, cv=cv, scoring='accuracy') # evaluate\n",
        "svm_clf_hog.fit(train_hog, train_labels) # fit classifier on full data again\n",
        "y_pred = svm_clf_hog.predict(val_hog) # predict using validation data\n",
        "accuracy = accuracy_score(val_labels, y_pred) # calculate prediction accuracy"
      ],
      "metadata": {
        "id": "EkERK62BOOS7"
      },
      "execution_count": null,
      "outputs": []
    },
    {
      "cell_type": "code",
      "source": [
        "# print cross-validation scores and final accuracy\n",
        "print(f'Cross-Validation Scores: \\t\\t\\t{scores}')\n",
        "print(f'Average Cross-Validation Accuracy: \\t\\t{np.mean(scores):.2%}')\n",
        "print(f'Cross-Validation Accuracy Standard Deviation: \\t{np.std(scores):.2%}')\n",
        "print(f'Final Accuracy on Validation Data: \\t\\t{accuracy:.2%}')"
      ],
      "metadata": {
        "colab": {
          "base_uri": "https://localhost:8080/"
        },
        "outputId": "57eb5163-9dc3-4ac8-da90-5854edce3242",
        "id": "VV1_yo2ZOOS-"
      },
      "execution_count": null,
      "outputs": [
        {
          "output_type": "stream",
          "name": "stdout",
          "text": [
            "Cross-Validation Scores: \t\t\t[0.5284828  0.52934537 0.53611738 0.53273138 0.54288939]\n",
            "Average Cross-Validation Accuracy: \t\t53.39%\n",
            "Cross-Validation Accuracy Standard Deviation: \t0.52%\n",
            "Final Accuracy on Validation Data: \t\t57.17%\n"
          ]
        }
      ]
    },
    {
      "cell_type": "code",
      "source": [
        "# predict on test data\n",
        "y_pred_test = svm_clf_hog.predict(test_hog)\n",
        "\n",
        "# define test file for kaggle\n",
        "test_id = np.arange(0, 1136, 1)\n",
        "pred_file = pd.DataFrame({\"ID\":test_id, \"Predictions\": y_pred_test})\n",
        "pred_file.to_csv(\"Predictions/46165991-conv-svm-raw-hog.csv\", index=False, header=True)\n",
        "pred_file.head(5)"
      ],
      "metadata": {
        "colab": {
          "base_uri": "https://localhost:8080/",
          "height": 201
        },
        "outputId": "5a4d2f93-a22d-40d6-da19-f4b09ca994f2",
        "id": "z7DLmdhwOOTA"
      },
      "execution_count": null,
      "outputs": [
        {
          "output_type": "execute_result",
          "data": {
            "text/plain": [
              "   ID  Predictions\n",
              "0   0            3\n",
              "1   1            3\n",
              "2   2            2\n",
              "3   3            0\n",
              "4   4            6"
            ],
            "text/html": [
              "\n",
              "  <div id=\"df-8e5f816c-f2bd-49bf-8c9a-9dad95c39da8\" class=\"colab-df-container\">\n",
              "    <div>\n",
              "<style scoped>\n",
              "    .dataframe tbody tr th:only-of-type {\n",
              "        vertical-align: middle;\n",
              "    }\n",
              "\n",
              "    .dataframe tbody tr th {\n",
              "        vertical-align: top;\n",
              "    }\n",
              "\n",
              "    .dataframe thead th {\n",
              "        text-align: right;\n",
              "    }\n",
              "</style>\n",
              "<table border=\"1\" class=\"dataframe\">\n",
              "  <thead>\n",
              "    <tr style=\"text-align: right;\">\n",
              "      <th></th>\n",
              "      <th>ID</th>\n",
              "      <th>Predictions</th>\n",
              "    </tr>\n",
              "  </thead>\n",
              "  <tbody>\n",
              "    <tr>\n",
              "      <th>0</th>\n",
              "      <td>0</td>\n",
              "      <td>3</td>\n",
              "    </tr>\n",
              "    <tr>\n",
              "      <th>1</th>\n",
              "      <td>1</td>\n",
              "      <td>3</td>\n",
              "    </tr>\n",
              "    <tr>\n",
              "      <th>2</th>\n",
              "      <td>2</td>\n",
              "      <td>2</td>\n",
              "    </tr>\n",
              "    <tr>\n",
              "      <th>3</th>\n",
              "      <td>3</td>\n",
              "      <td>0</td>\n",
              "    </tr>\n",
              "    <tr>\n",
              "      <th>4</th>\n",
              "      <td>4</td>\n",
              "      <td>6</td>\n",
              "    </tr>\n",
              "  </tbody>\n",
              "</table>\n",
              "</div>\n",
              "    <div class=\"colab-df-buttons\">\n",
              "\n",
              "  <div class=\"colab-df-container\">\n",
              "    <button class=\"colab-df-convert\" onclick=\"convertToInteractive('df-8e5f816c-f2bd-49bf-8c9a-9dad95c39da8')\"\n",
              "            title=\"Convert this dataframe to an interactive table.\"\n",
              "            style=\"display:none;\">\n",
              "\n",
              "  <svg xmlns=\"http://www.w3.org/2000/svg\" height=\"24px\" viewBox=\"0 -960 960 960\">\n",
              "    <path d=\"M120-120v-720h720v720H120Zm60-500h600v-160H180v160Zm220 220h160v-160H400v160Zm0 220h160v-160H400v160ZM180-400h160v-160H180v160Zm440 0h160v-160H620v160ZM180-180h160v-160H180v160Zm440 0h160v-160H620v160Z\"/>\n",
              "  </svg>\n",
              "    </button>\n",
              "\n",
              "  <style>\n",
              "    .colab-df-container {\n",
              "      display:flex;\n",
              "      gap: 12px;\n",
              "    }\n",
              "\n",
              "    .colab-df-convert {\n",
              "      background-color: #E8F0FE;\n",
              "      border: none;\n",
              "      border-radius: 50%;\n",
              "      cursor: pointer;\n",
              "      display: none;\n",
              "      fill: #1967D2;\n",
              "      height: 32px;\n",
              "      padding: 0 0 0 0;\n",
              "      width: 32px;\n",
              "    }\n",
              "\n",
              "    .colab-df-convert:hover {\n",
              "      background-color: #E2EBFA;\n",
              "      box-shadow: 0px 1px 2px rgba(60, 64, 67, 0.3), 0px 1px 3px 1px rgba(60, 64, 67, 0.15);\n",
              "      fill: #174EA6;\n",
              "    }\n",
              "\n",
              "    .colab-df-buttons div {\n",
              "      margin-bottom: 4px;\n",
              "    }\n",
              "\n",
              "    [theme=dark] .colab-df-convert {\n",
              "      background-color: #3B4455;\n",
              "      fill: #D2E3FC;\n",
              "    }\n",
              "\n",
              "    [theme=dark] .colab-df-convert:hover {\n",
              "      background-color: #434B5C;\n",
              "      box-shadow: 0px 1px 3px 1px rgba(0, 0, 0, 0.15);\n",
              "      filter: drop-shadow(0px 1px 2px rgba(0, 0, 0, 0.3));\n",
              "      fill: #FFFFFF;\n",
              "    }\n",
              "  </style>\n",
              "\n",
              "    <script>\n",
              "      const buttonEl =\n",
              "        document.querySelector('#df-8e5f816c-f2bd-49bf-8c9a-9dad95c39da8 button.colab-df-convert');\n",
              "      buttonEl.style.display =\n",
              "        google.colab.kernel.accessAllowed ? 'block' : 'none';\n",
              "\n",
              "      async function convertToInteractive(key) {\n",
              "        const element = document.querySelector('#df-8e5f816c-f2bd-49bf-8c9a-9dad95c39da8');\n",
              "        const dataTable =\n",
              "          await google.colab.kernel.invokeFunction('convertToInteractive',\n",
              "                                                    [key], {});\n",
              "        if (!dataTable) return;\n",
              "\n",
              "        const docLinkHtml = 'Like what you see? Visit the ' +\n",
              "          '<a target=\"_blank\" href=https://colab.research.google.com/notebooks/data_table.ipynb>data table notebook</a>'\n",
              "          + ' to learn more about interactive tables.';\n",
              "        element.innerHTML = '';\n",
              "        dataTable['output_type'] = 'display_data';\n",
              "        await google.colab.output.renderOutput(dataTable, element);\n",
              "        const docLink = document.createElement('div');\n",
              "        docLink.innerHTML = docLinkHtml;\n",
              "        element.appendChild(docLink);\n",
              "      }\n",
              "    </script>\n",
              "  </div>\n",
              "\n",
              "\n",
              "<div id=\"df-362d4ca6-3232-47b7-8013-5ca8fe1f0268\">\n",
              "  <button class=\"colab-df-quickchart\" onclick=\"quickchart('df-362d4ca6-3232-47b7-8013-5ca8fe1f0268')\"\n",
              "            title=\"Suggest charts.\"\n",
              "            style=\"display:none;\">\n",
              "\n",
              "<svg xmlns=\"http://www.w3.org/2000/svg\" height=\"24px\"viewBox=\"0 0 24 24\"\n",
              "     width=\"24px\">\n",
              "    <g>\n",
              "        <path d=\"M19 3H5c-1.1 0-2 .9-2 2v14c0 1.1.9 2 2 2h14c1.1 0 2-.9 2-2V5c0-1.1-.9-2-2-2zM9 17H7v-7h2v7zm4 0h-2V7h2v10zm4 0h-2v-4h2v4z\"/>\n",
              "    </g>\n",
              "</svg>\n",
              "  </button>\n",
              "\n",
              "<style>\n",
              "  .colab-df-quickchart {\n",
              "      --bg-color: #E8F0FE;\n",
              "      --fill-color: #1967D2;\n",
              "      --hover-bg-color: #E2EBFA;\n",
              "      --hover-fill-color: #174EA6;\n",
              "      --disabled-fill-color: #AAA;\n",
              "      --disabled-bg-color: #DDD;\n",
              "  }\n",
              "\n",
              "  [theme=dark] .colab-df-quickchart {\n",
              "      --bg-color: #3B4455;\n",
              "      --fill-color: #D2E3FC;\n",
              "      --hover-bg-color: #434B5C;\n",
              "      --hover-fill-color: #FFFFFF;\n",
              "      --disabled-bg-color: #3B4455;\n",
              "      --disabled-fill-color: #666;\n",
              "  }\n",
              "\n",
              "  .colab-df-quickchart {\n",
              "    background-color: var(--bg-color);\n",
              "    border: none;\n",
              "    border-radius: 50%;\n",
              "    cursor: pointer;\n",
              "    display: none;\n",
              "    fill: var(--fill-color);\n",
              "    height: 32px;\n",
              "    padding: 0;\n",
              "    width: 32px;\n",
              "  }\n",
              "\n",
              "  .colab-df-quickchart:hover {\n",
              "    background-color: var(--hover-bg-color);\n",
              "    box-shadow: 0 1px 2px rgba(60, 64, 67, 0.3), 0 1px 3px 1px rgba(60, 64, 67, 0.15);\n",
              "    fill: var(--button-hover-fill-color);\n",
              "  }\n",
              "\n",
              "  .colab-df-quickchart-complete:disabled,\n",
              "  .colab-df-quickchart-complete:disabled:hover {\n",
              "    background-color: var(--disabled-bg-color);\n",
              "    fill: var(--disabled-fill-color);\n",
              "    box-shadow: none;\n",
              "  }\n",
              "\n",
              "  .colab-df-spinner {\n",
              "    border: 2px solid var(--fill-color);\n",
              "    border-color: transparent;\n",
              "    border-bottom-color: var(--fill-color);\n",
              "    animation:\n",
              "      spin 1s steps(1) infinite;\n",
              "  }\n",
              "\n",
              "  @keyframes spin {\n",
              "    0% {\n",
              "      border-color: transparent;\n",
              "      border-bottom-color: var(--fill-color);\n",
              "      border-left-color: var(--fill-color);\n",
              "    }\n",
              "    20% {\n",
              "      border-color: transparent;\n",
              "      border-left-color: var(--fill-color);\n",
              "      border-top-color: var(--fill-color);\n",
              "    }\n",
              "    30% {\n",
              "      border-color: transparent;\n",
              "      border-left-color: var(--fill-color);\n",
              "      border-top-color: var(--fill-color);\n",
              "      border-right-color: var(--fill-color);\n",
              "    }\n",
              "    40% {\n",
              "      border-color: transparent;\n",
              "      border-right-color: var(--fill-color);\n",
              "      border-top-color: var(--fill-color);\n",
              "    }\n",
              "    60% {\n",
              "      border-color: transparent;\n",
              "      border-right-color: var(--fill-color);\n",
              "    }\n",
              "    80% {\n",
              "      border-color: transparent;\n",
              "      border-right-color: var(--fill-color);\n",
              "      border-bottom-color: var(--fill-color);\n",
              "    }\n",
              "    90% {\n",
              "      border-color: transparent;\n",
              "      border-bottom-color: var(--fill-color);\n",
              "    }\n",
              "  }\n",
              "</style>\n",
              "\n",
              "  <script>\n",
              "    async function quickchart(key) {\n",
              "      const quickchartButtonEl =\n",
              "        document.querySelector('#' + key + ' button');\n",
              "      quickchartButtonEl.disabled = true;  // To prevent multiple clicks.\n",
              "      quickchartButtonEl.classList.add('colab-df-spinner');\n",
              "      try {\n",
              "        const charts = await google.colab.kernel.invokeFunction(\n",
              "            'suggestCharts', [key], {});\n",
              "      } catch (error) {\n",
              "        console.error('Error during call to suggestCharts:', error);\n",
              "      }\n",
              "      quickchartButtonEl.classList.remove('colab-df-spinner');\n",
              "      quickchartButtonEl.classList.add('colab-df-quickchart-complete');\n",
              "    }\n",
              "    (() => {\n",
              "      let quickchartButtonEl =\n",
              "        document.querySelector('#df-362d4ca6-3232-47b7-8013-5ca8fe1f0268 button');\n",
              "      quickchartButtonEl.style.display =\n",
              "        google.colab.kernel.accessAllowed ? 'block' : 'none';\n",
              "    })();\n",
              "  </script>\n",
              "</div>\n",
              "    </div>\n",
              "  </div>\n"
            ]
          },
          "metadata": {},
          "execution_count": 44
        }
      ]
    },
    {
      "cell_type": "code",
      "source": [
        "# compare training class frequency and prediction class frequency\n",
        "class_freq_train = pd.DataFrame({'emotion': label_names, 'train_freq': np.round(percentages,2)}) # create training frequency df\n",
        "\n",
        "# create prediction frequency df\n",
        "prediction_counts = np.round(pd.Series(y_pred_test).value_counts(normalize=True).reset_index(),2)\n",
        "prediction_counts.columns = ['emotion', 'pred_freq']\n",
        "prediction_counts = prediction_counts.sort_values(by='emotion')\n",
        "prediction_counts['pred_freq'] = prediction_counts['pred_freq']*100\n",
        "\n",
        "# map numerical emotion values to actual emotions\n",
        "prediction_counts['emotion'] = prediction_counts['emotion'].map(label_classes)\n",
        "\n",
        "# set emotion columns as index\n",
        "prediction_counts.set_index('emotion', inplace=True)\n",
        "class_freq_train.set_index('emotion', inplace=True)\n",
        "\n",
        "raw_svm_freq = pd.merge(class_freq_train, prediction_counts, left_index=True, right_index=True, how='left') # merge on index\n",
        "raw_svm_freq['pred_freq'].fillna(0, inplace=True) # fill missing prediction classes with zero\n",
        "raw_svm_freq['freq_deviation'] = raw_svm_freq['train_freq']-raw_svm_freq['pred_freq'] # calculate frequency difference\n",
        "raw_svm_freq"
      ],
      "metadata": {
        "colab": {
          "base_uri": "https://localhost:8080/",
          "height": 291
        },
        "outputId": "a00fceff-c747-46ed-ac5d-df26dad7845d",
        "id": "ly2mtY_gOOTB"
      },
      "execution_count": null,
      "outputs": [
        {
          "output_type": "execute_result",
          "data": {
            "text/plain": [
              "           train_freq  pred_freq  freq_deviation\n",
              "emotion                                         \n",
              "angry           13.57       10.0            3.57\n",
              "disgusted        2.26        0.0            2.26\n",
              "fearful         11.87        6.0            5.87\n",
              "happy           29.33       36.0           -6.67\n",
              "sad             11.18        3.0            8.18\n",
              "surprised       11.28       10.0            1.28\n",
              "neutral         20.51       35.0          -14.49"
            ],
            "text/html": [
              "\n",
              "  <div id=\"df-6467d3cd-3a88-4daa-9111-a18e08f638f9\" class=\"colab-df-container\">\n",
              "    <div>\n",
              "<style scoped>\n",
              "    .dataframe tbody tr th:only-of-type {\n",
              "        vertical-align: middle;\n",
              "    }\n",
              "\n",
              "    .dataframe tbody tr th {\n",
              "        vertical-align: top;\n",
              "    }\n",
              "\n",
              "    .dataframe thead th {\n",
              "        text-align: right;\n",
              "    }\n",
              "</style>\n",
              "<table border=\"1\" class=\"dataframe\">\n",
              "  <thead>\n",
              "    <tr style=\"text-align: right;\">\n",
              "      <th></th>\n",
              "      <th>train_freq</th>\n",
              "      <th>pred_freq</th>\n",
              "      <th>freq_deviation</th>\n",
              "    </tr>\n",
              "    <tr>\n",
              "      <th>emotion</th>\n",
              "      <th></th>\n",
              "      <th></th>\n",
              "      <th></th>\n",
              "    </tr>\n",
              "  </thead>\n",
              "  <tbody>\n",
              "    <tr>\n",
              "      <th>angry</th>\n",
              "      <td>13.57</td>\n",
              "      <td>10.0</td>\n",
              "      <td>3.57</td>\n",
              "    </tr>\n",
              "    <tr>\n",
              "      <th>disgusted</th>\n",
              "      <td>2.26</td>\n",
              "      <td>0.0</td>\n",
              "      <td>2.26</td>\n",
              "    </tr>\n",
              "    <tr>\n",
              "      <th>fearful</th>\n",
              "      <td>11.87</td>\n",
              "      <td>6.0</td>\n",
              "      <td>5.87</td>\n",
              "    </tr>\n",
              "    <tr>\n",
              "      <th>happy</th>\n",
              "      <td>29.33</td>\n",
              "      <td>36.0</td>\n",
              "      <td>-6.67</td>\n",
              "    </tr>\n",
              "    <tr>\n",
              "      <th>sad</th>\n",
              "      <td>11.18</td>\n",
              "      <td>3.0</td>\n",
              "      <td>8.18</td>\n",
              "    </tr>\n",
              "    <tr>\n",
              "      <th>surprised</th>\n",
              "      <td>11.28</td>\n",
              "      <td>10.0</td>\n",
              "      <td>1.28</td>\n",
              "    </tr>\n",
              "    <tr>\n",
              "      <th>neutral</th>\n",
              "      <td>20.51</td>\n",
              "      <td>35.0</td>\n",
              "      <td>-14.49</td>\n",
              "    </tr>\n",
              "  </tbody>\n",
              "</table>\n",
              "</div>\n",
              "    <div class=\"colab-df-buttons\">\n",
              "\n",
              "  <div class=\"colab-df-container\">\n",
              "    <button class=\"colab-df-convert\" onclick=\"convertToInteractive('df-6467d3cd-3a88-4daa-9111-a18e08f638f9')\"\n",
              "            title=\"Convert this dataframe to an interactive table.\"\n",
              "            style=\"display:none;\">\n",
              "\n",
              "  <svg xmlns=\"http://www.w3.org/2000/svg\" height=\"24px\" viewBox=\"0 -960 960 960\">\n",
              "    <path d=\"M120-120v-720h720v720H120Zm60-500h600v-160H180v160Zm220 220h160v-160H400v160Zm0 220h160v-160H400v160ZM180-400h160v-160H180v160Zm440 0h160v-160H620v160ZM180-180h160v-160H180v160Zm440 0h160v-160H620v160Z\"/>\n",
              "  </svg>\n",
              "    </button>\n",
              "\n",
              "  <style>\n",
              "    .colab-df-container {\n",
              "      display:flex;\n",
              "      gap: 12px;\n",
              "    }\n",
              "\n",
              "    .colab-df-convert {\n",
              "      background-color: #E8F0FE;\n",
              "      border: none;\n",
              "      border-radius: 50%;\n",
              "      cursor: pointer;\n",
              "      display: none;\n",
              "      fill: #1967D2;\n",
              "      height: 32px;\n",
              "      padding: 0 0 0 0;\n",
              "      width: 32px;\n",
              "    }\n",
              "\n",
              "    .colab-df-convert:hover {\n",
              "      background-color: #E2EBFA;\n",
              "      box-shadow: 0px 1px 2px rgba(60, 64, 67, 0.3), 0px 1px 3px 1px rgba(60, 64, 67, 0.15);\n",
              "      fill: #174EA6;\n",
              "    }\n",
              "\n",
              "    .colab-df-buttons div {\n",
              "      margin-bottom: 4px;\n",
              "    }\n",
              "\n",
              "    [theme=dark] .colab-df-convert {\n",
              "      background-color: #3B4455;\n",
              "      fill: #D2E3FC;\n",
              "    }\n",
              "\n",
              "    [theme=dark] .colab-df-convert:hover {\n",
              "      background-color: #434B5C;\n",
              "      box-shadow: 0px 1px 3px 1px rgba(0, 0, 0, 0.15);\n",
              "      filter: drop-shadow(0px 1px 2px rgba(0, 0, 0, 0.3));\n",
              "      fill: #FFFFFF;\n",
              "    }\n",
              "  </style>\n",
              "\n",
              "    <script>\n",
              "      const buttonEl =\n",
              "        document.querySelector('#df-6467d3cd-3a88-4daa-9111-a18e08f638f9 button.colab-df-convert');\n",
              "      buttonEl.style.display =\n",
              "        google.colab.kernel.accessAllowed ? 'block' : 'none';\n",
              "\n",
              "      async function convertToInteractive(key) {\n",
              "        const element = document.querySelector('#df-6467d3cd-3a88-4daa-9111-a18e08f638f9');\n",
              "        const dataTable =\n",
              "          await google.colab.kernel.invokeFunction('convertToInteractive',\n",
              "                                                    [key], {});\n",
              "        if (!dataTable) return;\n",
              "\n",
              "        const docLinkHtml = 'Like what you see? Visit the ' +\n",
              "          '<a target=\"_blank\" href=https://colab.research.google.com/notebooks/data_table.ipynb>data table notebook</a>'\n",
              "          + ' to learn more about interactive tables.';\n",
              "        element.innerHTML = '';\n",
              "        dataTable['output_type'] = 'display_data';\n",
              "        await google.colab.output.renderOutput(dataTable, element);\n",
              "        const docLink = document.createElement('div');\n",
              "        docLink.innerHTML = docLinkHtml;\n",
              "        element.appendChild(docLink);\n",
              "      }\n",
              "    </script>\n",
              "  </div>\n",
              "\n",
              "\n",
              "<div id=\"df-b06622f7-61e8-4103-9987-84021a058c36\">\n",
              "  <button class=\"colab-df-quickchart\" onclick=\"quickchart('df-b06622f7-61e8-4103-9987-84021a058c36')\"\n",
              "            title=\"Suggest charts.\"\n",
              "            style=\"display:none;\">\n",
              "\n",
              "<svg xmlns=\"http://www.w3.org/2000/svg\" height=\"24px\"viewBox=\"0 0 24 24\"\n",
              "     width=\"24px\">\n",
              "    <g>\n",
              "        <path d=\"M19 3H5c-1.1 0-2 .9-2 2v14c0 1.1.9 2 2 2h14c1.1 0 2-.9 2-2V5c0-1.1-.9-2-2-2zM9 17H7v-7h2v7zm4 0h-2V7h2v10zm4 0h-2v-4h2v4z\"/>\n",
              "    </g>\n",
              "</svg>\n",
              "  </button>\n",
              "\n",
              "<style>\n",
              "  .colab-df-quickchart {\n",
              "      --bg-color: #E8F0FE;\n",
              "      --fill-color: #1967D2;\n",
              "      --hover-bg-color: #E2EBFA;\n",
              "      --hover-fill-color: #174EA6;\n",
              "      --disabled-fill-color: #AAA;\n",
              "      --disabled-bg-color: #DDD;\n",
              "  }\n",
              "\n",
              "  [theme=dark] .colab-df-quickchart {\n",
              "      --bg-color: #3B4455;\n",
              "      --fill-color: #D2E3FC;\n",
              "      --hover-bg-color: #434B5C;\n",
              "      --hover-fill-color: #FFFFFF;\n",
              "      --disabled-bg-color: #3B4455;\n",
              "      --disabled-fill-color: #666;\n",
              "  }\n",
              "\n",
              "  .colab-df-quickchart {\n",
              "    background-color: var(--bg-color);\n",
              "    border: none;\n",
              "    border-radius: 50%;\n",
              "    cursor: pointer;\n",
              "    display: none;\n",
              "    fill: var(--fill-color);\n",
              "    height: 32px;\n",
              "    padding: 0;\n",
              "    width: 32px;\n",
              "  }\n",
              "\n",
              "  .colab-df-quickchart:hover {\n",
              "    background-color: var(--hover-bg-color);\n",
              "    box-shadow: 0 1px 2px rgba(60, 64, 67, 0.3), 0 1px 3px 1px rgba(60, 64, 67, 0.15);\n",
              "    fill: var(--button-hover-fill-color);\n",
              "  }\n",
              "\n",
              "  .colab-df-quickchart-complete:disabled,\n",
              "  .colab-df-quickchart-complete:disabled:hover {\n",
              "    background-color: var(--disabled-bg-color);\n",
              "    fill: var(--disabled-fill-color);\n",
              "    box-shadow: none;\n",
              "  }\n",
              "\n",
              "  .colab-df-spinner {\n",
              "    border: 2px solid var(--fill-color);\n",
              "    border-color: transparent;\n",
              "    border-bottom-color: var(--fill-color);\n",
              "    animation:\n",
              "      spin 1s steps(1) infinite;\n",
              "  }\n",
              "\n",
              "  @keyframes spin {\n",
              "    0% {\n",
              "      border-color: transparent;\n",
              "      border-bottom-color: var(--fill-color);\n",
              "      border-left-color: var(--fill-color);\n",
              "    }\n",
              "    20% {\n",
              "      border-color: transparent;\n",
              "      border-left-color: var(--fill-color);\n",
              "      border-top-color: var(--fill-color);\n",
              "    }\n",
              "    30% {\n",
              "      border-color: transparent;\n",
              "      border-left-color: var(--fill-color);\n",
              "      border-top-color: var(--fill-color);\n",
              "      border-right-color: var(--fill-color);\n",
              "    }\n",
              "    40% {\n",
              "      border-color: transparent;\n",
              "      border-right-color: var(--fill-color);\n",
              "      border-top-color: var(--fill-color);\n",
              "    }\n",
              "    60% {\n",
              "      border-color: transparent;\n",
              "      border-right-color: var(--fill-color);\n",
              "    }\n",
              "    80% {\n",
              "      border-color: transparent;\n",
              "      border-right-color: var(--fill-color);\n",
              "      border-bottom-color: var(--fill-color);\n",
              "    }\n",
              "    90% {\n",
              "      border-color: transparent;\n",
              "      border-bottom-color: var(--fill-color);\n",
              "    }\n",
              "  }\n",
              "</style>\n",
              "\n",
              "  <script>\n",
              "    async function quickchart(key) {\n",
              "      const quickchartButtonEl =\n",
              "        document.querySelector('#' + key + ' button');\n",
              "      quickchartButtonEl.disabled = true;  // To prevent multiple clicks.\n",
              "      quickchartButtonEl.classList.add('colab-df-spinner');\n",
              "      try {\n",
              "        const charts = await google.colab.kernel.invokeFunction(\n",
              "            'suggestCharts', [key], {});\n",
              "      } catch (error) {\n",
              "        console.error('Error during call to suggestCharts:', error);\n",
              "      }\n",
              "      quickchartButtonEl.classList.remove('colab-df-spinner');\n",
              "      quickchartButtonEl.classList.add('colab-df-quickchart-complete');\n",
              "    }\n",
              "    (() => {\n",
              "      let quickchartButtonEl =\n",
              "        document.querySelector('#df-b06622f7-61e8-4103-9987-84021a058c36 button');\n",
              "      quickchartButtonEl.style.display =\n",
              "        google.colab.kernel.accessAllowed ? 'block' : 'none';\n",
              "    })();\n",
              "  </script>\n",
              "</div>\n",
              "    </div>\n",
              "  </div>\n"
            ]
          },
          "metadata": {},
          "execution_count": 45
        }
      ]
    },
    {
      "cell_type": "markdown",
      "source": [
        "## Raw Data + HOG + Harris Corner ML Model"
      ],
      "metadata": {
        "id": "-0ItaHty7-iX"
      }
    },
    {
      "cell_type": "markdown",
      "source": [
        "### Support Vector Machine"
      ],
      "metadata": {
        "id": "AVAQ8hyzCpQu"
      }
    },
    {
      "cell_type": "code",
      "source": [
        "svm_clf_hog_corner = SVC(kernel='rbf', C=1.0) # initialise instance\n",
        "cv = StratifiedKFold(n_splits=5, shuffle=True, random_state=42) # use cross validation\n",
        "scores = cross_val_score(svm_clf_hog_corner, train_hog_corner, train_labels, cv=cv, scoring='accuracy') # evaluate\n",
        "svm_clf_hog_corner.fit(train_hog_corner, train_labels) # fit classifier on full data again\n",
        "y_pred = svm_clf_hog_corner.predict(val_hog_corner) # predict using validation data\n",
        "accuracy = accuracy_score(val_labels, y_pred) # calculate prediction accuracy"
      ],
      "metadata": {
        "id": "JzhXR1RSOr_h"
      },
      "execution_count": null,
      "outputs": []
    },
    {
      "cell_type": "code",
      "source": [
        "# print cross-validation scores and final accuracy\n",
        "print(f'Cross-Validation Scores: \\t\\t\\t{scores}')\n",
        "print(f'Average Cross-Validation Accuracy: \\t\\t{np.mean(scores):.2%}')\n",
        "print(f'Cross-Validation Accuracy Standard Deviation: \\t{np.std(scores):.2%}')\n",
        "print(f'Final Accuracy on Validation Data: \\t\\t{accuracy:.2%}')"
      ],
      "metadata": {
        "colab": {
          "base_uri": "https://localhost:8080/"
        },
        "outputId": "fb896163-2bcb-44be-90f5-609a5f28776f",
        "id": "ub0MlYqPOr_i"
      },
      "execution_count": null,
      "outputs": [
        {
          "output_type": "stream",
          "name": "stdout",
          "text": [
            "Cross-Validation Scores: \t\t\t[0.52791878 0.53160271 0.53724605 0.53329571 0.54232506]\n",
            "Average Cross-Validation Accuracy: \t\t53.45%\n",
            "Cross-Validation Accuracy Standard Deviation: \t0.49%\n",
            "Final Accuracy on Validation Data: \t\t56.96%\n"
          ]
        }
      ]
    },
    {
      "cell_type": "code",
      "source": [
        "# predict on test data\n",
        "y_pred_test = svm_clf_hog_corner.predict(test_hog_corner)\n",
        "\n",
        "# define test file for kaggle\n",
        "test_id = np.arange(0, 1136, 1)\n",
        "pred_file = pd.DataFrame({\"ID\":test_id, \"Predictions\": y_pred_test})\n",
        "pred_file.to_csv(\"Predictions/46165991-conv-svm-raw-hog-corner.csv\", index=False, header=True)\n",
        "pred_file.head(5)"
      ],
      "metadata": {
        "id": "bgQDLMV8Or_i",
        "colab": {
          "base_uri": "https://localhost:8080/",
          "height": 201
        },
        "outputId": "b6195314-0253-4100-8582-4f3f94c4c6fc"
      },
      "execution_count": null,
      "outputs": [
        {
          "output_type": "execute_result",
          "data": {
            "text/plain": [
              "   ID  Predictions\n",
              "0   0            3\n",
              "1   1            3\n",
              "2   2            2\n",
              "3   3            0\n",
              "4   4            6"
            ],
            "text/html": [
              "\n",
              "  <div id=\"df-93022f46-f306-466b-b4e4-3e2295d35064\" class=\"colab-df-container\">\n",
              "    <div>\n",
              "<style scoped>\n",
              "    .dataframe tbody tr th:only-of-type {\n",
              "        vertical-align: middle;\n",
              "    }\n",
              "\n",
              "    .dataframe tbody tr th {\n",
              "        vertical-align: top;\n",
              "    }\n",
              "\n",
              "    .dataframe thead th {\n",
              "        text-align: right;\n",
              "    }\n",
              "</style>\n",
              "<table border=\"1\" class=\"dataframe\">\n",
              "  <thead>\n",
              "    <tr style=\"text-align: right;\">\n",
              "      <th></th>\n",
              "      <th>ID</th>\n",
              "      <th>Predictions</th>\n",
              "    </tr>\n",
              "  </thead>\n",
              "  <tbody>\n",
              "    <tr>\n",
              "      <th>0</th>\n",
              "      <td>0</td>\n",
              "      <td>3</td>\n",
              "    </tr>\n",
              "    <tr>\n",
              "      <th>1</th>\n",
              "      <td>1</td>\n",
              "      <td>3</td>\n",
              "    </tr>\n",
              "    <tr>\n",
              "      <th>2</th>\n",
              "      <td>2</td>\n",
              "      <td>2</td>\n",
              "    </tr>\n",
              "    <tr>\n",
              "      <th>3</th>\n",
              "      <td>3</td>\n",
              "      <td>0</td>\n",
              "    </tr>\n",
              "    <tr>\n",
              "      <th>4</th>\n",
              "      <td>4</td>\n",
              "      <td>6</td>\n",
              "    </tr>\n",
              "  </tbody>\n",
              "</table>\n",
              "</div>\n",
              "    <div class=\"colab-df-buttons\">\n",
              "\n",
              "  <div class=\"colab-df-container\">\n",
              "    <button class=\"colab-df-convert\" onclick=\"convertToInteractive('df-93022f46-f306-466b-b4e4-3e2295d35064')\"\n",
              "            title=\"Convert this dataframe to an interactive table.\"\n",
              "            style=\"display:none;\">\n",
              "\n",
              "  <svg xmlns=\"http://www.w3.org/2000/svg\" height=\"24px\" viewBox=\"0 -960 960 960\">\n",
              "    <path d=\"M120-120v-720h720v720H120Zm60-500h600v-160H180v160Zm220 220h160v-160H400v160Zm0 220h160v-160H400v160ZM180-400h160v-160H180v160Zm440 0h160v-160H620v160ZM180-180h160v-160H180v160Zm440 0h160v-160H620v160Z\"/>\n",
              "  </svg>\n",
              "    </button>\n",
              "\n",
              "  <style>\n",
              "    .colab-df-container {\n",
              "      display:flex;\n",
              "      gap: 12px;\n",
              "    }\n",
              "\n",
              "    .colab-df-convert {\n",
              "      background-color: #E8F0FE;\n",
              "      border: none;\n",
              "      border-radius: 50%;\n",
              "      cursor: pointer;\n",
              "      display: none;\n",
              "      fill: #1967D2;\n",
              "      height: 32px;\n",
              "      padding: 0 0 0 0;\n",
              "      width: 32px;\n",
              "    }\n",
              "\n",
              "    .colab-df-convert:hover {\n",
              "      background-color: #E2EBFA;\n",
              "      box-shadow: 0px 1px 2px rgba(60, 64, 67, 0.3), 0px 1px 3px 1px rgba(60, 64, 67, 0.15);\n",
              "      fill: #174EA6;\n",
              "    }\n",
              "\n",
              "    .colab-df-buttons div {\n",
              "      margin-bottom: 4px;\n",
              "    }\n",
              "\n",
              "    [theme=dark] .colab-df-convert {\n",
              "      background-color: #3B4455;\n",
              "      fill: #D2E3FC;\n",
              "    }\n",
              "\n",
              "    [theme=dark] .colab-df-convert:hover {\n",
              "      background-color: #434B5C;\n",
              "      box-shadow: 0px 1px 3px 1px rgba(0, 0, 0, 0.15);\n",
              "      filter: drop-shadow(0px 1px 2px rgba(0, 0, 0, 0.3));\n",
              "      fill: #FFFFFF;\n",
              "    }\n",
              "  </style>\n",
              "\n",
              "    <script>\n",
              "      const buttonEl =\n",
              "        document.querySelector('#df-93022f46-f306-466b-b4e4-3e2295d35064 button.colab-df-convert');\n",
              "      buttonEl.style.display =\n",
              "        google.colab.kernel.accessAllowed ? 'block' : 'none';\n",
              "\n",
              "      async function convertToInteractive(key) {\n",
              "        const element = document.querySelector('#df-93022f46-f306-466b-b4e4-3e2295d35064');\n",
              "        const dataTable =\n",
              "          await google.colab.kernel.invokeFunction('convertToInteractive',\n",
              "                                                    [key], {});\n",
              "        if (!dataTable) return;\n",
              "\n",
              "        const docLinkHtml = 'Like what you see? Visit the ' +\n",
              "          '<a target=\"_blank\" href=https://colab.research.google.com/notebooks/data_table.ipynb>data table notebook</a>'\n",
              "          + ' to learn more about interactive tables.';\n",
              "        element.innerHTML = '';\n",
              "        dataTable['output_type'] = 'display_data';\n",
              "        await google.colab.output.renderOutput(dataTable, element);\n",
              "        const docLink = document.createElement('div');\n",
              "        docLink.innerHTML = docLinkHtml;\n",
              "        element.appendChild(docLink);\n",
              "      }\n",
              "    </script>\n",
              "  </div>\n",
              "\n",
              "\n",
              "<div id=\"df-abfc5501-1b64-4464-933e-863d4b531f86\">\n",
              "  <button class=\"colab-df-quickchart\" onclick=\"quickchart('df-abfc5501-1b64-4464-933e-863d4b531f86')\"\n",
              "            title=\"Suggest charts.\"\n",
              "            style=\"display:none;\">\n",
              "\n",
              "<svg xmlns=\"http://www.w3.org/2000/svg\" height=\"24px\"viewBox=\"0 0 24 24\"\n",
              "     width=\"24px\">\n",
              "    <g>\n",
              "        <path d=\"M19 3H5c-1.1 0-2 .9-2 2v14c0 1.1.9 2 2 2h14c1.1 0 2-.9 2-2V5c0-1.1-.9-2-2-2zM9 17H7v-7h2v7zm4 0h-2V7h2v10zm4 0h-2v-4h2v4z\"/>\n",
              "    </g>\n",
              "</svg>\n",
              "  </button>\n",
              "\n",
              "<style>\n",
              "  .colab-df-quickchart {\n",
              "      --bg-color: #E8F0FE;\n",
              "      --fill-color: #1967D2;\n",
              "      --hover-bg-color: #E2EBFA;\n",
              "      --hover-fill-color: #174EA6;\n",
              "      --disabled-fill-color: #AAA;\n",
              "      --disabled-bg-color: #DDD;\n",
              "  }\n",
              "\n",
              "  [theme=dark] .colab-df-quickchart {\n",
              "      --bg-color: #3B4455;\n",
              "      --fill-color: #D2E3FC;\n",
              "      --hover-bg-color: #434B5C;\n",
              "      --hover-fill-color: #FFFFFF;\n",
              "      --disabled-bg-color: #3B4455;\n",
              "      --disabled-fill-color: #666;\n",
              "  }\n",
              "\n",
              "  .colab-df-quickchart {\n",
              "    background-color: var(--bg-color);\n",
              "    border: none;\n",
              "    border-radius: 50%;\n",
              "    cursor: pointer;\n",
              "    display: none;\n",
              "    fill: var(--fill-color);\n",
              "    height: 32px;\n",
              "    padding: 0;\n",
              "    width: 32px;\n",
              "  }\n",
              "\n",
              "  .colab-df-quickchart:hover {\n",
              "    background-color: var(--hover-bg-color);\n",
              "    box-shadow: 0 1px 2px rgba(60, 64, 67, 0.3), 0 1px 3px 1px rgba(60, 64, 67, 0.15);\n",
              "    fill: var(--button-hover-fill-color);\n",
              "  }\n",
              "\n",
              "  .colab-df-quickchart-complete:disabled,\n",
              "  .colab-df-quickchart-complete:disabled:hover {\n",
              "    background-color: var(--disabled-bg-color);\n",
              "    fill: var(--disabled-fill-color);\n",
              "    box-shadow: none;\n",
              "  }\n",
              "\n",
              "  .colab-df-spinner {\n",
              "    border: 2px solid var(--fill-color);\n",
              "    border-color: transparent;\n",
              "    border-bottom-color: var(--fill-color);\n",
              "    animation:\n",
              "      spin 1s steps(1) infinite;\n",
              "  }\n",
              "\n",
              "  @keyframes spin {\n",
              "    0% {\n",
              "      border-color: transparent;\n",
              "      border-bottom-color: var(--fill-color);\n",
              "      border-left-color: var(--fill-color);\n",
              "    }\n",
              "    20% {\n",
              "      border-color: transparent;\n",
              "      border-left-color: var(--fill-color);\n",
              "      border-top-color: var(--fill-color);\n",
              "    }\n",
              "    30% {\n",
              "      border-color: transparent;\n",
              "      border-left-color: var(--fill-color);\n",
              "      border-top-color: var(--fill-color);\n",
              "      border-right-color: var(--fill-color);\n",
              "    }\n",
              "    40% {\n",
              "      border-color: transparent;\n",
              "      border-right-color: var(--fill-color);\n",
              "      border-top-color: var(--fill-color);\n",
              "    }\n",
              "    60% {\n",
              "      border-color: transparent;\n",
              "      border-right-color: var(--fill-color);\n",
              "    }\n",
              "    80% {\n",
              "      border-color: transparent;\n",
              "      border-right-color: var(--fill-color);\n",
              "      border-bottom-color: var(--fill-color);\n",
              "    }\n",
              "    90% {\n",
              "      border-color: transparent;\n",
              "      border-bottom-color: var(--fill-color);\n",
              "    }\n",
              "  }\n",
              "</style>\n",
              "\n",
              "  <script>\n",
              "    async function quickchart(key) {\n",
              "      const quickchartButtonEl =\n",
              "        document.querySelector('#' + key + ' button');\n",
              "      quickchartButtonEl.disabled = true;  // To prevent multiple clicks.\n",
              "      quickchartButtonEl.classList.add('colab-df-spinner');\n",
              "      try {\n",
              "        const charts = await google.colab.kernel.invokeFunction(\n",
              "            'suggestCharts', [key], {});\n",
              "      } catch (error) {\n",
              "        console.error('Error during call to suggestCharts:', error);\n",
              "      }\n",
              "      quickchartButtonEl.classList.remove('colab-df-spinner');\n",
              "      quickchartButtonEl.classList.add('colab-df-quickchart-complete');\n",
              "    }\n",
              "    (() => {\n",
              "      let quickchartButtonEl =\n",
              "        document.querySelector('#df-abfc5501-1b64-4464-933e-863d4b531f86 button');\n",
              "      quickchartButtonEl.style.display =\n",
              "        google.colab.kernel.accessAllowed ? 'block' : 'none';\n",
              "    })();\n",
              "  </script>\n",
              "</div>\n",
              "    </div>\n",
              "  </div>\n"
            ]
          },
          "metadata": {},
          "execution_count": 29
        }
      ]
    },
    {
      "cell_type": "code",
      "source": [
        "# compare training class frequency and prediction class frequency\n",
        "class_freq_train = pd.DataFrame({'emotion': label_names, 'train_freq': np.round(percentages,2)}) # create training frequency df\n",
        "\n",
        "# create prediction frequency df\n",
        "prediction_counts = np.round(pd.Series(y_pred_test).value_counts(normalize=True).reset_index(),2)\n",
        "prediction_counts.columns = ['emotion', 'pred_freq']\n",
        "prediction_counts = prediction_counts.sort_values(by='emotion')\n",
        "prediction_counts['pred_freq'] = prediction_counts['pred_freq']*100\n",
        "\n",
        "# map numerical emotion values to actual emotions\n",
        "prediction_counts['emotion'] = prediction_counts['emotion'].map(label_classes)\n",
        "\n",
        "# set emotion columns as index\n",
        "prediction_counts.set_index('emotion', inplace=True)\n",
        "class_freq_train.set_index('emotion', inplace=True)\n",
        "\n",
        "raw_svm_freq = pd.merge(class_freq_train, prediction_counts, left_index=True, right_index=True, how='left') # merge on index\n",
        "raw_svm_freq['pred_freq'].fillna(0, inplace=True) # fill missing prediction classes with zero\n",
        "raw_svm_freq['freq_deviation'] = raw_svm_freq['train_freq']-raw_svm_freq['pred_freq'] # calculate frequency difference\n",
        "raw_svm_freq"
      ],
      "metadata": {
        "id": "CL-iVPceOr_j",
        "colab": {
          "base_uri": "https://localhost:8080/",
          "height": 291
        },
        "outputId": "9b134bae-eece-4a75-93f1-25d567d6c86e"
      },
      "execution_count": null,
      "outputs": [
        {
          "output_type": "execute_result",
          "data": {
            "text/plain": [
              "           train_freq  pred_freq  freq_deviation\n",
              "emotion                                         \n",
              "angry           13.57       10.0            3.57\n",
              "disgusted        2.26        0.0            2.26\n",
              "fearful         11.87        6.0            5.87\n",
              "happy           29.33       36.0           -6.67\n",
              "sad             11.18        3.0            8.18\n",
              "surprised       11.28       10.0            1.28\n",
              "neutral         20.51       35.0          -14.49"
            ],
            "text/html": [
              "\n",
              "  <div id=\"df-2b012b5e-9b8d-43ac-bdae-327a37b8c305\" class=\"colab-df-container\">\n",
              "    <div>\n",
              "<style scoped>\n",
              "    .dataframe tbody tr th:only-of-type {\n",
              "        vertical-align: middle;\n",
              "    }\n",
              "\n",
              "    .dataframe tbody tr th {\n",
              "        vertical-align: top;\n",
              "    }\n",
              "\n",
              "    .dataframe thead th {\n",
              "        text-align: right;\n",
              "    }\n",
              "</style>\n",
              "<table border=\"1\" class=\"dataframe\">\n",
              "  <thead>\n",
              "    <tr style=\"text-align: right;\">\n",
              "      <th></th>\n",
              "      <th>train_freq</th>\n",
              "      <th>pred_freq</th>\n",
              "      <th>freq_deviation</th>\n",
              "    </tr>\n",
              "    <tr>\n",
              "      <th>emotion</th>\n",
              "      <th></th>\n",
              "      <th></th>\n",
              "      <th></th>\n",
              "    </tr>\n",
              "  </thead>\n",
              "  <tbody>\n",
              "    <tr>\n",
              "      <th>angry</th>\n",
              "      <td>13.57</td>\n",
              "      <td>10.0</td>\n",
              "      <td>3.57</td>\n",
              "    </tr>\n",
              "    <tr>\n",
              "      <th>disgusted</th>\n",
              "      <td>2.26</td>\n",
              "      <td>0.0</td>\n",
              "      <td>2.26</td>\n",
              "    </tr>\n",
              "    <tr>\n",
              "      <th>fearful</th>\n",
              "      <td>11.87</td>\n",
              "      <td>6.0</td>\n",
              "      <td>5.87</td>\n",
              "    </tr>\n",
              "    <tr>\n",
              "      <th>happy</th>\n",
              "      <td>29.33</td>\n",
              "      <td>36.0</td>\n",
              "      <td>-6.67</td>\n",
              "    </tr>\n",
              "    <tr>\n",
              "      <th>sad</th>\n",
              "      <td>11.18</td>\n",
              "      <td>3.0</td>\n",
              "      <td>8.18</td>\n",
              "    </tr>\n",
              "    <tr>\n",
              "      <th>surprised</th>\n",
              "      <td>11.28</td>\n",
              "      <td>10.0</td>\n",
              "      <td>1.28</td>\n",
              "    </tr>\n",
              "    <tr>\n",
              "      <th>neutral</th>\n",
              "      <td>20.51</td>\n",
              "      <td>35.0</td>\n",
              "      <td>-14.49</td>\n",
              "    </tr>\n",
              "  </tbody>\n",
              "</table>\n",
              "</div>\n",
              "    <div class=\"colab-df-buttons\">\n",
              "\n",
              "  <div class=\"colab-df-container\">\n",
              "    <button class=\"colab-df-convert\" onclick=\"convertToInteractive('df-2b012b5e-9b8d-43ac-bdae-327a37b8c305')\"\n",
              "            title=\"Convert this dataframe to an interactive table.\"\n",
              "            style=\"display:none;\">\n",
              "\n",
              "  <svg xmlns=\"http://www.w3.org/2000/svg\" height=\"24px\" viewBox=\"0 -960 960 960\">\n",
              "    <path d=\"M120-120v-720h720v720H120Zm60-500h600v-160H180v160Zm220 220h160v-160H400v160Zm0 220h160v-160H400v160ZM180-400h160v-160H180v160Zm440 0h160v-160H620v160ZM180-180h160v-160H180v160Zm440 0h160v-160H620v160Z\"/>\n",
              "  </svg>\n",
              "    </button>\n",
              "\n",
              "  <style>\n",
              "    .colab-df-container {\n",
              "      display:flex;\n",
              "      gap: 12px;\n",
              "    }\n",
              "\n",
              "    .colab-df-convert {\n",
              "      background-color: #E8F0FE;\n",
              "      border: none;\n",
              "      border-radius: 50%;\n",
              "      cursor: pointer;\n",
              "      display: none;\n",
              "      fill: #1967D2;\n",
              "      height: 32px;\n",
              "      padding: 0 0 0 0;\n",
              "      width: 32px;\n",
              "    }\n",
              "\n",
              "    .colab-df-convert:hover {\n",
              "      background-color: #E2EBFA;\n",
              "      box-shadow: 0px 1px 2px rgba(60, 64, 67, 0.3), 0px 1px 3px 1px rgba(60, 64, 67, 0.15);\n",
              "      fill: #174EA6;\n",
              "    }\n",
              "\n",
              "    .colab-df-buttons div {\n",
              "      margin-bottom: 4px;\n",
              "    }\n",
              "\n",
              "    [theme=dark] .colab-df-convert {\n",
              "      background-color: #3B4455;\n",
              "      fill: #D2E3FC;\n",
              "    }\n",
              "\n",
              "    [theme=dark] .colab-df-convert:hover {\n",
              "      background-color: #434B5C;\n",
              "      box-shadow: 0px 1px 3px 1px rgba(0, 0, 0, 0.15);\n",
              "      filter: drop-shadow(0px 1px 2px rgba(0, 0, 0, 0.3));\n",
              "      fill: #FFFFFF;\n",
              "    }\n",
              "  </style>\n",
              "\n",
              "    <script>\n",
              "      const buttonEl =\n",
              "        document.querySelector('#df-2b012b5e-9b8d-43ac-bdae-327a37b8c305 button.colab-df-convert');\n",
              "      buttonEl.style.display =\n",
              "        google.colab.kernel.accessAllowed ? 'block' : 'none';\n",
              "\n",
              "      async function convertToInteractive(key) {\n",
              "        const element = document.querySelector('#df-2b012b5e-9b8d-43ac-bdae-327a37b8c305');\n",
              "        const dataTable =\n",
              "          await google.colab.kernel.invokeFunction('convertToInteractive',\n",
              "                                                    [key], {});\n",
              "        if (!dataTable) return;\n",
              "\n",
              "        const docLinkHtml = 'Like what you see? Visit the ' +\n",
              "          '<a target=\"_blank\" href=https://colab.research.google.com/notebooks/data_table.ipynb>data table notebook</a>'\n",
              "          + ' to learn more about interactive tables.';\n",
              "        element.innerHTML = '';\n",
              "        dataTable['output_type'] = 'display_data';\n",
              "        await google.colab.output.renderOutput(dataTable, element);\n",
              "        const docLink = document.createElement('div');\n",
              "        docLink.innerHTML = docLinkHtml;\n",
              "        element.appendChild(docLink);\n",
              "      }\n",
              "    </script>\n",
              "  </div>\n",
              "\n",
              "\n",
              "<div id=\"df-d96ced9c-b5bd-46cc-aeb5-4f08b7c202f0\">\n",
              "  <button class=\"colab-df-quickchart\" onclick=\"quickchart('df-d96ced9c-b5bd-46cc-aeb5-4f08b7c202f0')\"\n",
              "            title=\"Suggest charts.\"\n",
              "            style=\"display:none;\">\n",
              "\n",
              "<svg xmlns=\"http://www.w3.org/2000/svg\" height=\"24px\"viewBox=\"0 0 24 24\"\n",
              "     width=\"24px\">\n",
              "    <g>\n",
              "        <path d=\"M19 3H5c-1.1 0-2 .9-2 2v14c0 1.1.9 2 2 2h14c1.1 0 2-.9 2-2V5c0-1.1-.9-2-2-2zM9 17H7v-7h2v7zm4 0h-2V7h2v10zm4 0h-2v-4h2v4z\"/>\n",
              "    </g>\n",
              "</svg>\n",
              "  </button>\n",
              "\n",
              "<style>\n",
              "  .colab-df-quickchart {\n",
              "      --bg-color: #E8F0FE;\n",
              "      --fill-color: #1967D2;\n",
              "      --hover-bg-color: #E2EBFA;\n",
              "      --hover-fill-color: #174EA6;\n",
              "      --disabled-fill-color: #AAA;\n",
              "      --disabled-bg-color: #DDD;\n",
              "  }\n",
              "\n",
              "  [theme=dark] .colab-df-quickchart {\n",
              "      --bg-color: #3B4455;\n",
              "      --fill-color: #D2E3FC;\n",
              "      --hover-bg-color: #434B5C;\n",
              "      --hover-fill-color: #FFFFFF;\n",
              "      --disabled-bg-color: #3B4455;\n",
              "      --disabled-fill-color: #666;\n",
              "  }\n",
              "\n",
              "  .colab-df-quickchart {\n",
              "    background-color: var(--bg-color);\n",
              "    border: none;\n",
              "    border-radius: 50%;\n",
              "    cursor: pointer;\n",
              "    display: none;\n",
              "    fill: var(--fill-color);\n",
              "    height: 32px;\n",
              "    padding: 0;\n",
              "    width: 32px;\n",
              "  }\n",
              "\n",
              "  .colab-df-quickchart:hover {\n",
              "    background-color: var(--hover-bg-color);\n",
              "    box-shadow: 0 1px 2px rgba(60, 64, 67, 0.3), 0 1px 3px 1px rgba(60, 64, 67, 0.15);\n",
              "    fill: var(--button-hover-fill-color);\n",
              "  }\n",
              "\n",
              "  .colab-df-quickchart-complete:disabled,\n",
              "  .colab-df-quickchart-complete:disabled:hover {\n",
              "    background-color: var(--disabled-bg-color);\n",
              "    fill: var(--disabled-fill-color);\n",
              "    box-shadow: none;\n",
              "  }\n",
              "\n",
              "  .colab-df-spinner {\n",
              "    border: 2px solid var(--fill-color);\n",
              "    border-color: transparent;\n",
              "    border-bottom-color: var(--fill-color);\n",
              "    animation:\n",
              "      spin 1s steps(1) infinite;\n",
              "  }\n",
              "\n",
              "  @keyframes spin {\n",
              "    0% {\n",
              "      border-color: transparent;\n",
              "      border-bottom-color: var(--fill-color);\n",
              "      border-left-color: var(--fill-color);\n",
              "    }\n",
              "    20% {\n",
              "      border-color: transparent;\n",
              "      border-left-color: var(--fill-color);\n",
              "      border-top-color: var(--fill-color);\n",
              "    }\n",
              "    30% {\n",
              "      border-color: transparent;\n",
              "      border-left-color: var(--fill-color);\n",
              "      border-top-color: var(--fill-color);\n",
              "      border-right-color: var(--fill-color);\n",
              "    }\n",
              "    40% {\n",
              "      border-color: transparent;\n",
              "      border-right-color: var(--fill-color);\n",
              "      border-top-color: var(--fill-color);\n",
              "    }\n",
              "    60% {\n",
              "      border-color: transparent;\n",
              "      border-right-color: var(--fill-color);\n",
              "    }\n",
              "    80% {\n",
              "      border-color: transparent;\n",
              "      border-right-color: var(--fill-color);\n",
              "      border-bottom-color: var(--fill-color);\n",
              "    }\n",
              "    90% {\n",
              "      border-color: transparent;\n",
              "      border-bottom-color: var(--fill-color);\n",
              "    }\n",
              "  }\n",
              "</style>\n",
              "\n",
              "  <script>\n",
              "    async function quickchart(key) {\n",
              "      const quickchartButtonEl =\n",
              "        document.querySelector('#' + key + ' button');\n",
              "      quickchartButtonEl.disabled = true;  // To prevent multiple clicks.\n",
              "      quickchartButtonEl.classList.add('colab-df-spinner');\n",
              "      try {\n",
              "        const charts = await google.colab.kernel.invokeFunction(\n",
              "            'suggestCharts', [key], {});\n",
              "      } catch (error) {\n",
              "        console.error('Error during call to suggestCharts:', error);\n",
              "      }\n",
              "      quickchartButtonEl.classList.remove('colab-df-spinner');\n",
              "      quickchartButtonEl.classList.add('colab-df-quickchart-complete');\n",
              "    }\n",
              "    (() => {\n",
              "      let quickchartButtonEl =\n",
              "        document.querySelector('#df-d96ced9c-b5bd-46cc-aeb5-4f08b7c202f0 button');\n",
              "      quickchartButtonEl.style.display =\n",
              "        google.colab.kernel.accessAllowed ? 'block' : 'none';\n",
              "    })();\n",
              "  </script>\n",
              "</div>\n",
              "    </div>\n",
              "  </div>\n"
            ]
          },
          "metadata": {},
          "execution_count": 30
        }
      ]
    },
    {
      "cell_type": "markdown",
      "source": [
        "#### Hyperparameter Tuning\n",
        "To conduct hyperparameter tuning on the SVM model, we will use a randomized grid search approach to reduce the required number of combinations for model computation. Specifically for SVM, the regularisation parameter C, the kernel to use, and the kernel coefficient gamma are the parameters of interest."
      ],
      "metadata": {
        "id": "eLCAj4tcich5"
      }
    },
    {
      "cell_type": "code",
      "source": [
        "def get_params(model, X_train, y_train, param_grid):\n",
        "    \"\"\"\n",
        "    This function applies randomized grid search for hyperparameter tuning on a given estimator and returns\n",
        "    the best score in combination with the according parameters used.\n",
        "    \"\"\"\n",
        "    grid_search = RandomizedSearchCV(estimator=model, param_distributions=param_grid,\n",
        "                                     scoring='accuracy', cv=5, n_jobs=-1, random_state=42)\n",
        "    grid_search.fit(X_train, y_train)\n",
        "    best_score = grid_search.best_score_ # retrieve best score\n",
        "    best_params = grid_search.best_params_ # retrieve best parameters\n",
        "    final_model = grid_search.best_estimator_\n",
        "\n",
        "    return best_score, best_params, final_model"
      ],
      "metadata": {
        "id": "aX3Jl-IWldMI"
      },
      "execution_count": null,
      "outputs": []
    },
    {
      "cell_type": "code",
      "source": [
        "# define parameter grid\n",
        "param_grid = {\n",
        "    'C': [0.01, 0.03, 0.1, 0.3, 1, 3, 5],\n",
        "    'kernel': ['poly', 'rbf'],\n",
        "    'gamma': [0.01, 0.03, 0.1, 0.3, 1, 3, 5]\n",
        "    }\n",
        "\n",
        "# define model\n",
        "svm_hog_cor_hp = SVC(random_state=42)"
      ],
      "metadata": {
        "id": "Ms3oGa4qifEp"
      },
      "execution_count": null,
      "outputs": []
    },
    {
      "cell_type": "code",
      "source": [
        "# apply grid search\n",
        "best_score, best_params, final_model = get_params(model=svm_hog_cor_hp, X_train=train_hog_corner, y_train=train_labels, param_grid=param_grid)"
      ],
      "metadata": {
        "id": "cDv12s5_ruht"
      },
      "execution_count": null,
      "outputs": []
    },
    {
      "cell_type": "code",
      "source": [
        "print(f'The best model parameters are: \\t\\t{best_params}\\n'\n",
        "      f'The highest accuract from cross-validation is: \\t{best_score:.2%}\\n')"
      ],
      "metadata": {
        "id": "hlxoHX2SsuIB",
        "colab": {
          "base_uri": "https://localhost:8080/"
        },
        "outputId": "07c0472e-4c8e-4a52-8f3a-c9eb4c1bda77"
      },
      "execution_count": null,
      "outputs": [
        {
          "output_type": "stream",
          "name": "stdout",
          "text": [
            "The best model parameters are: \t\t{'kernel': 'poly', 'gamma': 0.01, 'C': 0.01}\n",
            "The highest accuract from cross-validation is: \t55.25%\n",
            "\n"
          ]
        }
      ]
    },
    {
      "cell_type": "markdown",
      "source": [
        "Let's now test this parameter-optimized model on the test data."
      ],
      "metadata": {
        "id": "rDQau5SW-r_o"
      }
    },
    {
      "cell_type": "code",
      "source": [
        "# predict on test data\n",
        "y_pred_test = final_model.predict(test_hog_corner)\n",
        "\n",
        "# define test file for kaggle\n",
        "test_id = np.arange(0, 1136, 1)\n",
        "pred_file = pd.DataFrame({\"ID\":test_id, \"Predictions\": y_pred_test})\n",
        "pred_file.to_csv(\"Predictions/46165991-conv-svm-raw-hog-corner-paramopti.csv\", index=False, header=True)\n",
        "pred_file.head(5)"
      ],
      "metadata": {
        "colab": {
          "base_uri": "https://localhost:8080/",
          "height": 201
        },
        "outputId": "6c929cb1-9ba3-4684-fa61-358b0f404c34",
        "id": "DIWOnoHw-9F9"
      },
      "execution_count": null,
      "outputs": [
        {
          "output_type": "execute_result",
          "data": {
            "text/plain": [
              "   ID  Predictions\n",
              "0   0            3\n",
              "1   1            3\n",
              "2   2            2\n",
              "3   3            0\n",
              "4   4            6"
            ],
            "text/html": [
              "\n",
              "  <div id=\"df-d0d34d54-0446-4244-853f-798f7d319dcf\" class=\"colab-df-container\">\n",
              "    <div>\n",
              "<style scoped>\n",
              "    .dataframe tbody tr th:only-of-type {\n",
              "        vertical-align: middle;\n",
              "    }\n",
              "\n",
              "    .dataframe tbody tr th {\n",
              "        vertical-align: top;\n",
              "    }\n",
              "\n",
              "    .dataframe thead th {\n",
              "        text-align: right;\n",
              "    }\n",
              "</style>\n",
              "<table border=\"1\" class=\"dataframe\">\n",
              "  <thead>\n",
              "    <tr style=\"text-align: right;\">\n",
              "      <th></th>\n",
              "      <th>ID</th>\n",
              "      <th>Predictions</th>\n",
              "    </tr>\n",
              "  </thead>\n",
              "  <tbody>\n",
              "    <tr>\n",
              "      <th>0</th>\n",
              "      <td>0</td>\n",
              "      <td>3</td>\n",
              "    </tr>\n",
              "    <tr>\n",
              "      <th>1</th>\n",
              "      <td>1</td>\n",
              "      <td>3</td>\n",
              "    </tr>\n",
              "    <tr>\n",
              "      <th>2</th>\n",
              "      <td>2</td>\n",
              "      <td>2</td>\n",
              "    </tr>\n",
              "    <tr>\n",
              "      <th>3</th>\n",
              "      <td>3</td>\n",
              "      <td>0</td>\n",
              "    </tr>\n",
              "    <tr>\n",
              "      <th>4</th>\n",
              "      <td>4</td>\n",
              "      <td>6</td>\n",
              "    </tr>\n",
              "  </tbody>\n",
              "</table>\n",
              "</div>\n",
              "    <div class=\"colab-df-buttons\">\n",
              "\n",
              "  <div class=\"colab-df-container\">\n",
              "    <button class=\"colab-df-convert\" onclick=\"convertToInteractive('df-d0d34d54-0446-4244-853f-798f7d319dcf')\"\n",
              "            title=\"Convert this dataframe to an interactive table.\"\n",
              "            style=\"display:none;\">\n",
              "\n",
              "  <svg xmlns=\"http://www.w3.org/2000/svg\" height=\"24px\" viewBox=\"0 -960 960 960\">\n",
              "    <path d=\"M120-120v-720h720v720H120Zm60-500h600v-160H180v160Zm220 220h160v-160H400v160Zm0 220h160v-160H400v160ZM180-400h160v-160H180v160Zm440 0h160v-160H620v160ZM180-180h160v-160H180v160Zm440 0h160v-160H620v160Z\"/>\n",
              "  </svg>\n",
              "    </button>\n",
              "\n",
              "  <style>\n",
              "    .colab-df-container {\n",
              "      display:flex;\n",
              "      gap: 12px;\n",
              "    }\n",
              "\n",
              "    .colab-df-convert {\n",
              "      background-color: #E8F0FE;\n",
              "      border: none;\n",
              "      border-radius: 50%;\n",
              "      cursor: pointer;\n",
              "      display: none;\n",
              "      fill: #1967D2;\n",
              "      height: 32px;\n",
              "      padding: 0 0 0 0;\n",
              "      width: 32px;\n",
              "    }\n",
              "\n",
              "    .colab-df-convert:hover {\n",
              "      background-color: #E2EBFA;\n",
              "      box-shadow: 0px 1px 2px rgba(60, 64, 67, 0.3), 0px 1px 3px 1px rgba(60, 64, 67, 0.15);\n",
              "      fill: #174EA6;\n",
              "    }\n",
              "\n",
              "    .colab-df-buttons div {\n",
              "      margin-bottom: 4px;\n",
              "    }\n",
              "\n",
              "    [theme=dark] .colab-df-convert {\n",
              "      background-color: #3B4455;\n",
              "      fill: #D2E3FC;\n",
              "    }\n",
              "\n",
              "    [theme=dark] .colab-df-convert:hover {\n",
              "      background-color: #434B5C;\n",
              "      box-shadow: 0px 1px 3px 1px rgba(0, 0, 0, 0.15);\n",
              "      filter: drop-shadow(0px 1px 2px rgba(0, 0, 0, 0.3));\n",
              "      fill: #FFFFFF;\n",
              "    }\n",
              "  </style>\n",
              "\n",
              "    <script>\n",
              "      const buttonEl =\n",
              "        document.querySelector('#df-d0d34d54-0446-4244-853f-798f7d319dcf button.colab-df-convert');\n",
              "      buttonEl.style.display =\n",
              "        google.colab.kernel.accessAllowed ? 'block' : 'none';\n",
              "\n",
              "      async function convertToInteractive(key) {\n",
              "        const element = document.querySelector('#df-d0d34d54-0446-4244-853f-798f7d319dcf');\n",
              "        const dataTable =\n",
              "          await google.colab.kernel.invokeFunction('convertToInteractive',\n",
              "                                                    [key], {});\n",
              "        if (!dataTable) return;\n",
              "\n",
              "        const docLinkHtml = 'Like what you see? Visit the ' +\n",
              "          '<a target=\"_blank\" href=https://colab.research.google.com/notebooks/data_table.ipynb>data table notebook</a>'\n",
              "          + ' to learn more about interactive tables.';\n",
              "        element.innerHTML = '';\n",
              "        dataTable['output_type'] = 'display_data';\n",
              "        await google.colab.output.renderOutput(dataTable, element);\n",
              "        const docLink = document.createElement('div');\n",
              "        docLink.innerHTML = docLinkHtml;\n",
              "        element.appendChild(docLink);\n",
              "      }\n",
              "    </script>\n",
              "  </div>\n",
              "\n",
              "\n",
              "<div id=\"df-2c67b37c-1236-4c59-9000-b12daf600bc0\">\n",
              "  <button class=\"colab-df-quickchart\" onclick=\"quickchart('df-2c67b37c-1236-4c59-9000-b12daf600bc0')\"\n",
              "            title=\"Suggest charts.\"\n",
              "            style=\"display:none;\">\n",
              "\n",
              "<svg xmlns=\"http://www.w3.org/2000/svg\" height=\"24px\"viewBox=\"0 0 24 24\"\n",
              "     width=\"24px\">\n",
              "    <g>\n",
              "        <path d=\"M19 3H5c-1.1 0-2 .9-2 2v14c0 1.1.9 2 2 2h14c1.1 0 2-.9 2-2V5c0-1.1-.9-2-2-2zM9 17H7v-7h2v7zm4 0h-2V7h2v10zm4 0h-2v-4h2v4z\"/>\n",
              "    </g>\n",
              "</svg>\n",
              "  </button>\n",
              "\n",
              "<style>\n",
              "  .colab-df-quickchart {\n",
              "      --bg-color: #E8F0FE;\n",
              "      --fill-color: #1967D2;\n",
              "      --hover-bg-color: #E2EBFA;\n",
              "      --hover-fill-color: #174EA6;\n",
              "      --disabled-fill-color: #AAA;\n",
              "      --disabled-bg-color: #DDD;\n",
              "  }\n",
              "\n",
              "  [theme=dark] .colab-df-quickchart {\n",
              "      --bg-color: #3B4455;\n",
              "      --fill-color: #D2E3FC;\n",
              "      --hover-bg-color: #434B5C;\n",
              "      --hover-fill-color: #FFFFFF;\n",
              "      --disabled-bg-color: #3B4455;\n",
              "      --disabled-fill-color: #666;\n",
              "  }\n",
              "\n",
              "  .colab-df-quickchart {\n",
              "    background-color: var(--bg-color);\n",
              "    border: none;\n",
              "    border-radius: 50%;\n",
              "    cursor: pointer;\n",
              "    display: none;\n",
              "    fill: var(--fill-color);\n",
              "    height: 32px;\n",
              "    padding: 0;\n",
              "    width: 32px;\n",
              "  }\n",
              "\n",
              "  .colab-df-quickchart:hover {\n",
              "    background-color: var(--hover-bg-color);\n",
              "    box-shadow: 0 1px 2px rgba(60, 64, 67, 0.3), 0 1px 3px 1px rgba(60, 64, 67, 0.15);\n",
              "    fill: var(--button-hover-fill-color);\n",
              "  }\n",
              "\n",
              "  .colab-df-quickchart-complete:disabled,\n",
              "  .colab-df-quickchart-complete:disabled:hover {\n",
              "    background-color: var(--disabled-bg-color);\n",
              "    fill: var(--disabled-fill-color);\n",
              "    box-shadow: none;\n",
              "  }\n",
              "\n",
              "  .colab-df-spinner {\n",
              "    border: 2px solid var(--fill-color);\n",
              "    border-color: transparent;\n",
              "    border-bottom-color: var(--fill-color);\n",
              "    animation:\n",
              "      spin 1s steps(1) infinite;\n",
              "  }\n",
              "\n",
              "  @keyframes spin {\n",
              "    0% {\n",
              "      border-color: transparent;\n",
              "      border-bottom-color: var(--fill-color);\n",
              "      border-left-color: var(--fill-color);\n",
              "    }\n",
              "    20% {\n",
              "      border-color: transparent;\n",
              "      border-left-color: var(--fill-color);\n",
              "      border-top-color: var(--fill-color);\n",
              "    }\n",
              "    30% {\n",
              "      border-color: transparent;\n",
              "      border-left-color: var(--fill-color);\n",
              "      border-top-color: var(--fill-color);\n",
              "      border-right-color: var(--fill-color);\n",
              "    }\n",
              "    40% {\n",
              "      border-color: transparent;\n",
              "      border-right-color: var(--fill-color);\n",
              "      border-top-color: var(--fill-color);\n",
              "    }\n",
              "    60% {\n",
              "      border-color: transparent;\n",
              "      border-right-color: var(--fill-color);\n",
              "    }\n",
              "    80% {\n",
              "      border-color: transparent;\n",
              "      border-right-color: var(--fill-color);\n",
              "      border-bottom-color: var(--fill-color);\n",
              "    }\n",
              "    90% {\n",
              "      border-color: transparent;\n",
              "      border-bottom-color: var(--fill-color);\n",
              "    }\n",
              "  }\n",
              "</style>\n",
              "\n",
              "  <script>\n",
              "    async function quickchart(key) {\n",
              "      const quickchartButtonEl =\n",
              "        document.querySelector('#' + key + ' button');\n",
              "      quickchartButtonEl.disabled = true;  // To prevent multiple clicks.\n",
              "      quickchartButtonEl.classList.add('colab-df-spinner');\n",
              "      try {\n",
              "        const charts = await google.colab.kernel.invokeFunction(\n",
              "            'suggestCharts', [key], {});\n",
              "      } catch (error) {\n",
              "        console.error('Error during call to suggestCharts:', error);\n",
              "      }\n",
              "      quickchartButtonEl.classList.remove('colab-df-spinner');\n",
              "      quickchartButtonEl.classList.add('colab-df-quickchart-complete');\n",
              "    }\n",
              "    (() => {\n",
              "      let quickchartButtonEl =\n",
              "        document.querySelector('#df-2c67b37c-1236-4c59-9000-b12daf600bc0 button');\n",
              "      quickchartButtonEl.style.display =\n",
              "        google.colab.kernel.accessAllowed ? 'block' : 'none';\n",
              "    })();\n",
              "  </script>\n",
              "</div>\n",
              "    </div>\n",
              "  </div>\n"
            ]
          },
          "metadata": {},
          "execution_count": 38
        }
      ]
    },
    {
      "cell_type": "code",
      "source": [
        "# compare training class frequency and prediction class frequency\n",
        "class_freq_train = pd.DataFrame({'emotion': label_names, 'train_freq': np.round(percentages,2)}) # create training frequency df\n",
        "\n",
        "# create prediction frequency df\n",
        "prediction_counts = np.round(pd.Series(y_pred_test).value_counts(normalize=True).reset_index(),2)\n",
        "prediction_counts.columns = ['emotion', 'pred_freq']\n",
        "prediction_counts = prediction_counts.sort_values(by='emotion')\n",
        "prediction_counts['pred_freq'] = prediction_counts['pred_freq']*100\n",
        "\n",
        "# map numerical emotion values to actual emotions\n",
        "prediction_counts['emotion'] = prediction_counts['emotion'].map(label_classes)\n",
        "\n",
        "# set emotion columns as index\n",
        "prediction_counts.set_index('emotion', inplace=True)\n",
        "class_freq_train.set_index('emotion', inplace=True)\n",
        "\n",
        "raw_svm_freq = pd.merge(class_freq_train, prediction_counts, left_index=True, right_index=True, how='left') # merge on index\n",
        "raw_svm_freq['pred_freq'].fillna(0, inplace=True) # fill missing prediction classes with zero\n",
        "raw_svm_freq['freq_deviation'] = raw_svm_freq['train_freq']-raw_svm_freq['pred_freq'] # calculate frequency difference\n",
        "raw_svm_freq"
      ],
      "metadata": {
        "colab": {
          "base_uri": "https://localhost:8080/",
          "height": 291
        },
        "outputId": "02ce8638-d99c-4a55-a6ae-c80086363a33",
        "id": "Mh--S7TV-9F-"
      },
      "execution_count": null,
      "outputs": [
        {
          "output_type": "execute_result",
          "data": {
            "text/plain": [
              "           train_freq  pred_freq  freq_deviation\n",
              "emotion                                         \n",
              "angry           13.57       11.0            2.57\n",
              "disgusted        2.26        1.0            1.26\n",
              "fearful         11.87        7.0            4.87\n",
              "happy           29.33       34.0           -4.67\n",
              "sad             11.18        5.0            6.18\n",
              "surprised       11.28       10.0            1.28\n",
              "neutral         20.51       33.0          -12.49"
            ],
            "text/html": [
              "\n",
              "  <div id=\"df-f34d6ca0-4b45-40b1-a7d3-2ffb8d008767\" class=\"colab-df-container\">\n",
              "    <div>\n",
              "<style scoped>\n",
              "    .dataframe tbody tr th:only-of-type {\n",
              "        vertical-align: middle;\n",
              "    }\n",
              "\n",
              "    .dataframe tbody tr th {\n",
              "        vertical-align: top;\n",
              "    }\n",
              "\n",
              "    .dataframe thead th {\n",
              "        text-align: right;\n",
              "    }\n",
              "</style>\n",
              "<table border=\"1\" class=\"dataframe\">\n",
              "  <thead>\n",
              "    <tr style=\"text-align: right;\">\n",
              "      <th></th>\n",
              "      <th>train_freq</th>\n",
              "      <th>pred_freq</th>\n",
              "      <th>freq_deviation</th>\n",
              "    </tr>\n",
              "    <tr>\n",
              "      <th>emotion</th>\n",
              "      <th></th>\n",
              "      <th></th>\n",
              "      <th></th>\n",
              "    </tr>\n",
              "  </thead>\n",
              "  <tbody>\n",
              "    <tr>\n",
              "      <th>angry</th>\n",
              "      <td>13.57</td>\n",
              "      <td>11.0</td>\n",
              "      <td>2.57</td>\n",
              "    </tr>\n",
              "    <tr>\n",
              "      <th>disgusted</th>\n",
              "      <td>2.26</td>\n",
              "      <td>1.0</td>\n",
              "      <td>1.26</td>\n",
              "    </tr>\n",
              "    <tr>\n",
              "      <th>fearful</th>\n",
              "      <td>11.87</td>\n",
              "      <td>7.0</td>\n",
              "      <td>4.87</td>\n",
              "    </tr>\n",
              "    <tr>\n",
              "      <th>happy</th>\n",
              "      <td>29.33</td>\n",
              "      <td>34.0</td>\n",
              "      <td>-4.67</td>\n",
              "    </tr>\n",
              "    <tr>\n",
              "      <th>sad</th>\n",
              "      <td>11.18</td>\n",
              "      <td>5.0</td>\n",
              "      <td>6.18</td>\n",
              "    </tr>\n",
              "    <tr>\n",
              "      <th>surprised</th>\n",
              "      <td>11.28</td>\n",
              "      <td>10.0</td>\n",
              "      <td>1.28</td>\n",
              "    </tr>\n",
              "    <tr>\n",
              "      <th>neutral</th>\n",
              "      <td>20.51</td>\n",
              "      <td>33.0</td>\n",
              "      <td>-12.49</td>\n",
              "    </tr>\n",
              "  </tbody>\n",
              "</table>\n",
              "</div>\n",
              "    <div class=\"colab-df-buttons\">\n",
              "\n",
              "  <div class=\"colab-df-container\">\n",
              "    <button class=\"colab-df-convert\" onclick=\"convertToInteractive('df-f34d6ca0-4b45-40b1-a7d3-2ffb8d008767')\"\n",
              "            title=\"Convert this dataframe to an interactive table.\"\n",
              "            style=\"display:none;\">\n",
              "\n",
              "  <svg xmlns=\"http://www.w3.org/2000/svg\" height=\"24px\" viewBox=\"0 -960 960 960\">\n",
              "    <path d=\"M120-120v-720h720v720H120Zm60-500h600v-160H180v160Zm220 220h160v-160H400v160Zm0 220h160v-160H400v160ZM180-400h160v-160H180v160Zm440 0h160v-160H620v160ZM180-180h160v-160H180v160Zm440 0h160v-160H620v160Z\"/>\n",
              "  </svg>\n",
              "    </button>\n",
              "\n",
              "  <style>\n",
              "    .colab-df-container {\n",
              "      display:flex;\n",
              "      gap: 12px;\n",
              "    }\n",
              "\n",
              "    .colab-df-convert {\n",
              "      background-color: #E8F0FE;\n",
              "      border: none;\n",
              "      border-radius: 50%;\n",
              "      cursor: pointer;\n",
              "      display: none;\n",
              "      fill: #1967D2;\n",
              "      height: 32px;\n",
              "      padding: 0 0 0 0;\n",
              "      width: 32px;\n",
              "    }\n",
              "\n",
              "    .colab-df-convert:hover {\n",
              "      background-color: #E2EBFA;\n",
              "      box-shadow: 0px 1px 2px rgba(60, 64, 67, 0.3), 0px 1px 3px 1px rgba(60, 64, 67, 0.15);\n",
              "      fill: #174EA6;\n",
              "    }\n",
              "\n",
              "    .colab-df-buttons div {\n",
              "      margin-bottom: 4px;\n",
              "    }\n",
              "\n",
              "    [theme=dark] .colab-df-convert {\n",
              "      background-color: #3B4455;\n",
              "      fill: #D2E3FC;\n",
              "    }\n",
              "\n",
              "    [theme=dark] .colab-df-convert:hover {\n",
              "      background-color: #434B5C;\n",
              "      box-shadow: 0px 1px 3px 1px rgba(0, 0, 0, 0.15);\n",
              "      filter: drop-shadow(0px 1px 2px rgba(0, 0, 0, 0.3));\n",
              "      fill: #FFFFFF;\n",
              "    }\n",
              "  </style>\n",
              "\n",
              "    <script>\n",
              "      const buttonEl =\n",
              "        document.querySelector('#df-f34d6ca0-4b45-40b1-a7d3-2ffb8d008767 button.colab-df-convert');\n",
              "      buttonEl.style.display =\n",
              "        google.colab.kernel.accessAllowed ? 'block' : 'none';\n",
              "\n",
              "      async function convertToInteractive(key) {\n",
              "        const element = document.querySelector('#df-f34d6ca0-4b45-40b1-a7d3-2ffb8d008767');\n",
              "        const dataTable =\n",
              "          await google.colab.kernel.invokeFunction('convertToInteractive',\n",
              "                                                    [key], {});\n",
              "        if (!dataTable) return;\n",
              "\n",
              "        const docLinkHtml = 'Like what you see? Visit the ' +\n",
              "          '<a target=\"_blank\" href=https://colab.research.google.com/notebooks/data_table.ipynb>data table notebook</a>'\n",
              "          + ' to learn more about interactive tables.';\n",
              "        element.innerHTML = '';\n",
              "        dataTable['output_type'] = 'display_data';\n",
              "        await google.colab.output.renderOutput(dataTable, element);\n",
              "        const docLink = document.createElement('div');\n",
              "        docLink.innerHTML = docLinkHtml;\n",
              "        element.appendChild(docLink);\n",
              "      }\n",
              "    </script>\n",
              "  </div>\n",
              "\n",
              "\n",
              "<div id=\"df-3cdd6f87-83ad-419e-a7a6-1683856e6561\">\n",
              "  <button class=\"colab-df-quickchart\" onclick=\"quickchart('df-3cdd6f87-83ad-419e-a7a6-1683856e6561')\"\n",
              "            title=\"Suggest charts.\"\n",
              "            style=\"display:none;\">\n",
              "\n",
              "<svg xmlns=\"http://www.w3.org/2000/svg\" height=\"24px\"viewBox=\"0 0 24 24\"\n",
              "     width=\"24px\">\n",
              "    <g>\n",
              "        <path d=\"M19 3H5c-1.1 0-2 .9-2 2v14c0 1.1.9 2 2 2h14c1.1 0 2-.9 2-2V5c0-1.1-.9-2-2-2zM9 17H7v-7h2v7zm4 0h-2V7h2v10zm4 0h-2v-4h2v4z\"/>\n",
              "    </g>\n",
              "</svg>\n",
              "  </button>\n",
              "\n",
              "<style>\n",
              "  .colab-df-quickchart {\n",
              "      --bg-color: #E8F0FE;\n",
              "      --fill-color: #1967D2;\n",
              "      --hover-bg-color: #E2EBFA;\n",
              "      --hover-fill-color: #174EA6;\n",
              "      --disabled-fill-color: #AAA;\n",
              "      --disabled-bg-color: #DDD;\n",
              "  }\n",
              "\n",
              "  [theme=dark] .colab-df-quickchart {\n",
              "      --bg-color: #3B4455;\n",
              "      --fill-color: #D2E3FC;\n",
              "      --hover-bg-color: #434B5C;\n",
              "      --hover-fill-color: #FFFFFF;\n",
              "      --disabled-bg-color: #3B4455;\n",
              "      --disabled-fill-color: #666;\n",
              "  }\n",
              "\n",
              "  .colab-df-quickchart {\n",
              "    background-color: var(--bg-color);\n",
              "    border: none;\n",
              "    border-radius: 50%;\n",
              "    cursor: pointer;\n",
              "    display: none;\n",
              "    fill: var(--fill-color);\n",
              "    height: 32px;\n",
              "    padding: 0;\n",
              "    width: 32px;\n",
              "  }\n",
              "\n",
              "  .colab-df-quickchart:hover {\n",
              "    background-color: var(--hover-bg-color);\n",
              "    box-shadow: 0 1px 2px rgba(60, 64, 67, 0.3), 0 1px 3px 1px rgba(60, 64, 67, 0.15);\n",
              "    fill: var(--button-hover-fill-color);\n",
              "  }\n",
              "\n",
              "  .colab-df-quickchart-complete:disabled,\n",
              "  .colab-df-quickchart-complete:disabled:hover {\n",
              "    background-color: var(--disabled-bg-color);\n",
              "    fill: var(--disabled-fill-color);\n",
              "    box-shadow: none;\n",
              "  }\n",
              "\n",
              "  .colab-df-spinner {\n",
              "    border: 2px solid var(--fill-color);\n",
              "    border-color: transparent;\n",
              "    border-bottom-color: var(--fill-color);\n",
              "    animation:\n",
              "      spin 1s steps(1) infinite;\n",
              "  }\n",
              "\n",
              "  @keyframes spin {\n",
              "    0% {\n",
              "      border-color: transparent;\n",
              "      border-bottom-color: var(--fill-color);\n",
              "      border-left-color: var(--fill-color);\n",
              "    }\n",
              "    20% {\n",
              "      border-color: transparent;\n",
              "      border-left-color: var(--fill-color);\n",
              "      border-top-color: var(--fill-color);\n",
              "    }\n",
              "    30% {\n",
              "      border-color: transparent;\n",
              "      border-left-color: var(--fill-color);\n",
              "      border-top-color: var(--fill-color);\n",
              "      border-right-color: var(--fill-color);\n",
              "    }\n",
              "    40% {\n",
              "      border-color: transparent;\n",
              "      border-right-color: var(--fill-color);\n",
              "      border-top-color: var(--fill-color);\n",
              "    }\n",
              "    60% {\n",
              "      border-color: transparent;\n",
              "      border-right-color: var(--fill-color);\n",
              "    }\n",
              "    80% {\n",
              "      border-color: transparent;\n",
              "      border-right-color: var(--fill-color);\n",
              "      border-bottom-color: var(--fill-color);\n",
              "    }\n",
              "    90% {\n",
              "      border-color: transparent;\n",
              "      border-bottom-color: var(--fill-color);\n",
              "    }\n",
              "  }\n",
              "</style>\n",
              "\n",
              "  <script>\n",
              "    async function quickchart(key) {\n",
              "      const quickchartButtonEl =\n",
              "        document.querySelector('#' + key + ' button');\n",
              "      quickchartButtonEl.disabled = true;  // To prevent multiple clicks.\n",
              "      quickchartButtonEl.classList.add('colab-df-spinner');\n",
              "      try {\n",
              "        const charts = await google.colab.kernel.invokeFunction(\n",
              "            'suggestCharts', [key], {});\n",
              "      } catch (error) {\n",
              "        console.error('Error during call to suggestCharts:', error);\n",
              "      }\n",
              "      quickchartButtonEl.classList.remove('colab-df-spinner');\n",
              "      quickchartButtonEl.classList.add('colab-df-quickchart-complete');\n",
              "    }\n",
              "    (() => {\n",
              "      let quickchartButtonEl =\n",
              "        document.querySelector('#df-3cdd6f87-83ad-419e-a7a6-1683856e6561 button');\n",
              "      quickchartButtonEl.style.display =\n",
              "        google.colab.kernel.accessAllowed ? 'block' : 'none';\n",
              "    })();\n",
              "  </script>\n",
              "</div>\n",
              "    </div>\n",
              "  </div>\n"
            ]
          },
          "metadata": {},
          "execution_count": 39
        }
      ]
    },
    {
      "cell_type": "markdown",
      "source": [
        "It is interesting to see that this is the first model that also included predictions from the emotion 'disgusted'. While we cannot evaluate if these are correctly predicted simply from looking at the overall accuracy, it can be noted that the CV accuracy improved compared to the previous SVM model. Also this is the model which achieved the best test data accuracy so far with 55.9%."
      ],
      "metadata": {
        "id": "YGVooqp-ZIVQ"
      }
    },
    {
      "cell_type": "code",
      "source": [],
      "metadata": {
        "id": "w-5Z6um6-wPu"
      },
      "execution_count": null,
      "outputs": []
    },
    {
      "cell_type": "markdown",
      "source": [
        "### Naive Bayes"
      ],
      "metadata": {
        "id": "aJGNlUoUZBM4"
      }
    },
    {
      "cell_type": "markdown",
      "source": [
        "### Ensemble Methods"
      ],
      "metadata": {
        "id": "cUISz-XDieGj"
      }
    },
    {
      "cell_type": "markdown",
      "source": [
        "#### Random Forest"
      ],
      "metadata": {
        "id": "Z2FKbawRYwqH"
      }
    },
    {
      "cell_type": "code",
      "source": [
        "# initialise instance\n",
        "rf_clf_hog_cor = RandomForestClassifier(n_estimators = 100, criterion='entropy', min_samples_split=3, max_features='sqrt',\n",
        "                                        bootstrap=True, max_leaf_nodes = 16, n_jobs = -1, random_state = 42,\n",
        "                                        class_weight=None, max_samples=None)\n",
        "cv = StratifiedKFold(n_splits=5, shuffle=True, random_state=42) # use cross validation\n",
        "scores = cross_val_score(rf_clf_hog_cor, train_hog_corner, train_labels, cv=cv, scoring='accuracy') # evaluate\n",
        "rf_clf_hog_cor.fit(train_hog_corner, train_labels) # fit classifier on full data again\n",
        "y_pred = rf_clf_hog_cor.predict(val_hog_corner) # predict using validation data\n",
        "accuracy = accuracy_score(val_labels, y_pred) # calculate prediction accuracy"
      ],
      "metadata": {
        "id": "0qFQ9qMCvAiR"
      },
      "execution_count": null,
      "outputs": []
    },
    {
      "cell_type": "code",
      "source": [
        "# print cross-validation scores and final accuracy\n",
        "print(f'Cross-Validation Scores: \\t\\t\\t{scores}')\n",
        "print(f'Average Cross-Validation Accuracy: \\t\\t{np.mean(scores):.2%}')\n",
        "print(f'Cross-Validation Accuracy Standard Deviation: \\t{np.std(scores):.2%}')\n",
        "print(f'Final Accuracy on Validation Data: \\t\\t{accuracy:.2%}')"
      ],
      "metadata": {
        "colab": {
          "base_uri": "https://localhost:8080/"
        },
        "outputId": "db3b08b0-5aee-4d1f-8597-5c3d763c9732",
        "id": "SNW_D3fGwvw7"
      },
      "execution_count": null,
      "outputs": [
        {
          "output_type": "stream",
          "name": "stdout",
          "text": [
            "Cross-Validation Scores: \t\t\t[0.3857868  0.4006772  0.39390519 0.38713318 0.39164786]\n",
            "Average Cross-Validation Accuracy: \t\t39.18%\n",
            "Cross-Validation Accuracy Standard Deviation: \t0.53%\n",
            "Final Accuracy on Validation Data: \t\t39.19%\n"
          ]
        }
      ]
    },
    {
      "cell_type": "markdown",
      "source": [
        "It seems like the random forest algorithm is not well suited for detecting facial emotions from the input data given."
      ],
      "metadata": {
        "id": "P78OAyfGe_5J"
      }
    },
    {
      "cell_type": "markdown",
      "source": [
        "#### AdaBoost"
      ],
      "metadata": {
        "id": "v0sgrJhQZLAA"
      }
    },
    {
      "cell_type": "code",
      "source": [
        "ada_clf_hog_cor = AdaBoostClassifier(estimator=DecisionTreeClassifier(max_depth = 1), # decision stumps\n",
        "                                    n_estimators = 200,\n",
        "                                    algorithm = \"SAMME.R\", # real boosting algorithm\n",
        "                                    learning_rate = 0.5, # lower learning rate to support generalization through shrinkage\n",
        "                                    random_state = 42)\n",
        "cv = StratifiedKFold(n_splits=5, shuffle=True, random_state=42) # use cross validation\n",
        "scores = cross_val_score(ada_clf_hog_cor, train_hog_corner, train_labels, cv=cv, scoring='accuracy') # evaluate\n",
        "ada_clf_hog_cor.fit(train_hog_corner, train_labels) # fit classifier on full data again\n",
        "y_pred = ada_clf_hog_cor.predict(val_hog_corner) # predict using validation data\n",
        "accuracy = accuracy_score(val_labels, y_pred) # calculate prediction accuracy"
      ],
      "metadata": {
        "id": "Zrikni63j2jF"
      },
      "execution_count": 38,
      "outputs": []
    },
    {
      "cell_type": "code",
      "source": [
        "# print cross-validation scores and final accuracy\n",
        "print(f'Cross-Validation Scores: \\t\\t\\t{scores}')\n",
        "print(f'Average Cross-Validation Accuracy: \\t\\t{np.mean(scores):.2%}')\n",
        "print(f'Cross-Validation Accuracy Standard Deviation: \\t{np.std(scores):.2%}')\n",
        "print(f'Final Accuracy on Validation Data: \\t\\t{accuracy:.2%}')"
      ],
      "metadata": {
        "colab": {
          "base_uri": "https://localhost:8080/"
        },
        "id": "P67pr32wm_zX",
        "outputId": "965c39aa-05d9-4aa0-a7ed-31bae5bd42eb"
      },
      "execution_count": 39,
      "outputs": [
        {
          "output_type": "stream",
          "name": "stdout",
          "text": [
            "Cross-Validation Scores: \t\t\t[0.45685279 0.4486456  0.4503386  0.46557562 0.45316027]\n",
            "Average Cross-Validation Accuracy: \t\t45.49%\n",
            "Cross-Validation Accuracy Standard Deviation: \t0.60%\n",
            "Final Accuracy on Validation Data: \t\t50.75%\n"
          ]
        }
      ]
    },
    {
      "cell_type": "markdown",
      "source": [
        "Again, on its own, AdaBoost does not seem to be a promising model."
      ],
      "metadata": {
        "id": "FLzxKKfAuLlD"
      }
    },
    {
      "cell_type": "markdown",
      "source": [
        "#### XGBoost\n",
        "There are a few important hyperparameters to consider for XGBoost:\n",
        "\n",
        "\n",
        "1.   `'learning_rate'`: How fast the learning occurs; default=0.3.\n",
        "2.   `'gamma'`: Minimum loss reduction required to make a further partition on a leaf node of the tree. Larger gamma = more conservative; default=0.\n",
        "3.    `'max_depth'`: Maximum depth of a tree. Larger value = more complex, more likely to overfit; default=6.\n",
        "4.    `'subsample'`: Subsample ratio of the training instances; default=1 -> whole data. Regulate model complexity for overfitting.\n",
        "5.    `'eval_metric'`:\n",
        "6.    `'reg_alpha'`: L1 regularization term on weights.\n",
        "7.    `'reg_lambda'`: L2 regularization term on weights.\n",
        "8.    `'num_round'`: More rounds for smaller learning rate.\n",
        "9.    `'colsample_bytree'`: Subsample ratio of columns for tree construction.\n",
        "10.   `'scale_pos_weight'`: Useful for class imbalances e.g. `sum(negative instances) / sum(positive instances)`\n",
        "11.   `'objective'`: `multi:softmax` for multiclass classification --> needs `num_class` in conjunction.\n",
        "12.   `'eval_metric'`: `merror` and `mlogloss` reasonable\n"
      ],
      "metadata": {
        "id": "J_am_n2FZIEL"
      }
    },
    {
      "cell_type": "code",
      "source": [
        "xgb_clf_hog_cor = xgb.XGBClassifier()\n",
        "#cv = StratifiedKFold(n_splits=5, shuffle=True, random_state=42) # use cross validation\n",
        "#scores = cross_val_score(xgb_clf_hog_cor, train_hog_corner, train_labels, cv=cv, scoring='accuracy') # evaluate\n",
        "xgb_clf_hog_cor.fit(train_hog_corner, train_labels) # fit classifier on full data again\n",
        "y_pred = xgb_clf_hog_cor.predict(val_hog_corner) # predict using validation data\n",
        "accuracy = accuracy_score(val_labels, y_pred) # calculate prediction accuracy"
      ],
      "metadata": {
        "id": "8m36FHyBnUbz"
      },
      "execution_count": 46,
      "outputs": []
    },
    {
      "cell_type": "code",
      "source": [
        "# print cross-validation scores and final accuracy\n",
        "# print(f'Cross-Validation Scores: \\t\\t\\t{scores}')\n",
        "# print(f'Average Cross-Validation Accuracy: \\t\\t{np.mean(scores):.2%}')\n",
        "# print(f'Cross-Validation Accuracy Standard Deviation: \\t{np.std(scores):.2%}')\n",
        "print(f'Final Accuracy on Validation Data: \\t\\t{accuracy:.2%}')"
      ],
      "metadata": {
        "colab": {
          "base_uri": "https://localhost:8080/"
        },
        "id": "LlS_5Tjy2usu",
        "outputId": "d014df6d-f229-4d9f-d3d6-c664ad39d4ea"
      },
      "execution_count": 47,
      "outputs": [
        {
          "output_type": "stream",
          "name": "stdout",
          "text": [
            "Final Accuracy on Validation Data: \t\t60.81%\n"
          ]
        }
      ]
    },
    {
      "cell_type": "code",
      "source": [
        "# predict on test data\n",
        "y_pred_test = xgb_clf_hog_cor.predict(test_hog_corner)\n",
        "\n",
        "# define test file for kaggle\n",
        "test_id = np.arange(0, 1136, 1)\n",
        "pred_file = pd.DataFrame({\"ID\":test_id, \"Predictions\": y_pred_test})\n",
        "pred_file.to_csv(\"Predictions/46165991-conv-xgb-raw-hog-corner.csv\", index=False, header=True)\n",
        "pred_file.head(5)"
      ],
      "metadata": {
        "colab": {
          "base_uri": "https://localhost:8080/",
          "height": 201
        },
        "outputId": "0cf14c4f-74a2-4b75-e0d4-b94bf9633f5e",
        "id": "CONXa27R6eO2"
      },
      "execution_count": 48,
      "outputs": [
        {
          "output_type": "execute_result",
          "data": {
            "text/plain": [
              "   ID  Predictions\n",
              "0   0            3\n",
              "1   1            3\n",
              "2   2            2\n",
              "3   3            0\n",
              "4   4            6"
            ],
            "text/html": [
              "\n",
              "  <div id=\"df-4ce7ad58-de2e-443b-9a36-87cbf9718be5\" class=\"colab-df-container\">\n",
              "    <div>\n",
              "<style scoped>\n",
              "    .dataframe tbody tr th:only-of-type {\n",
              "        vertical-align: middle;\n",
              "    }\n",
              "\n",
              "    .dataframe tbody tr th {\n",
              "        vertical-align: top;\n",
              "    }\n",
              "\n",
              "    .dataframe thead th {\n",
              "        text-align: right;\n",
              "    }\n",
              "</style>\n",
              "<table border=\"1\" class=\"dataframe\">\n",
              "  <thead>\n",
              "    <tr style=\"text-align: right;\">\n",
              "      <th></th>\n",
              "      <th>ID</th>\n",
              "      <th>Predictions</th>\n",
              "    </tr>\n",
              "  </thead>\n",
              "  <tbody>\n",
              "    <tr>\n",
              "      <th>0</th>\n",
              "      <td>0</td>\n",
              "      <td>3</td>\n",
              "    </tr>\n",
              "    <tr>\n",
              "      <th>1</th>\n",
              "      <td>1</td>\n",
              "      <td>3</td>\n",
              "    </tr>\n",
              "    <tr>\n",
              "      <th>2</th>\n",
              "      <td>2</td>\n",
              "      <td>2</td>\n",
              "    </tr>\n",
              "    <tr>\n",
              "      <th>3</th>\n",
              "      <td>3</td>\n",
              "      <td>0</td>\n",
              "    </tr>\n",
              "    <tr>\n",
              "      <th>4</th>\n",
              "      <td>4</td>\n",
              "      <td>6</td>\n",
              "    </tr>\n",
              "  </tbody>\n",
              "</table>\n",
              "</div>\n",
              "    <div class=\"colab-df-buttons\">\n",
              "\n",
              "  <div class=\"colab-df-container\">\n",
              "    <button class=\"colab-df-convert\" onclick=\"convertToInteractive('df-4ce7ad58-de2e-443b-9a36-87cbf9718be5')\"\n",
              "            title=\"Convert this dataframe to an interactive table.\"\n",
              "            style=\"display:none;\">\n",
              "\n",
              "  <svg xmlns=\"http://www.w3.org/2000/svg\" height=\"24px\" viewBox=\"0 -960 960 960\">\n",
              "    <path d=\"M120-120v-720h720v720H120Zm60-500h600v-160H180v160Zm220 220h160v-160H400v160Zm0 220h160v-160H400v160ZM180-400h160v-160H180v160Zm440 0h160v-160H620v160ZM180-180h160v-160H180v160Zm440 0h160v-160H620v160Z\"/>\n",
              "  </svg>\n",
              "    </button>\n",
              "\n",
              "  <style>\n",
              "    .colab-df-container {\n",
              "      display:flex;\n",
              "      gap: 12px;\n",
              "    }\n",
              "\n",
              "    .colab-df-convert {\n",
              "      background-color: #E8F0FE;\n",
              "      border: none;\n",
              "      border-radius: 50%;\n",
              "      cursor: pointer;\n",
              "      display: none;\n",
              "      fill: #1967D2;\n",
              "      height: 32px;\n",
              "      padding: 0 0 0 0;\n",
              "      width: 32px;\n",
              "    }\n",
              "\n",
              "    .colab-df-convert:hover {\n",
              "      background-color: #E2EBFA;\n",
              "      box-shadow: 0px 1px 2px rgba(60, 64, 67, 0.3), 0px 1px 3px 1px rgba(60, 64, 67, 0.15);\n",
              "      fill: #174EA6;\n",
              "    }\n",
              "\n",
              "    .colab-df-buttons div {\n",
              "      margin-bottom: 4px;\n",
              "    }\n",
              "\n",
              "    [theme=dark] .colab-df-convert {\n",
              "      background-color: #3B4455;\n",
              "      fill: #D2E3FC;\n",
              "    }\n",
              "\n",
              "    [theme=dark] .colab-df-convert:hover {\n",
              "      background-color: #434B5C;\n",
              "      box-shadow: 0px 1px 3px 1px rgba(0, 0, 0, 0.15);\n",
              "      filter: drop-shadow(0px 1px 2px rgba(0, 0, 0, 0.3));\n",
              "      fill: #FFFFFF;\n",
              "    }\n",
              "  </style>\n",
              "\n",
              "    <script>\n",
              "      const buttonEl =\n",
              "        document.querySelector('#df-4ce7ad58-de2e-443b-9a36-87cbf9718be5 button.colab-df-convert');\n",
              "      buttonEl.style.display =\n",
              "        google.colab.kernel.accessAllowed ? 'block' : 'none';\n",
              "\n",
              "      async function convertToInteractive(key) {\n",
              "        const element = document.querySelector('#df-4ce7ad58-de2e-443b-9a36-87cbf9718be5');\n",
              "        const dataTable =\n",
              "          await google.colab.kernel.invokeFunction('convertToInteractive',\n",
              "                                                    [key], {});\n",
              "        if (!dataTable) return;\n",
              "\n",
              "        const docLinkHtml = 'Like what you see? Visit the ' +\n",
              "          '<a target=\"_blank\" href=https://colab.research.google.com/notebooks/data_table.ipynb>data table notebook</a>'\n",
              "          + ' to learn more about interactive tables.';\n",
              "        element.innerHTML = '';\n",
              "        dataTable['output_type'] = 'display_data';\n",
              "        await google.colab.output.renderOutput(dataTable, element);\n",
              "        const docLink = document.createElement('div');\n",
              "        docLink.innerHTML = docLinkHtml;\n",
              "        element.appendChild(docLink);\n",
              "      }\n",
              "    </script>\n",
              "  </div>\n",
              "\n",
              "\n",
              "<div id=\"df-321ccece-2b07-4f90-8971-67b5fbdbac7d\">\n",
              "  <button class=\"colab-df-quickchart\" onclick=\"quickchart('df-321ccece-2b07-4f90-8971-67b5fbdbac7d')\"\n",
              "            title=\"Suggest charts.\"\n",
              "            style=\"display:none;\">\n",
              "\n",
              "<svg xmlns=\"http://www.w3.org/2000/svg\" height=\"24px\"viewBox=\"0 0 24 24\"\n",
              "     width=\"24px\">\n",
              "    <g>\n",
              "        <path d=\"M19 3H5c-1.1 0-2 .9-2 2v14c0 1.1.9 2 2 2h14c1.1 0 2-.9 2-2V5c0-1.1-.9-2-2-2zM9 17H7v-7h2v7zm4 0h-2V7h2v10zm4 0h-2v-4h2v4z\"/>\n",
              "    </g>\n",
              "</svg>\n",
              "  </button>\n",
              "\n",
              "<style>\n",
              "  .colab-df-quickchart {\n",
              "      --bg-color: #E8F0FE;\n",
              "      --fill-color: #1967D2;\n",
              "      --hover-bg-color: #E2EBFA;\n",
              "      --hover-fill-color: #174EA6;\n",
              "      --disabled-fill-color: #AAA;\n",
              "      --disabled-bg-color: #DDD;\n",
              "  }\n",
              "\n",
              "  [theme=dark] .colab-df-quickchart {\n",
              "      --bg-color: #3B4455;\n",
              "      --fill-color: #D2E3FC;\n",
              "      --hover-bg-color: #434B5C;\n",
              "      --hover-fill-color: #FFFFFF;\n",
              "      --disabled-bg-color: #3B4455;\n",
              "      --disabled-fill-color: #666;\n",
              "  }\n",
              "\n",
              "  .colab-df-quickchart {\n",
              "    background-color: var(--bg-color);\n",
              "    border: none;\n",
              "    border-radius: 50%;\n",
              "    cursor: pointer;\n",
              "    display: none;\n",
              "    fill: var(--fill-color);\n",
              "    height: 32px;\n",
              "    padding: 0;\n",
              "    width: 32px;\n",
              "  }\n",
              "\n",
              "  .colab-df-quickchart:hover {\n",
              "    background-color: var(--hover-bg-color);\n",
              "    box-shadow: 0 1px 2px rgba(60, 64, 67, 0.3), 0 1px 3px 1px rgba(60, 64, 67, 0.15);\n",
              "    fill: var(--button-hover-fill-color);\n",
              "  }\n",
              "\n",
              "  .colab-df-quickchart-complete:disabled,\n",
              "  .colab-df-quickchart-complete:disabled:hover {\n",
              "    background-color: var(--disabled-bg-color);\n",
              "    fill: var(--disabled-fill-color);\n",
              "    box-shadow: none;\n",
              "  }\n",
              "\n",
              "  .colab-df-spinner {\n",
              "    border: 2px solid var(--fill-color);\n",
              "    border-color: transparent;\n",
              "    border-bottom-color: var(--fill-color);\n",
              "    animation:\n",
              "      spin 1s steps(1) infinite;\n",
              "  }\n",
              "\n",
              "  @keyframes spin {\n",
              "    0% {\n",
              "      border-color: transparent;\n",
              "      border-bottom-color: var(--fill-color);\n",
              "      border-left-color: var(--fill-color);\n",
              "    }\n",
              "    20% {\n",
              "      border-color: transparent;\n",
              "      border-left-color: var(--fill-color);\n",
              "      border-top-color: var(--fill-color);\n",
              "    }\n",
              "    30% {\n",
              "      border-color: transparent;\n",
              "      border-left-color: var(--fill-color);\n",
              "      border-top-color: var(--fill-color);\n",
              "      border-right-color: var(--fill-color);\n",
              "    }\n",
              "    40% {\n",
              "      border-color: transparent;\n",
              "      border-right-color: var(--fill-color);\n",
              "      border-top-color: var(--fill-color);\n",
              "    }\n",
              "    60% {\n",
              "      border-color: transparent;\n",
              "      border-right-color: var(--fill-color);\n",
              "    }\n",
              "    80% {\n",
              "      border-color: transparent;\n",
              "      border-right-color: var(--fill-color);\n",
              "      border-bottom-color: var(--fill-color);\n",
              "    }\n",
              "    90% {\n",
              "      border-color: transparent;\n",
              "      border-bottom-color: var(--fill-color);\n",
              "    }\n",
              "  }\n",
              "</style>\n",
              "\n",
              "  <script>\n",
              "    async function quickchart(key) {\n",
              "      const quickchartButtonEl =\n",
              "        document.querySelector('#' + key + ' button');\n",
              "      quickchartButtonEl.disabled = true;  // To prevent multiple clicks.\n",
              "      quickchartButtonEl.classList.add('colab-df-spinner');\n",
              "      try {\n",
              "        const charts = await google.colab.kernel.invokeFunction(\n",
              "            'suggestCharts', [key], {});\n",
              "      } catch (error) {\n",
              "        console.error('Error during call to suggestCharts:', error);\n",
              "      }\n",
              "      quickchartButtonEl.classList.remove('colab-df-spinner');\n",
              "      quickchartButtonEl.classList.add('colab-df-quickchart-complete');\n",
              "    }\n",
              "    (() => {\n",
              "      let quickchartButtonEl =\n",
              "        document.querySelector('#df-321ccece-2b07-4f90-8971-67b5fbdbac7d button');\n",
              "      quickchartButtonEl.style.display =\n",
              "        google.colab.kernel.accessAllowed ? 'block' : 'none';\n",
              "    })();\n",
              "  </script>\n",
              "</div>\n",
              "    </div>\n",
              "  </div>\n"
            ]
          },
          "metadata": {},
          "execution_count": 48
        }
      ]
    },
    {
      "cell_type": "code",
      "source": [
        "# compare training class frequency and prediction class frequency\n",
        "class_freq_train = pd.DataFrame({'emotion': label_names, 'train_freq': np.round(percentages,2)}) # create training frequency df\n",
        "\n",
        "# create prediction frequency df\n",
        "prediction_counts = np.round(pd.Series(y_pred_test).value_counts(normalize=True).reset_index(),2)\n",
        "prediction_counts.columns = ['emotion', 'pred_freq']\n",
        "prediction_counts = prediction_counts.sort_values(by='emotion')\n",
        "prediction_counts['pred_freq'] = prediction_counts['pred_freq']*100\n",
        "\n",
        "# map numerical emotion values to actual emotions\n",
        "prediction_counts['emotion'] = prediction_counts['emotion'].map(label_classes)\n",
        "\n",
        "# set emotion columns as index\n",
        "prediction_counts.set_index('emotion', inplace=True)\n",
        "class_freq_train.set_index('emotion', inplace=True)\n",
        "\n",
        "raw_svm_freq = pd.merge(class_freq_train, prediction_counts, left_index=True, right_index=True, how='left') # merge on index\n",
        "raw_svm_freq['pred_freq'].fillna(0, inplace=True) # fill missing prediction classes with zero\n",
        "raw_svm_freq['freq_deviation'] = raw_svm_freq['train_freq']-raw_svm_freq['pred_freq'] # calculate frequency difference\n",
        "raw_svm_freq"
      ],
      "metadata": {
        "colab": {
          "base_uri": "https://localhost:8080/",
          "height": 291
        },
        "outputId": "cc3d842e-afb9-4c9c-932b-60ea533e9187",
        "id": "el3RBnSR6eO8"
      },
      "execution_count": 49,
      "outputs": [
        {
          "output_type": "execute_result",
          "data": {
            "text/plain": [
              "           train_freq  pred_freq  freq_deviation\n",
              "emotion                                         \n",
              "angry           13.57       10.0            3.57\n",
              "disgusted        2.26        1.0            1.26\n",
              "fearful         11.87        8.0            3.87\n",
              "happy           29.33       35.0           -5.67\n",
              "sad             11.18        7.0            4.18\n",
              "surprised       11.28       10.0            1.28\n",
              "neutral         20.51       30.0           -9.49"
            ],
            "text/html": [
              "\n",
              "  <div id=\"df-5e0400eb-5402-4a54-961c-06894c903f35\" class=\"colab-df-container\">\n",
              "    <div>\n",
              "<style scoped>\n",
              "    .dataframe tbody tr th:only-of-type {\n",
              "        vertical-align: middle;\n",
              "    }\n",
              "\n",
              "    .dataframe tbody tr th {\n",
              "        vertical-align: top;\n",
              "    }\n",
              "\n",
              "    .dataframe thead th {\n",
              "        text-align: right;\n",
              "    }\n",
              "</style>\n",
              "<table border=\"1\" class=\"dataframe\">\n",
              "  <thead>\n",
              "    <tr style=\"text-align: right;\">\n",
              "      <th></th>\n",
              "      <th>train_freq</th>\n",
              "      <th>pred_freq</th>\n",
              "      <th>freq_deviation</th>\n",
              "    </tr>\n",
              "    <tr>\n",
              "      <th>emotion</th>\n",
              "      <th></th>\n",
              "      <th></th>\n",
              "      <th></th>\n",
              "    </tr>\n",
              "  </thead>\n",
              "  <tbody>\n",
              "    <tr>\n",
              "      <th>angry</th>\n",
              "      <td>13.57</td>\n",
              "      <td>10.0</td>\n",
              "      <td>3.57</td>\n",
              "    </tr>\n",
              "    <tr>\n",
              "      <th>disgusted</th>\n",
              "      <td>2.26</td>\n",
              "      <td>1.0</td>\n",
              "      <td>1.26</td>\n",
              "    </tr>\n",
              "    <tr>\n",
              "      <th>fearful</th>\n",
              "      <td>11.87</td>\n",
              "      <td>8.0</td>\n",
              "      <td>3.87</td>\n",
              "    </tr>\n",
              "    <tr>\n",
              "      <th>happy</th>\n",
              "      <td>29.33</td>\n",
              "      <td>35.0</td>\n",
              "      <td>-5.67</td>\n",
              "    </tr>\n",
              "    <tr>\n",
              "      <th>sad</th>\n",
              "      <td>11.18</td>\n",
              "      <td>7.0</td>\n",
              "      <td>4.18</td>\n",
              "    </tr>\n",
              "    <tr>\n",
              "      <th>surprised</th>\n",
              "      <td>11.28</td>\n",
              "      <td>10.0</td>\n",
              "      <td>1.28</td>\n",
              "    </tr>\n",
              "    <tr>\n",
              "      <th>neutral</th>\n",
              "      <td>20.51</td>\n",
              "      <td>30.0</td>\n",
              "      <td>-9.49</td>\n",
              "    </tr>\n",
              "  </tbody>\n",
              "</table>\n",
              "</div>\n",
              "    <div class=\"colab-df-buttons\">\n",
              "\n",
              "  <div class=\"colab-df-container\">\n",
              "    <button class=\"colab-df-convert\" onclick=\"convertToInteractive('df-5e0400eb-5402-4a54-961c-06894c903f35')\"\n",
              "            title=\"Convert this dataframe to an interactive table.\"\n",
              "            style=\"display:none;\">\n",
              "\n",
              "  <svg xmlns=\"http://www.w3.org/2000/svg\" height=\"24px\" viewBox=\"0 -960 960 960\">\n",
              "    <path d=\"M120-120v-720h720v720H120Zm60-500h600v-160H180v160Zm220 220h160v-160H400v160Zm0 220h160v-160H400v160ZM180-400h160v-160H180v160Zm440 0h160v-160H620v160ZM180-180h160v-160H180v160Zm440 0h160v-160H620v160Z\"/>\n",
              "  </svg>\n",
              "    </button>\n",
              "\n",
              "  <style>\n",
              "    .colab-df-container {\n",
              "      display:flex;\n",
              "      gap: 12px;\n",
              "    }\n",
              "\n",
              "    .colab-df-convert {\n",
              "      background-color: #E8F0FE;\n",
              "      border: none;\n",
              "      border-radius: 50%;\n",
              "      cursor: pointer;\n",
              "      display: none;\n",
              "      fill: #1967D2;\n",
              "      height: 32px;\n",
              "      padding: 0 0 0 0;\n",
              "      width: 32px;\n",
              "    }\n",
              "\n",
              "    .colab-df-convert:hover {\n",
              "      background-color: #E2EBFA;\n",
              "      box-shadow: 0px 1px 2px rgba(60, 64, 67, 0.3), 0px 1px 3px 1px rgba(60, 64, 67, 0.15);\n",
              "      fill: #174EA6;\n",
              "    }\n",
              "\n",
              "    .colab-df-buttons div {\n",
              "      margin-bottom: 4px;\n",
              "    }\n",
              "\n",
              "    [theme=dark] .colab-df-convert {\n",
              "      background-color: #3B4455;\n",
              "      fill: #D2E3FC;\n",
              "    }\n",
              "\n",
              "    [theme=dark] .colab-df-convert:hover {\n",
              "      background-color: #434B5C;\n",
              "      box-shadow: 0px 1px 3px 1px rgba(0, 0, 0, 0.15);\n",
              "      filter: drop-shadow(0px 1px 2px rgba(0, 0, 0, 0.3));\n",
              "      fill: #FFFFFF;\n",
              "    }\n",
              "  </style>\n",
              "\n",
              "    <script>\n",
              "      const buttonEl =\n",
              "        document.querySelector('#df-5e0400eb-5402-4a54-961c-06894c903f35 button.colab-df-convert');\n",
              "      buttonEl.style.display =\n",
              "        google.colab.kernel.accessAllowed ? 'block' : 'none';\n",
              "\n",
              "      async function convertToInteractive(key) {\n",
              "        const element = document.querySelector('#df-5e0400eb-5402-4a54-961c-06894c903f35');\n",
              "        const dataTable =\n",
              "          await google.colab.kernel.invokeFunction('convertToInteractive',\n",
              "                                                    [key], {});\n",
              "        if (!dataTable) return;\n",
              "\n",
              "        const docLinkHtml = 'Like what you see? Visit the ' +\n",
              "          '<a target=\"_blank\" href=https://colab.research.google.com/notebooks/data_table.ipynb>data table notebook</a>'\n",
              "          + ' to learn more about interactive tables.';\n",
              "        element.innerHTML = '';\n",
              "        dataTable['output_type'] = 'display_data';\n",
              "        await google.colab.output.renderOutput(dataTable, element);\n",
              "        const docLink = document.createElement('div');\n",
              "        docLink.innerHTML = docLinkHtml;\n",
              "        element.appendChild(docLink);\n",
              "      }\n",
              "    </script>\n",
              "  </div>\n",
              "\n",
              "\n",
              "<div id=\"df-ae764959-91d0-4d6c-9577-3ae902d3835f\">\n",
              "  <button class=\"colab-df-quickchart\" onclick=\"quickchart('df-ae764959-91d0-4d6c-9577-3ae902d3835f')\"\n",
              "            title=\"Suggest charts.\"\n",
              "            style=\"display:none;\">\n",
              "\n",
              "<svg xmlns=\"http://www.w3.org/2000/svg\" height=\"24px\"viewBox=\"0 0 24 24\"\n",
              "     width=\"24px\">\n",
              "    <g>\n",
              "        <path d=\"M19 3H5c-1.1 0-2 .9-2 2v14c0 1.1.9 2 2 2h14c1.1 0 2-.9 2-2V5c0-1.1-.9-2-2-2zM9 17H7v-7h2v7zm4 0h-2V7h2v10zm4 0h-2v-4h2v4z\"/>\n",
              "    </g>\n",
              "</svg>\n",
              "  </button>\n",
              "\n",
              "<style>\n",
              "  .colab-df-quickchart {\n",
              "      --bg-color: #E8F0FE;\n",
              "      --fill-color: #1967D2;\n",
              "      --hover-bg-color: #E2EBFA;\n",
              "      --hover-fill-color: #174EA6;\n",
              "      --disabled-fill-color: #AAA;\n",
              "      --disabled-bg-color: #DDD;\n",
              "  }\n",
              "\n",
              "  [theme=dark] .colab-df-quickchart {\n",
              "      --bg-color: #3B4455;\n",
              "      --fill-color: #D2E3FC;\n",
              "      --hover-bg-color: #434B5C;\n",
              "      --hover-fill-color: #FFFFFF;\n",
              "      --disabled-bg-color: #3B4455;\n",
              "      --disabled-fill-color: #666;\n",
              "  }\n",
              "\n",
              "  .colab-df-quickchart {\n",
              "    background-color: var(--bg-color);\n",
              "    border: none;\n",
              "    border-radius: 50%;\n",
              "    cursor: pointer;\n",
              "    display: none;\n",
              "    fill: var(--fill-color);\n",
              "    height: 32px;\n",
              "    padding: 0;\n",
              "    width: 32px;\n",
              "  }\n",
              "\n",
              "  .colab-df-quickchart:hover {\n",
              "    background-color: var(--hover-bg-color);\n",
              "    box-shadow: 0 1px 2px rgba(60, 64, 67, 0.3), 0 1px 3px 1px rgba(60, 64, 67, 0.15);\n",
              "    fill: var(--button-hover-fill-color);\n",
              "  }\n",
              "\n",
              "  .colab-df-quickchart-complete:disabled,\n",
              "  .colab-df-quickchart-complete:disabled:hover {\n",
              "    background-color: var(--disabled-bg-color);\n",
              "    fill: var(--disabled-fill-color);\n",
              "    box-shadow: none;\n",
              "  }\n",
              "\n",
              "  .colab-df-spinner {\n",
              "    border: 2px solid var(--fill-color);\n",
              "    border-color: transparent;\n",
              "    border-bottom-color: var(--fill-color);\n",
              "    animation:\n",
              "      spin 1s steps(1) infinite;\n",
              "  }\n",
              "\n",
              "  @keyframes spin {\n",
              "    0% {\n",
              "      border-color: transparent;\n",
              "      border-bottom-color: var(--fill-color);\n",
              "      border-left-color: var(--fill-color);\n",
              "    }\n",
              "    20% {\n",
              "      border-color: transparent;\n",
              "      border-left-color: var(--fill-color);\n",
              "      border-top-color: var(--fill-color);\n",
              "    }\n",
              "    30% {\n",
              "      border-color: transparent;\n",
              "      border-left-color: var(--fill-color);\n",
              "      border-top-color: var(--fill-color);\n",
              "      border-right-color: var(--fill-color);\n",
              "    }\n",
              "    40% {\n",
              "      border-color: transparent;\n",
              "      border-right-color: var(--fill-color);\n",
              "      border-top-color: var(--fill-color);\n",
              "    }\n",
              "    60% {\n",
              "      border-color: transparent;\n",
              "      border-right-color: var(--fill-color);\n",
              "    }\n",
              "    80% {\n",
              "      border-color: transparent;\n",
              "      border-right-color: var(--fill-color);\n",
              "      border-bottom-color: var(--fill-color);\n",
              "    }\n",
              "    90% {\n",
              "      border-color: transparent;\n",
              "      border-bottom-color: var(--fill-color);\n",
              "    }\n",
              "  }\n",
              "</style>\n",
              "\n",
              "  <script>\n",
              "    async function quickchart(key) {\n",
              "      const quickchartButtonEl =\n",
              "        document.querySelector('#' + key + ' button');\n",
              "      quickchartButtonEl.disabled = true;  // To prevent multiple clicks.\n",
              "      quickchartButtonEl.classList.add('colab-df-spinner');\n",
              "      try {\n",
              "        const charts = await google.colab.kernel.invokeFunction(\n",
              "            'suggestCharts', [key], {});\n",
              "      } catch (error) {\n",
              "        console.error('Error during call to suggestCharts:', error);\n",
              "      }\n",
              "      quickchartButtonEl.classList.remove('colab-df-spinner');\n",
              "      quickchartButtonEl.classList.add('colab-df-quickchart-complete');\n",
              "    }\n",
              "    (() => {\n",
              "      let quickchartButtonEl =\n",
              "        document.querySelector('#df-ae764959-91d0-4d6c-9577-3ae902d3835f button');\n",
              "      quickchartButtonEl.style.display =\n",
              "        google.colab.kernel.accessAllowed ? 'block' : 'none';\n",
              "    })();\n",
              "  </script>\n",
              "</div>\n",
              "    </div>\n",
              "  </div>\n"
            ]
          },
          "metadata": {},
          "execution_count": 49
        }
      ]
    },
    {
      "cell_type": "markdown",
      "source": [
        "Just the default XGBoost model on this input data combination looks already more promising than the hyperparameter tuned SVM. On the test data, this model achieved an accuracy of 59.07%."
      ],
      "metadata": {
        "id": "ta695xfb7Bdm"
      }
    },
    {
      "cell_type": "markdown",
      "source": [
        "#### Stacking\n",
        "Another approach is to leverage the capabilities of several models through stacking. We will employ different ensemble methods for model training and then use their validation set predictions as input for a final meta-model.\n",
        "https://medium.com/@brijesh_soni/stacking-to-improve-model-performance-a-comprehensive-guide-on-ensemble-learning-in-python-9ed53c93ce28"
      ],
      "metadata": {
        "id": "uSvPvaGFZVcZ"
      }
    },
    {
      "cell_type": "markdown",
      "source": [
        "## Raw Data + HOG + Harris Corner + LBP ML Model"
      ],
      "metadata": {
        "id": "I-h6j7n4E9rX"
      }
    },
    {
      "cell_type": "markdown",
      "source": [
        "### Support Vector Machine"
      ],
      "metadata": {
        "id": "tqXt79HVE9rd"
      }
    },
    {
      "cell_type": "code",
      "source": [
        "svm_clf_hog_corner_lbp = SVC(kernel='rbf', C=1.0) # initialise instance\n",
        "cv = StratifiedKFold(n_splits=5, shuffle=True, random_state=42) # use cross validation\n",
        "scores = cross_val_score(svm_clf_hog_corner_lbp, train_hog_corner_lbp, train_labels, cv=cv, scoring='accuracy') # evaluate\n",
        "svm_clf_hog_corner_lbp.fit(train_hog_corner_lbp, train_labels) # fit classifier on full data again\n",
        "y_pred = svm_clf_hog_corner_lbp.predict(val_hog_corner_lbp) # predict using validation data\n",
        "accuracy = accuracy_score(val_labels, y_pred) # calculate prediction accuracy"
      ],
      "metadata": {
        "id": "y6SLNCaeE9re"
      },
      "execution_count": null,
      "outputs": []
    },
    {
      "cell_type": "code",
      "source": [
        "# print cross-validation scores and final accuracy\n",
        "print(f'Cross-Validation Scores: \\t\\t\\t{scores}')\n",
        "print(f'Average Cross-Validation Accuracy: \\t\\t{np.mean(scores):.2%}')\n",
        "print(f'Cross-Validation Accuracy Standard Deviation: \\t{np.std(scores):.2%}')\n",
        "print(f'Final Accuracy on Validation Data: \\t\\t{accuracy:.2%}')"
      ],
      "metadata": {
        "colab": {
          "base_uri": "https://localhost:8080/"
        },
        "outputId": "abb2239d-027c-494c-be2f-c2b28abb2ce0",
        "id": "F32fWoB0E9rf"
      },
      "execution_count": null,
      "outputs": [
        {
          "output_type": "stream",
          "name": "stdout",
          "text": [
            "Cross-Validation Scores: \t\t\t[0.52791878 0.53160271 0.53837472 0.53216704 0.53950339]\n",
            "Average Cross-Validation Accuracy: \t\t53.39%\n",
            "Cross-Validation Accuracy Standard Deviation: \t0.44%\n",
            "Final Accuracy on Validation Data: \t\t56.96%\n"
          ]
        }
      ]
    },
    {
      "cell_type": "markdown",
      "source": [
        "The addition of LBP did not improve the SVM model."
      ],
      "metadata": {
        "id": "AOy57Qioi_by"
      }
    },
    {
      "cell_type": "code",
      "source": [
        "# predict on test data\n",
        "y_pred_test = svm_clf_hog_corner_lbp.predict(test_hog_corner_lbp)\n",
        "\n",
        "# define test file for kaggle\n",
        "test_id = np.arange(0, 1136, 1)\n",
        "pred_file = pd.DataFrame({\"ID\":test_id, \"Predictions\": y_pred_test})\n",
        "pred_file.to_csv(\"Predictions/46165991-conv-svm-raw-hog-corner-lbp.csv\", index=False, header=True)\n",
        "pred_file.head(5)"
      ],
      "metadata": {
        "colab": {
          "base_uri": "https://localhost:8080/",
          "height": 201
        },
        "outputId": "e5630764-70c1-4788-8dbd-781ed0c6322d",
        "id": "KWJzvCHsE9rg"
      },
      "execution_count": null,
      "outputs": [
        {
          "output_type": "execute_result",
          "data": {
            "text/plain": [
              "   ID  Predictions\n",
              "0   0            3\n",
              "1   1            3\n",
              "2   2            2\n",
              "3   3            0\n",
              "4   4            6"
            ],
            "text/html": [
              "\n",
              "  <div id=\"df-75238877-c469-4d1c-8a87-a181f4ec89bc\" class=\"colab-df-container\">\n",
              "    <div>\n",
              "<style scoped>\n",
              "    .dataframe tbody tr th:only-of-type {\n",
              "        vertical-align: middle;\n",
              "    }\n",
              "\n",
              "    .dataframe tbody tr th {\n",
              "        vertical-align: top;\n",
              "    }\n",
              "\n",
              "    .dataframe thead th {\n",
              "        text-align: right;\n",
              "    }\n",
              "</style>\n",
              "<table border=\"1\" class=\"dataframe\">\n",
              "  <thead>\n",
              "    <tr style=\"text-align: right;\">\n",
              "      <th></th>\n",
              "      <th>ID</th>\n",
              "      <th>Predictions</th>\n",
              "    </tr>\n",
              "  </thead>\n",
              "  <tbody>\n",
              "    <tr>\n",
              "      <th>0</th>\n",
              "      <td>0</td>\n",
              "      <td>3</td>\n",
              "    </tr>\n",
              "    <tr>\n",
              "      <th>1</th>\n",
              "      <td>1</td>\n",
              "      <td>3</td>\n",
              "    </tr>\n",
              "    <tr>\n",
              "      <th>2</th>\n",
              "      <td>2</td>\n",
              "      <td>2</td>\n",
              "    </tr>\n",
              "    <tr>\n",
              "      <th>3</th>\n",
              "      <td>3</td>\n",
              "      <td>0</td>\n",
              "    </tr>\n",
              "    <tr>\n",
              "      <th>4</th>\n",
              "      <td>4</td>\n",
              "      <td>6</td>\n",
              "    </tr>\n",
              "  </tbody>\n",
              "</table>\n",
              "</div>\n",
              "    <div class=\"colab-df-buttons\">\n",
              "\n",
              "  <div class=\"colab-df-container\">\n",
              "    <button class=\"colab-df-convert\" onclick=\"convertToInteractive('df-75238877-c469-4d1c-8a87-a181f4ec89bc')\"\n",
              "            title=\"Convert this dataframe to an interactive table.\"\n",
              "            style=\"display:none;\">\n",
              "\n",
              "  <svg xmlns=\"http://www.w3.org/2000/svg\" height=\"24px\" viewBox=\"0 -960 960 960\">\n",
              "    <path d=\"M120-120v-720h720v720H120Zm60-500h600v-160H180v160Zm220 220h160v-160H400v160Zm0 220h160v-160H400v160ZM180-400h160v-160H180v160Zm440 0h160v-160H620v160ZM180-180h160v-160H180v160Zm440 0h160v-160H620v160Z\"/>\n",
              "  </svg>\n",
              "    </button>\n",
              "\n",
              "  <style>\n",
              "    .colab-df-container {\n",
              "      display:flex;\n",
              "      gap: 12px;\n",
              "    }\n",
              "\n",
              "    .colab-df-convert {\n",
              "      background-color: #E8F0FE;\n",
              "      border: none;\n",
              "      border-radius: 50%;\n",
              "      cursor: pointer;\n",
              "      display: none;\n",
              "      fill: #1967D2;\n",
              "      height: 32px;\n",
              "      padding: 0 0 0 0;\n",
              "      width: 32px;\n",
              "    }\n",
              "\n",
              "    .colab-df-convert:hover {\n",
              "      background-color: #E2EBFA;\n",
              "      box-shadow: 0px 1px 2px rgba(60, 64, 67, 0.3), 0px 1px 3px 1px rgba(60, 64, 67, 0.15);\n",
              "      fill: #174EA6;\n",
              "    }\n",
              "\n",
              "    .colab-df-buttons div {\n",
              "      margin-bottom: 4px;\n",
              "    }\n",
              "\n",
              "    [theme=dark] .colab-df-convert {\n",
              "      background-color: #3B4455;\n",
              "      fill: #D2E3FC;\n",
              "    }\n",
              "\n",
              "    [theme=dark] .colab-df-convert:hover {\n",
              "      background-color: #434B5C;\n",
              "      box-shadow: 0px 1px 3px 1px rgba(0, 0, 0, 0.15);\n",
              "      filter: drop-shadow(0px 1px 2px rgba(0, 0, 0, 0.3));\n",
              "      fill: #FFFFFF;\n",
              "    }\n",
              "  </style>\n",
              "\n",
              "    <script>\n",
              "      const buttonEl =\n",
              "        document.querySelector('#df-75238877-c469-4d1c-8a87-a181f4ec89bc button.colab-df-convert');\n",
              "      buttonEl.style.display =\n",
              "        google.colab.kernel.accessAllowed ? 'block' : 'none';\n",
              "\n",
              "      async function convertToInteractive(key) {\n",
              "        const element = document.querySelector('#df-75238877-c469-4d1c-8a87-a181f4ec89bc');\n",
              "        const dataTable =\n",
              "          await google.colab.kernel.invokeFunction('convertToInteractive',\n",
              "                                                    [key], {});\n",
              "        if (!dataTable) return;\n",
              "\n",
              "        const docLinkHtml = 'Like what you see? Visit the ' +\n",
              "          '<a target=\"_blank\" href=https://colab.research.google.com/notebooks/data_table.ipynb>data table notebook</a>'\n",
              "          + ' to learn more about interactive tables.';\n",
              "        element.innerHTML = '';\n",
              "        dataTable['output_type'] = 'display_data';\n",
              "        await google.colab.output.renderOutput(dataTable, element);\n",
              "        const docLink = document.createElement('div');\n",
              "        docLink.innerHTML = docLinkHtml;\n",
              "        element.appendChild(docLink);\n",
              "      }\n",
              "    </script>\n",
              "  </div>\n",
              "\n",
              "\n",
              "<div id=\"df-a38efa62-2884-46a7-82bb-c67ccab7c35a\">\n",
              "  <button class=\"colab-df-quickchart\" onclick=\"quickchart('df-a38efa62-2884-46a7-82bb-c67ccab7c35a')\"\n",
              "            title=\"Suggest charts.\"\n",
              "            style=\"display:none;\">\n",
              "\n",
              "<svg xmlns=\"http://www.w3.org/2000/svg\" height=\"24px\"viewBox=\"0 0 24 24\"\n",
              "     width=\"24px\">\n",
              "    <g>\n",
              "        <path d=\"M19 3H5c-1.1 0-2 .9-2 2v14c0 1.1.9 2 2 2h14c1.1 0 2-.9 2-2V5c0-1.1-.9-2-2-2zM9 17H7v-7h2v7zm4 0h-2V7h2v10zm4 0h-2v-4h2v4z\"/>\n",
              "    </g>\n",
              "</svg>\n",
              "  </button>\n",
              "\n",
              "<style>\n",
              "  .colab-df-quickchart {\n",
              "      --bg-color: #E8F0FE;\n",
              "      --fill-color: #1967D2;\n",
              "      --hover-bg-color: #E2EBFA;\n",
              "      --hover-fill-color: #174EA6;\n",
              "      --disabled-fill-color: #AAA;\n",
              "      --disabled-bg-color: #DDD;\n",
              "  }\n",
              "\n",
              "  [theme=dark] .colab-df-quickchart {\n",
              "      --bg-color: #3B4455;\n",
              "      --fill-color: #D2E3FC;\n",
              "      --hover-bg-color: #434B5C;\n",
              "      --hover-fill-color: #FFFFFF;\n",
              "      --disabled-bg-color: #3B4455;\n",
              "      --disabled-fill-color: #666;\n",
              "  }\n",
              "\n",
              "  .colab-df-quickchart {\n",
              "    background-color: var(--bg-color);\n",
              "    border: none;\n",
              "    border-radius: 50%;\n",
              "    cursor: pointer;\n",
              "    display: none;\n",
              "    fill: var(--fill-color);\n",
              "    height: 32px;\n",
              "    padding: 0;\n",
              "    width: 32px;\n",
              "  }\n",
              "\n",
              "  .colab-df-quickchart:hover {\n",
              "    background-color: var(--hover-bg-color);\n",
              "    box-shadow: 0 1px 2px rgba(60, 64, 67, 0.3), 0 1px 3px 1px rgba(60, 64, 67, 0.15);\n",
              "    fill: var(--button-hover-fill-color);\n",
              "  }\n",
              "\n",
              "  .colab-df-quickchart-complete:disabled,\n",
              "  .colab-df-quickchart-complete:disabled:hover {\n",
              "    background-color: var(--disabled-bg-color);\n",
              "    fill: var(--disabled-fill-color);\n",
              "    box-shadow: none;\n",
              "  }\n",
              "\n",
              "  .colab-df-spinner {\n",
              "    border: 2px solid var(--fill-color);\n",
              "    border-color: transparent;\n",
              "    border-bottom-color: var(--fill-color);\n",
              "    animation:\n",
              "      spin 1s steps(1) infinite;\n",
              "  }\n",
              "\n",
              "  @keyframes spin {\n",
              "    0% {\n",
              "      border-color: transparent;\n",
              "      border-bottom-color: var(--fill-color);\n",
              "      border-left-color: var(--fill-color);\n",
              "    }\n",
              "    20% {\n",
              "      border-color: transparent;\n",
              "      border-left-color: var(--fill-color);\n",
              "      border-top-color: var(--fill-color);\n",
              "    }\n",
              "    30% {\n",
              "      border-color: transparent;\n",
              "      border-left-color: var(--fill-color);\n",
              "      border-top-color: var(--fill-color);\n",
              "      border-right-color: var(--fill-color);\n",
              "    }\n",
              "    40% {\n",
              "      border-color: transparent;\n",
              "      border-right-color: var(--fill-color);\n",
              "      border-top-color: var(--fill-color);\n",
              "    }\n",
              "    60% {\n",
              "      border-color: transparent;\n",
              "      border-right-color: var(--fill-color);\n",
              "    }\n",
              "    80% {\n",
              "      border-color: transparent;\n",
              "      border-right-color: var(--fill-color);\n",
              "      border-bottom-color: var(--fill-color);\n",
              "    }\n",
              "    90% {\n",
              "      border-color: transparent;\n",
              "      border-bottom-color: var(--fill-color);\n",
              "    }\n",
              "  }\n",
              "</style>\n",
              "\n",
              "  <script>\n",
              "    async function quickchart(key) {\n",
              "      const quickchartButtonEl =\n",
              "        document.querySelector('#' + key + ' button');\n",
              "      quickchartButtonEl.disabled = true;  // To prevent multiple clicks.\n",
              "      quickchartButtonEl.classList.add('colab-df-spinner');\n",
              "      try {\n",
              "        const charts = await google.colab.kernel.invokeFunction(\n",
              "            'suggestCharts', [key], {});\n",
              "      } catch (error) {\n",
              "        console.error('Error during call to suggestCharts:', error);\n",
              "      }\n",
              "      quickchartButtonEl.classList.remove('colab-df-spinner');\n",
              "      quickchartButtonEl.classList.add('colab-df-quickchart-complete');\n",
              "    }\n",
              "    (() => {\n",
              "      let quickchartButtonEl =\n",
              "        document.querySelector('#df-a38efa62-2884-46a7-82bb-c67ccab7c35a button');\n",
              "      quickchartButtonEl.style.display =\n",
              "        google.colab.kernel.accessAllowed ? 'block' : 'none';\n",
              "    })();\n",
              "  </script>\n",
              "</div>\n",
              "    </div>\n",
              "  </div>\n"
            ]
          },
          "metadata": {},
          "execution_count": 46
        }
      ]
    },
    {
      "cell_type": "code",
      "source": [
        "# compare training class frequency and prediction class frequency\n",
        "class_freq_train = pd.DataFrame({'emotion': label_names, 'train_freq': np.round(percentages,2)}) # create training frequency df\n",
        "\n",
        "# create prediction frequency df\n",
        "prediction_counts = np.round(pd.Series(y_pred_test).value_counts(normalize=True).reset_index(),2)\n",
        "prediction_counts.columns = ['emotion', 'pred_freq']\n",
        "prediction_counts = prediction_counts.sort_values(by='emotion')\n",
        "prediction_counts['pred_freq'] = prediction_counts['pred_freq']*100\n",
        "\n",
        "# map numerical emotion values to actual emotions\n",
        "prediction_counts['emotion'] = prediction_counts['emotion'].map(label_classes)\n",
        "\n",
        "# set emotion columns as index\n",
        "prediction_counts.set_index('emotion', inplace=True)\n",
        "class_freq_train.set_index('emotion', inplace=True)\n",
        "\n",
        "raw_svm_freq = pd.merge(class_freq_train, prediction_counts, left_index=True, right_index=True, how='left') # merge on index\n",
        "raw_svm_freq['pred_freq'].fillna(0, inplace=True) # fill missing prediction classes with zero\n",
        "raw_svm_freq['freq_deviation'] = raw_svm_freq['train_freq']-raw_svm_freq['pred_freq'] # calculate frequency difference\n",
        "raw_svm_freq"
      ],
      "metadata": {
        "colab": {
          "base_uri": "https://localhost:8080/",
          "height": 291
        },
        "outputId": "19555641-f48c-49de-d7a6-ae9f1e5abf88",
        "id": "jLO9j3bnE9rg"
      },
      "execution_count": null,
      "outputs": [
        {
          "output_type": "execute_result",
          "data": {
            "text/plain": [
              "           train_freq  pred_freq  freq_deviation\n",
              "emotion                                         \n",
              "angry           13.57       10.0            3.57\n",
              "disgusted        2.26        0.0            2.26\n",
              "fearful         11.87        6.0            5.87\n",
              "happy           29.33       36.0           -6.67\n",
              "sad             11.18        3.0            8.18\n",
              "surprised       11.28       10.0            1.28\n",
              "neutral         20.51       35.0          -14.49"
            ],
            "text/html": [
              "\n",
              "  <div id=\"df-62e420b1-2113-429f-8e76-4e45333c0ffd\" class=\"colab-df-container\">\n",
              "    <div>\n",
              "<style scoped>\n",
              "    .dataframe tbody tr th:only-of-type {\n",
              "        vertical-align: middle;\n",
              "    }\n",
              "\n",
              "    .dataframe tbody tr th {\n",
              "        vertical-align: top;\n",
              "    }\n",
              "\n",
              "    .dataframe thead th {\n",
              "        text-align: right;\n",
              "    }\n",
              "</style>\n",
              "<table border=\"1\" class=\"dataframe\">\n",
              "  <thead>\n",
              "    <tr style=\"text-align: right;\">\n",
              "      <th></th>\n",
              "      <th>train_freq</th>\n",
              "      <th>pred_freq</th>\n",
              "      <th>freq_deviation</th>\n",
              "    </tr>\n",
              "    <tr>\n",
              "      <th>emotion</th>\n",
              "      <th></th>\n",
              "      <th></th>\n",
              "      <th></th>\n",
              "    </tr>\n",
              "  </thead>\n",
              "  <tbody>\n",
              "    <tr>\n",
              "      <th>angry</th>\n",
              "      <td>13.57</td>\n",
              "      <td>10.0</td>\n",
              "      <td>3.57</td>\n",
              "    </tr>\n",
              "    <tr>\n",
              "      <th>disgusted</th>\n",
              "      <td>2.26</td>\n",
              "      <td>0.0</td>\n",
              "      <td>2.26</td>\n",
              "    </tr>\n",
              "    <tr>\n",
              "      <th>fearful</th>\n",
              "      <td>11.87</td>\n",
              "      <td>6.0</td>\n",
              "      <td>5.87</td>\n",
              "    </tr>\n",
              "    <tr>\n",
              "      <th>happy</th>\n",
              "      <td>29.33</td>\n",
              "      <td>36.0</td>\n",
              "      <td>-6.67</td>\n",
              "    </tr>\n",
              "    <tr>\n",
              "      <th>sad</th>\n",
              "      <td>11.18</td>\n",
              "      <td>3.0</td>\n",
              "      <td>8.18</td>\n",
              "    </tr>\n",
              "    <tr>\n",
              "      <th>surprised</th>\n",
              "      <td>11.28</td>\n",
              "      <td>10.0</td>\n",
              "      <td>1.28</td>\n",
              "    </tr>\n",
              "    <tr>\n",
              "      <th>neutral</th>\n",
              "      <td>20.51</td>\n",
              "      <td>35.0</td>\n",
              "      <td>-14.49</td>\n",
              "    </tr>\n",
              "  </tbody>\n",
              "</table>\n",
              "</div>\n",
              "    <div class=\"colab-df-buttons\">\n",
              "\n",
              "  <div class=\"colab-df-container\">\n",
              "    <button class=\"colab-df-convert\" onclick=\"convertToInteractive('df-62e420b1-2113-429f-8e76-4e45333c0ffd')\"\n",
              "            title=\"Convert this dataframe to an interactive table.\"\n",
              "            style=\"display:none;\">\n",
              "\n",
              "  <svg xmlns=\"http://www.w3.org/2000/svg\" height=\"24px\" viewBox=\"0 -960 960 960\">\n",
              "    <path d=\"M120-120v-720h720v720H120Zm60-500h600v-160H180v160Zm220 220h160v-160H400v160Zm0 220h160v-160H400v160ZM180-400h160v-160H180v160Zm440 0h160v-160H620v160ZM180-180h160v-160H180v160Zm440 0h160v-160H620v160Z\"/>\n",
              "  </svg>\n",
              "    </button>\n",
              "\n",
              "  <style>\n",
              "    .colab-df-container {\n",
              "      display:flex;\n",
              "      gap: 12px;\n",
              "    }\n",
              "\n",
              "    .colab-df-convert {\n",
              "      background-color: #E8F0FE;\n",
              "      border: none;\n",
              "      border-radius: 50%;\n",
              "      cursor: pointer;\n",
              "      display: none;\n",
              "      fill: #1967D2;\n",
              "      height: 32px;\n",
              "      padding: 0 0 0 0;\n",
              "      width: 32px;\n",
              "    }\n",
              "\n",
              "    .colab-df-convert:hover {\n",
              "      background-color: #E2EBFA;\n",
              "      box-shadow: 0px 1px 2px rgba(60, 64, 67, 0.3), 0px 1px 3px 1px rgba(60, 64, 67, 0.15);\n",
              "      fill: #174EA6;\n",
              "    }\n",
              "\n",
              "    .colab-df-buttons div {\n",
              "      margin-bottom: 4px;\n",
              "    }\n",
              "\n",
              "    [theme=dark] .colab-df-convert {\n",
              "      background-color: #3B4455;\n",
              "      fill: #D2E3FC;\n",
              "    }\n",
              "\n",
              "    [theme=dark] .colab-df-convert:hover {\n",
              "      background-color: #434B5C;\n",
              "      box-shadow: 0px 1px 3px 1px rgba(0, 0, 0, 0.15);\n",
              "      filter: drop-shadow(0px 1px 2px rgba(0, 0, 0, 0.3));\n",
              "      fill: #FFFFFF;\n",
              "    }\n",
              "  </style>\n",
              "\n",
              "    <script>\n",
              "      const buttonEl =\n",
              "        document.querySelector('#df-62e420b1-2113-429f-8e76-4e45333c0ffd button.colab-df-convert');\n",
              "      buttonEl.style.display =\n",
              "        google.colab.kernel.accessAllowed ? 'block' : 'none';\n",
              "\n",
              "      async function convertToInteractive(key) {\n",
              "        const element = document.querySelector('#df-62e420b1-2113-429f-8e76-4e45333c0ffd');\n",
              "        const dataTable =\n",
              "          await google.colab.kernel.invokeFunction('convertToInteractive',\n",
              "                                                    [key], {});\n",
              "        if (!dataTable) return;\n",
              "\n",
              "        const docLinkHtml = 'Like what you see? Visit the ' +\n",
              "          '<a target=\"_blank\" href=https://colab.research.google.com/notebooks/data_table.ipynb>data table notebook</a>'\n",
              "          + ' to learn more about interactive tables.';\n",
              "        element.innerHTML = '';\n",
              "        dataTable['output_type'] = 'display_data';\n",
              "        await google.colab.output.renderOutput(dataTable, element);\n",
              "        const docLink = document.createElement('div');\n",
              "        docLink.innerHTML = docLinkHtml;\n",
              "        element.appendChild(docLink);\n",
              "      }\n",
              "    </script>\n",
              "  </div>\n",
              "\n",
              "\n",
              "<div id=\"df-a444e7b8-bc05-4602-b1af-56e48f5d982d\">\n",
              "  <button class=\"colab-df-quickchart\" onclick=\"quickchart('df-a444e7b8-bc05-4602-b1af-56e48f5d982d')\"\n",
              "            title=\"Suggest charts.\"\n",
              "            style=\"display:none;\">\n",
              "\n",
              "<svg xmlns=\"http://www.w3.org/2000/svg\" height=\"24px\"viewBox=\"0 0 24 24\"\n",
              "     width=\"24px\">\n",
              "    <g>\n",
              "        <path d=\"M19 3H5c-1.1 0-2 .9-2 2v14c0 1.1.9 2 2 2h14c1.1 0 2-.9 2-2V5c0-1.1-.9-2-2-2zM9 17H7v-7h2v7zm4 0h-2V7h2v10zm4 0h-2v-4h2v4z\"/>\n",
              "    </g>\n",
              "</svg>\n",
              "  </button>\n",
              "\n",
              "<style>\n",
              "  .colab-df-quickchart {\n",
              "      --bg-color: #E8F0FE;\n",
              "      --fill-color: #1967D2;\n",
              "      --hover-bg-color: #E2EBFA;\n",
              "      --hover-fill-color: #174EA6;\n",
              "      --disabled-fill-color: #AAA;\n",
              "      --disabled-bg-color: #DDD;\n",
              "  }\n",
              "\n",
              "  [theme=dark] .colab-df-quickchart {\n",
              "      --bg-color: #3B4455;\n",
              "      --fill-color: #D2E3FC;\n",
              "      --hover-bg-color: #434B5C;\n",
              "      --hover-fill-color: #FFFFFF;\n",
              "      --disabled-bg-color: #3B4455;\n",
              "      --disabled-fill-color: #666;\n",
              "  }\n",
              "\n",
              "  .colab-df-quickchart {\n",
              "    background-color: var(--bg-color);\n",
              "    border: none;\n",
              "    border-radius: 50%;\n",
              "    cursor: pointer;\n",
              "    display: none;\n",
              "    fill: var(--fill-color);\n",
              "    height: 32px;\n",
              "    padding: 0;\n",
              "    width: 32px;\n",
              "  }\n",
              "\n",
              "  .colab-df-quickchart:hover {\n",
              "    background-color: var(--hover-bg-color);\n",
              "    box-shadow: 0 1px 2px rgba(60, 64, 67, 0.3), 0 1px 3px 1px rgba(60, 64, 67, 0.15);\n",
              "    fill: var(--button-hover-fill-color);\n",
              "  }\n",
              "\n",
              "  .colab-df-quickchart-complete:disabled,\n",
              "  .colab-df-quickchart-complete:disabled:hover {\n",
              "    background-color: var(--disabled-bg-color);\n",
              "    fill: var(--disabled-fill-color);\n",
              "    box-shadow: none;\n",
              "  }\n",
              "\n",
              "  .colab-df-spinner {\n",
              "    border: 2px solid var(--fill-color);\n",
              "    border-color: transparent;\n",
              "    border-bottom-color: var(--fill-color);\n",
              "    animation:\n",
              "      spin 1s steps(1) infinite;\n",
              "  }\n",
              "\n",
              "  @keyframes spin {\n",
              "    0% {\n",
              "      border-color: transparent;\n",
              "      border-bottom-color: var(--fill-color);\n",
              "      border-left-color: var(--fill-color);\n",
              "    }\n",
              "    20% {\n",
              "      border-color: transparent;\n",
              "      border-left-color: var(--fill-color);\n",
              "      border-top-color: var(--fill-color);\n",
              "    }\n",
              "    30% {\n",
              "      border-color: transparent;\n",
              "      border-left-color: var(--fill-color);\n",
              "      border-top-color: var(--fill-color);\n",
              "      border-right-color: var(--fill-color);\n",
              "    }\n",
              "    40% {\n",
              "      border-color: transparent;\n",
              "      border-right-color: var(--fill-color);\n",
              "      border-top-color: var(--fill-color);\n",
              "    }\n",
              "    60% {\n",
              "      border-color: transparent;\n",
              "      border-right-color: var(--fill-color);\n",
              "    }\n",
              "    80% {\n",
              "      border-color: transparent;\n",
              "      border-right-color: var(--fill-color);\n",
              "      border-bottom-color: var(--fill-color);\n",
              "    }\n",
              "    90% {\n",
              "      border-color: transparent;\n",
              "      border-bottom-color: var(--fill-color);\n",
              "    }\n",
              "  }\n",
              "</style>\n",
              "\n",
              "  <script>\n",
              "    async function quickchart(key) {\n",
              "      const quickchartButtonEl =\n",
              "        document.querySelector('#' + key + ' button');\n",
              "      quickchartButtonEl.disabled = true;  // To prevent multiple clicks.\n",
              "      quickchartButtonEl.classList.add('colab-df-spinner');\n",
              "      try {\n",
              "        const charts = await google.colab.kernel.invokeFunction(\n",
              "            'suggestCharts', [key], {});\n",
              "      } catch (error) {\n",
              "        console.error('Error during call to suggestCharts:', error);\n",
              "      }\n",
              "      quickchartButtonEl.classList.remove('colab-df-spinner');\n",
              "      quickchartButtonEl.classList.add('colab-df-quickchart-complete');\n",
              "    }\n",
              "    (() => {\n",
              "      let quickchartButtonEl =\n",
              "        document.querySelector('#df-a444e7b8-bc05-4602-b1af-56e48f5d982d button');\n",
              "      quickchartButtonEl.style.display =\n",
              "        google.colab.kernel.accessAllowed ? 'block' : 'none';\n",
              "    })();\n",
              "  </script>\n",
              "</div>\n",
              "    </div>\n",
              "  </div>\n"
            ]
          },
          "metadata": {},
          "execution_count": 47
        }
      ]
    },
    {
      "cell_type": "markdown",
      "source": [
        "#### Hyperparameter Tuning\n",
        "To conduct hyperparameter tuning on the SVM model, we will use a randomized grid search approach to reduce the required number of combinations for model computation. Specifically for SVM, the regularisation parameter C, the kernel to use, and the kernel coefficient gamma are the parameters of interest."
      ],
      "metadata": {
        "id": "RZlDz0U4E9rh"
      }
    },
    {
      "cell_type": "code",
      "source": [
        "def get_params(model, X_train, y_train, X_val, y_val, X_test, param_grid):\n",
        "    \"\"\"\n",
        "    This function applies randomized grid search for hyperparameter tuning on a given estimator and returns\n",
        "    the best score in combination with the according parameters used.\n",
        "    \"\"\"\n",
        "    grid_search = RandomizedSearchCV(estimator=model, param_distributions=param_grid,\n",
        "                                     scoring='accuracy', cv=5, n_jobs=-1, random_state=42)\n",
        "    grid_search.fit(X_train, y_train)\n",
        "    best_score = grid_search.best_score_ # retrieve best score\n",
        "    best_params = grid_search.best_params_ # retrieve best parameters\n",
        "    y_pred = grid_search.predict(X_val) # predict on validation data\n",
        "    pred_accuracy = accuracy_score(y_val, y_pred) # calculate accuracy on validation data\n",
        "    test_pred = grid_search.predict(X_test)\n",
        "\n",
        "    return best_score, best_params, pred_accuracy"
      ],
      "metadata": {
        "id": "L1xzCda7E9rh"
      },
      "execution_count": null,
      "outputs": []
    },
    {
      "cell_type": "code",
      "source": [
        "# define parameter grid\n",
        "param_grid = {\n",
        "    'C': [0.01, 0.03, 0.1, 0.3, 1, 3, 10, 30],\n",
        "    'kernel': ['poly', 'rbf'],\n",
        "    'gamma': [0.01, 0.03, 0.1, 0.3, 1, 3, 10, 30]\n",
        "    }\n",
        "\n",
        "# define model\n",
        "svm_hog_cor_lbp_hp = SVC(random_state=42)"
      ],
      "metadata": {
        "id": "z1T0vmAPE9ri"
      },
      "execution_count": null,
      "outputs": []
    },
    {
      "cell_type": "code",
      "source": [
        "# apply grid search\n",
        "best_score, best_params, pred_accuracy = get_params(model=svm_hog_cor_lbp_hp, X_train=X_train, y_train=y_train,\n",
        "                                                    X_val=X_val, y_val=y_val, X_test=X_test, param_grid=param_grid)"
      ],
      "metadata": {
        "id": "vv41CWOPE9ri"
      },
      "execution_count": null,
      "outputs": []
    },
    {
      "cell_type": "code",
      "source": [
        "print(f'The best model parameters are: \\t\\t{best_params}\\n'\n",
        "      f'The highest accuract from cross-validation is: \\t{best_score}\\n'\n",
        "      f'The accuracy on the validation data is: \\t{pred_accuracy}')"
      ],
      "metadata": {
        "id": "7cAGK03eE9ri"
      },
      "execution_count": null,
      "outputs": []
    },
    {
      "cell_type": "markdown",
      "source": [
        "Let's now test this parameter-optimized model on the test data."
      ],
      "metadata": {
        "id": "J67szMD1E9rj"
      }
    },
    {
      "cell_type": "code",
      "source": [
        "# predict on test data\n",
        "y_pred_test = svm_clf_hog_corner.predict(test_flat)\n",
        "\n",
        "# define test file for kaggle\n",
        "test_id = np.arange(0, 1136, 1)\n",
        "pred_file = pd.DataFrame({\"ID\":test_id, \"Predictions\": y_pred_test})\n",
        "pred_file.to_csv(\"Predictions/46165991-conv-svm-raw-hog-corner.csv\", index=False, header=True)\n",
        "pred_file.head(5)"
      ],
      "metadata": {
        "colab": {
          "base_uri": "https://localhost:8080/",
          "height": 201
        },
        "outputId": "b6195314-0253-4100-8582-4f3f94c4c6fc",
        "id": "N_jIvMD8E9rj"
      },
      "execution_count": null,
      "outputs": [
        {
          "output_type": "execute_result",
          "data": {
            "text/plain": [
              "   ID  Predictions\n",
              "0   0            3\n",
              "1   1            3\n",
              "2   2            2\n",
              "3   3            0\n",
              "4   4            6"
            ],
            "text/html": [
              "\n",
              "  <div id=\"df-93022f46-f306-466b-b4e4-3e2295d35064\" class=\"colab-df-container\">\n",
              "    <div>\n",
              "<style scoped>\n",
              "    .dataframe tbody tr th:only-of-type {\n",
              "        vertical-align: middle;\n",
              "    }\n",
              "\n",
              "    .dataframe tbody tr th {\n",
              "        vertical-align: top;\n",
              "    }\n",
              "\n",
              "    .dataframe thead th {\n",
              "        text-align: right;\n",
              "    }\n",
              "</style>\n",
              "<table border=\"1\" class=\"dataframe\">\n",
              "  <thead>\n",
              "    <tr style=\"text-align: right;\">\n",
              "      <th></th>\n",
              "      <th>ID</th>\n",
              "      <th>Predictions</th>\n",
              "    </tr>\n",
              "  </thead>\n",
              "  <tbody>\n",
              "    <tr>\n",
              "      <th>0</th>\n",
              "      <td>0</td>\n",
              "      <td>3</td>\n",
              "    </tr>\n",
              "    <tr>\n",
              "      <th>1</th>\n",
              "      <td>1</td>\n",
              "      <td>3</td>\n",
              "    </tr>\n",
              "    <tr>\n",
              "      <th>2</th>\n",
              "      <td>2</td>\n",
              "      <td>2</td>\n",
              "    </tr>\n",
              "    <tr>\n",
              "      <th>3</th>\n",
              "      <td>3</td>\n",
              "      <td>0</td>\n",
              "    </tr>\n",
              "    <tr>\n",
              "      <th>4</th>\n",
              "      <td>4</td>\n",
              "      <td>6</td>\n",
              "    </tr>\n",
              "  </tbody>\n",
              "</table>\n",
              "</div>\n",
              "    <div class=\"colab-df-buttons\">\n",
              "\n",
              "  <div class=\"colab-df-container\">\n",
              "    <button class=\"colab-df-convert\" onclick=\"convertToInteractive('df-93022f46-f306-466b-b4e4-3e2295d35064')\"\n",
              "            title=\"Convert this dataframe to an interactive table.\"\n",
              "            style=\"display:none;\">\n",
              "\n",
              "  <svg xmlns=\"http://www.w3.org/2000/svg\" height=\"24px\" viewBox=\"0 -960 960 960\">\n",
              "    <path d=\"M120-120v-720h720v720H120Zm60-500h600v-160H180v160Zm220 220h160v-160H400v160Zm0 220h160v-160H400v160ZM180-400h160v-160H180v160Zm440 0h160v-160H620v160ZM180-180h160v-160H180v160Zm440 0h160v-160H620v160Z\"/>\n",
              "  </svg>\n",
              "    </button>\n",
              "\n",
              "  <style>\n",
              "    .colab-df-container {\n",
              "      display:flex;\n",
              "      gap: 12px;\n",
              "    }\n",
              "\n",
              "    .colab-df-convert {\n",
              "      background-color: #E8F0FE;\n",
              "      border: none;\n",
              "      border-radius: 50%;\n",
              "      cursor: pointer;\n",
              "      display: none;\n",
              "      fill: #1967D2;\n",
              "      height: 32px;\n",
              "      padding: 0 0 0 0;\n",
              "      width: 32px;\n",
              "    }\n",
              "\n",
              "    .colab-df-convert:hover {\n",
              "      background-color: #E2EBFA;\n",
              "      box-shadow: 0px 1px 2px rgba(60, 64, 67, 0.3), 0px 1px 3px 1px rgba(60, 64, 67, 0.15);\n",
              "      fill: #174EA6;\n",
              "    }\n",
              "\n",
              "    .colab-df-buttons div {\n",
              "      margin-bottom: 4px;\n",
              "    }\n",
              "\n",
              "    [theme=dark] .colab-df-convert {\n",
              "      background-color: #3B4455;\n",
              "      fill: #D2E3FC;\n",
              "    }\n",
              "\n",
              "    [theme=dark] .colab-df-convert:hover {\n",
              "      background-color: #434B5C;\n",
              "      box-shadow: 0px 1px 3px 1px rgba(0, 0, 0, 0.15);\n",
              "      filter: drop-shadow(0px 1px 2px rgba(0, 0, 0, 0.3));\n",
              "      fill: #FFFFFF;\n",
              "    }\n",
              "  </style>\n",
              "\n",
              "    <script>\n",
              "      const buttonEl =\n",
              "        document.querySelector('#df-93022f46-f306-466b-b4e4-3e2295d35064 button.colab-df-convert');\n",
              "      buttonEl.style.display =\n",
              "        google.colab.kernel.accessAllowed ? 'block' : 'none';\n",
              "\n",
              "      async function convertToInteractive(key) {\n",
              "        const element = document.querySelector('#df-93022f46-f306-466b-b4e4-3e2295d35064');\n",
              "        const dataTable =\n",
              "          await google.colab.kernel.invokeFunction('convertToInteractive',\n",
              "                                                    [key], {});\n",
              "        if (!dataTable) return;\n",
              "\n",
              "        const docLinkHtml = 'Like what you see? Visit the ' +\n",
              "          '<a target=\"_blank\" href=https://colab.research.google.com/notebooks/data_table.ipynb>data table notebook</a>'\n",
              "          + ' to learn more about interactive tables.';\n",
              "        element.innerHTML = '';\n",
              "        dataTable['output_type'] = 'display_data';\n",
              "        await google.colab.output.renderOutput(dataTable, element);\n",
              "        const docLink = document.createElement('div');\n",
              "        docLink.innerHTML = docLinkHtml;\n",
              "        element.appendChild(docLink);\n",
              "      }\n",
              "    </script>\n",
              "  </div>\n",
              "\n",
              "\n",
              "<div id=\"df-abfc5501-1b64-4464-933e-863d4b531f86\">\n",
              "  <button class=\"colab-df-quickchart\" onclick=\"quickchart('df-abfc5501-1b64-4464-933e-863d4b531f86')\"\n",
              "            title=\"Suggest charts.\"\n",
              "            style=\"display:none;\">\n",
              "\n",
              "<svg xmlns=\"http://www.w3.org/2000/svg\" height=\"24px\"viewBox=\"0 0 24 24\"\n",
              "     width=\"24px\">\n",
              "    <g>\n",
              "        <path d=\"M19 3H5c-1.1 0-2 .9-2 2v14c0 1.1.9 2 2 2h14c1.1 0 2-.9 2-2V5c0-1.1-.9-2-2-2zM9 17H7v-7h2v7zm4 0h-2V7h2v10zm4 0h-2v-4h2v4z\"/>\n",
              "    </g>\n",
              "</svg>\n",
              "  </button>\n",
              "\n",
              "<style>\n",
              "  .colab-df-quickchart {\n",
              "      --bg-color: #E8F0FE;\n",
              "      --fill-color: #1967D2;\n",
              "      --hover-bg-color: #E2EBFA;\n",
              "      --hover-fill-color: #174EA6;\n",
              "      --disabled-fill-color: #AAA;\n",
              "      --disabled-bg-color: #DDD;\n",
              "  }\n",
              "\n",
              "  [theme=dark] .colab-df-quickchart {\n",
              "      --bg-color: #3B4455;\n",
              "      --fill-color: #D2E3FC;\n",
              "      --hover-bg-color: #434B5C;\n",
              "      --hover-fill-color: #FFFFFF;\n",
              "      --disabled-bg-color: #3B4455;\n",
              "      --disabled-fill-color: #666;\n",
              "  }\n",
              "\n",
              "  .colab-df-quickchart {\n",
              "    background-color: var(--bg-color);\n",
              "    border: none;\n",
              "    border-radius: 50%;\n",
              "    cursor: pointer;\n",
              "    display: none;\n",
              "    fill: var(--fill-color);\n",
              "    height: 32px;\n",
              "    padding: 0;\n",
              "    width: 32px;\n",
              "  }\n",
              "\n",
              "  .colab-df-quickchart:hover {\n",
              "    background-color: var(--hover-bg-color);\n",
              "    box-shadow: 0 1px 2px rgba(60, 64, 67, 0.3), 0 1px 3px 1px rgba(60, 64, 67, 0.15);\n",
              "    fill: var(--button-hover-fill-color);\n",
              "  }\n",
              "\n",
              "  .colab-df-quickchart-complete:disabled,\n",
              "  .colab-df-quickchart-complete:disabled:hover {\n",
              "    background-color: var(--disabled-bg-color);\n",
              "    fill: var(--disabled-fill-color);\n",
              "    box-shadow: none;\n",
              "  }\n",
              "\n",
              "  .colab-df-spinner {\n",
              "    border: 2px solid var(--fill-color);\n",
              "    border-color: transparent;\n",
              "    border-bottom-color: var(--fill-color);\n",
              "    animation:\n",
              "      spin 1s steps(1) infinite;\n",
              "  }\n",
              "\n",
              "  @keyframes spin {\n",
              "    0% {\n",
              "      border-color: transparent;\n",
              "      border-bottom-color: var(--fill-color);\n",
              "      border-left-color: var(--fill-color);\n",
              "    }\n",
              "    20% {\n",
              "      border-color: transparent;\n",
              "      border-left-color: var(--fill-color);\n",
              "      border-top-color: var(--fill-color);\n",
              "    }\n",
              "    30% {\n",
              "      border-color: transparent;\n",
              "      border-left-color: var(--fill-color);\n",
              "      border-top-color: var(--fill-color);\n",
              "      border-right-color: var(--fill-color);\n",
              "    }\n",
              "    40% {\n",
              "      border-color: transparent;\n",
              "      border-right-color: var(--fill-color);\n",
              "      border-top-color: var(--fill-color);\n",
              "    }\n",
              "    60% {\n",
              "      border-color: transparent;\n",
              "      border-right-color: var(--fill-color);\n",
              "    }\n",
              "    80% {\n",
              "      border-color: transparent;\n",
              "      border-right-color: var(--fill-color);\n",
              "      border-bottom-color: var(--fill-color);\n",
              "    }\n",
              "    90% {\n",
              "      border-color: transparent;\n",
              "      border-bottom-color: var(--fill-color);\n",
              "    }\n",
              "  }\n",
              "</style>\n",
              "\n",
              "  <script>\n",
              "    async function quickchart(key) {\n",
              "      const quickchartButtonEl =\n",
              "        document.querySelector('#' + key + ' button');\n",
              "      quickchartButtonEl.disabled = true;  // To prevent multiple clicks.\n",
              "      quickchartButtonEl.classList.add('colab-df-spinner');\n",
              "      try {\n",
              "        const charts = await google.colab.kernel.invokeFunction(\n",
              "            'suggestCharts', [key], {});\n",
              "      } catch (error) {\n",
              "        console.error('Error during call to suggestCharts:', error);\n",
              "      }\n",
              "      quickchartButtonEl.classList.remove('colab-df-spinner');\n",
              "      quickchartButtonEl.classList.add('colab-df-quickchart-complete');\n",
              "    }\n",
              "    (() => {\n",
              "      let quickchartButtonEl =\n",
              "        document.querySelector('#df-abfc5501-1b64-4464-933e-863d4b531f86 button');\n",
              "      quickchartButtonEl.style.display =\n",
              "        google.colab.kernel.accessAllowed ? 'block' : 'none';\n",
              "    })();\n",
              "  </script>\n",
              "</div>\n",
              "    </div>\n",
              "  </div>\n"
            ]
          },
          "metadata": {},
          "execution_count": 29
        }
      ]
    },
    {
      "cell_type": "code",
      "source": [
        "# compare training class frequency and prediction class frequency\n",
        "class_freq_train = pd.DataFrame({'emotion': label_names, 'train_freq': np.round(percentages,2)}) # create training frequency df\n",
        "\n",
        "# create prediction frequency df\n",
        "prediction_counts = np.round(pd.Series(y_pred_test).value_counts(normalize=True).reset_index(),2)\n",
        "prediction_counts.columns = ['emotion', 'pred_freq']\n",
        "prediction_counts = prediction_counts.sort_values(by='emotion')\n",
        "prediction_counts['pred_freq'] = prediction_counts['pred_freq']*100\n",
        "\n",
        "# map numerical emotion values to actual emotions\n",
        "prediction_counts['emotion'] = prediction_counts['emotion'].map(label_classes)\n",
        "\n",
        "# set emotion columns as index\n",
        "prediction_counts.set_index('emotion', inplace=True)\n",
        "class_freq_train.set_index('emotion', inplace=True)\n",
        "\n",
        "raw_svm_freq = pd.merge(class_freq_train, prediction_counts, left_index=True, right_index=True, how='left') # merge on index\n",
        "raw_svm_freq['pred_freq'].fillna(0, inplace=True) # fill missing prediction classes with zero\n",
        "raw_svm_freq['freq_deviation'] = raw_svm_freq['train_freq']-raw_svm_freq['pred_freq'] # calculate frequency difference\n",
        "raw_svm_freq"
      ],
      "metadata": {
        "colab": {
          "base_uri": "https://localhost:8080/",
          "height": 291
        },
        "outputId": "9b134bae-eece-4a75-93f1-25d567d6c86e",
        "id": "cCTtFMU8E9rk"
      },
      "execution_count": null,
      "outputs": [
        {
          "output_type": "execute_result",
          "data": {
            "text/plain": [
              "           train_freq  pred_freq  freq_deviation\n",
              "emotion                                         \n",
              "angry           13.57       10.0            3.57\n",
              "disgusted        2.26        0.0            2.26\n",
              "fearful         11.87        6.0            5.87\n",
              "happy           29.33       36.0           -6.67\n",
              "sad             11.18        3.0            8.18\n",
              "surprised       11.28       10.0            1.28\n",
              "neutral         20.51       35.0          -14.49"
            ],
            "text/html": [
              "\n",
              "  <div id=\"df-2b012b5e-9b8d-43ac-bdae-327a37b8c305\" class=\"colab-df-container\">\n",
              "    <div>\n",
              "<style scoped>\n",
              "    .dataframe tbody tr th:only-of-type {\n",
              "        vertical-align: middle;\n",
              "    }\n",
              "\n",
              "    .dataframe tbody tr th {\n",
              "        vertical-align: top;\n",
              "    }\n",
              "\n",
              "    .dataframe thead th {\n",
              "        text-align: right;\n",
              "    }\n",
              "</style>\n",
              "<table border=\"1\" class=\"dataframe\">\n",
              "  <thead>\n",
              "    <tr style=\"text-align: right;\">\n",
              "      <th></th>\n",
              "      <th>train_freq</th>\n",
              "      <th>pred_freq</th>\n",
              "      <th>freq_deviation</th>\n",
              "    </tr>\n",
              "    <tr>\n",
              "      <th>emotion</th>\n",
              "      <th></th>\n",
              "      <th></th>\n",
              "      <th></th>\n",
              "    </tr>\n",
              "  </thead>\n",
              "  <tbody>\n",
              "    <tr>\n",
              "      <th>angry</th>\n",
              "      <td>13.57</td>\n",
              "      <td>10.0</td>\n",
              "      <td>3.57</td>\n",
              "    </tr>\n",
              "    <tr>\n",
              "      <th>disgusted</th>\n",
              "      <td>2.26</td>\n",
              "      <td>0.0</td>\n",
              "      <td>2.26</td>\n",
              "    </tr>\n",
              "    <tr>\n",
              "      <th>fearful</th>\n",
              "      <td>11.87</td>\n",
              "      <td>6.0</td>\n",
              "      <td>5.87</td>\n",
              "    </tr>\n",
              "    <tr>\n",
              "      <th>happy</th>\n",
              "      <td>29.33</td>\n",
              "      <td>36.0</td>\n",
              "      <td>-6.67</td>\n",
              "    </tr>\n",
              "    <tr>\n",
              "      <th>sad</th>\n",
              "      <td>11.18</td>\n",
              "      <td>3.0</td>\n",
              "      <td>8.18</td>\n",
              "    </tr>\n",
              "    <tr>\n",
              "      <th>surprised</th>\n",
              "      <td>11.28</td>\n",
              "      <td>10.0</td>\n",
              "      <td>1.28</td>\n",
              "    </tr>\n",
              "    <tr>\n",
              "      <th>neutral</th>\n",
              "      <td>20.51</td>\n",
              "      <td>35.0</td>\n",
              "      <td>-14.49</td>\n",
              "    </tr>\n",
              "  </tbody>\n",
              "</table>\n",
              "</div>\n",
              "    <div class=\"colab-df-buttons\">\n",
              "\n",
              "  <div class=\"colab-df-container\">\n",
              "    <button class=\"colab-df-convert\" onclick=\"convertToInteractive('df-2b012b5e-9b8d-43ac-bdae-327a37b8c305')\"\n",
              "            title=\"Convert this dataframe to an interactive table.\"\n",
              "            style=\"display:none;\">\n",
              "\n",
              "  <svg xmlns=\"http://www.w3.org/2000/svg\" height=\"24px\" viewBox=\"0 -960 960 960\">\n",
              "    <path d=\"M120-120v-720h720v720H120Zm60-500h600v-160H180v160Zm220 220h160v-160H400v160Zm0 220h160v-160H400v160ZM180-400h160v-160H180v160Zm440 0h160v-160H620v160ZM180-180h160v-160H180v160Zm440 0h160v-160H620v160Z\"/>\n",
              "  </svg>\n",
              "    </button>\n",
              "\n",
              "  <style>\n",
              "    .colab-df-container {\n",
              "      display:flex;\n",
              "      gap: 12px;\n",
              "    }\n",
              "\n",
              "    .colab-df-convert {\n",
              "      background-color: #E8F0FE;\n",
              "      border: none;\n",
              "      border-radius: 50%;\n",
              "      cursor: pointer;\n",
              "      display: none;\n",
              "      fill: #1967D2;\n",
              "      height: 32px;\n",
              "      padding: 0 0 0 0;\n",
              "      width: 32px;\n",
              "    }\n",
              "\n",
              "    .colab-df-convert:hover {\n",
              "      background-color: #E2EBFA;\n",
              "      box-shadow: 0px 1px 2px rgba(60, 64, 67, 0.3), 0px 1px 3px 1px rgba(60, 64, 67, 0.15);\n",
              "      fill: #174EA6;\n",
              "    }\n",
              "\n",
              "    .colab-df-buttons div {\n",
              "      margin-bottom: 4px;\n",
              "    }\n",
              "\n",
              "    [theme=dark] .colab-df-convert {\n",
              "      background-color: #3B4455;\n",
              "      fill: #D2E3FC;\n",
              "    }\n",
              "\n",
              "    [theme=dark] .colab-df-convert:hover {\n",
              "      background-color: #434B5C;\n",
              "      box-shadow: 0px 1px 3px 1px rgba(0, 0, 0, 0.15);\n",
              "      filter: drop-shadow(0px 1px 2px rgba(0, 0, 0, 0.3));\n",
              "      fill: #FFFFFF;\n",
              "    }\n",
              "  </style>\n",
              "\n",
              "    <script>\n",
              "      const buttonEl =\n",
              "        document.querySelector('#df-2b012b5e-9b8d-43ac-bdae-327a37b8c305 button.colab-df-convert');\n",
              "      buttonEl.style.display =\n",
              "        google.colab.kernel.accessAllowed ? 'block' : 'none';\n",
              "\n",
              "      async function convertToInteractive(key) {\n",
              "        const element = document.querySelector('#df-2b012b5e-9b8d-43ac-bdae-327a37b8c305');\n",
              "        const dataTable =\n",
              "          await google.colab.kernel.invokeFunction('convertToInteractive',\n",
              "                                                    [key], {});\n",
              "        if (!dataTable) return;\n",
              "\n",
              "        const docLinkHtml = 'Like what you see? Visit the ' +\n",
              "          '<a target=\"_blank\" href=https://colab.research.google.com/notebooks/data_table.ipynb>data table notebook</a>'\n",
              "          + ' to learn more about interactive tables.';\n",
              "        element.innerHTML = '';\n",
              "        dataTable['output_type'] = 'display_data';\n",
              "        await google.colab.output.renderOutput(dataTable, element);\n",
              "        const docLink = document.createElement('div');\n",
              "        docLink.innerHTML = docLinkHtml;\n",
              "        element.appendChild(docLink);\n",
              "      }\n",
              "    </script>\n",
              "  </div>\n",
              "\n",
              "\n",
              "<div id=\"df-d96ced9c-b5bd-46cc-aeb5-4f08b7c202f0\">\n",
              "  <button class=\"colab-df-quickchart\" onclick=\"quickchart('df-d96ced9c-b5bd-46cc-aeb5-4f08b7c202f0')\"\n",
              "            title=\"Suggest charts.\"\n",
              "            style=\"display:none;\">\n",
              "\n",
              "<svg xmlns=\"http://www.w3.org/2000/svg\" height=\"24px\"viewBox=\"0 0 24 24\"\n",
              "     width=\"24px\">\n",
              "    <g>\n",
              "        <path d=\"M19 3H5c-1.1 0-2 .9-2 2v14c0 1.1.9 2 2 2h14c1.1 0 2-.9 2-2V5c0-1.1-.9-2-2-2zM9 17H7v-7h2v7zm4 0h-2V7h2v10zm4 0h-2v-4h2v4z\"/>\n",
              "    </g>\n",
              "</svg>\n",
              "  </button>\n",
              "\n",
              "<style>\n",
              "  .colab-df-quickchart {\n",
              "      --bg-color: #E8F0FE;\n",
              "      --fill-color: #1967D2;\n",
              "      --hover-bg-color: #E2EBFA;\n",
              "      --hover-fill-color: #174EA6;\n",
              "      --disabled-fill-color: #AAA;\n",
              "      --disabled-bg-color: #DDD;\n",
              "  }\n",
              "\n",
              "  [theme=dark] .colab-df-quickchart {\n",
              "      --bg-color: #3B4455;\n",
              "      --fill-color: #D2E3FC;\n",
              "      --hover-bg-color: #434B5C;\n",
              "      --hover-fill-color: #FFFFFF;\n",
              "      --disabled-bg-color: #3B4455;\n",
              "      --disabled-fill-color: #666;\n",
              "  }\n",
              "\n",
              "  .colab-df-quickchart {\n",
              "    background-color: var(--bg-color);\n",
              "    border: none;\n",
              "    border-radius: 50%;\n",
              "    cursor: pointer;\n",
              "    display: none;\n",
              "    fill: var(--fill-color);\n",
              "    height: 32px;\n",
              "    padding: 0;\n",
              "    width: 32px;\n",
              "  }\n",
              "\n",
              "  .colab-df-quickchart:hover {\n",
              "    background-color: var(--hover-bg-color);\n",
              "    box-shadow: 0 1px 2px rgba(60, 64, 67, 0.3), 0 1px 3px 1px rgba(60, 64, 67, 0.15);\n",
              "    fill: var(--button-hover-fill-color);\n",
              "  }\n",
              "\n",
              "  .colab-df-quickchart-complete:disabled,\n",
              "  .colab-df-quickchart-complete:disabled:hover {\n",
              "    background-color: var(--disabled-bg-color);\n",
              "    fill: var(--disabled-fill-color);\n",
              "    box-shadow: none;\n",
              "  }\n",
              "\n",
              "  .colab-df-spinner {\n",
              "    border: 2px solid var(--fill-color);\n",
              "    border-color: transparent;\n",
              "    border-bottom-color: var(--fill-color);\n",
              "    animation:\n",
              "      spin 1s steps(1) infinite;\n",
              "  }\n",
              "\n",
              "  @keyframes spin {\n",
              "    0% {\n",
              "      border-color: transparent;\n",
              "      border-bottom-color: var(--fill-color);\n",
              "      border-left-color: var(--fill-color);\n",
              "    }\n",
              "    20% {\n",
              "      border-color: transparent;\n",
              "      border-left-color: var(--fill-color);\n",
              "      border-top-color: var(--fill-color);\n",
              "    }\n",
              "    30% {\n",
              "      border-color: transparent;\n",
              "      border-left-color: var(--fill-color);\n",
              "      border-top-color: var(--fill-color);\n",
              "      border-right-color: var(--fill-color);\n",
              "    }\n",
              "    40% {\n",
              "      border-color: transparent;\n",
              "      border-right-color: var(--fill-color);\n",
              "      border-top-color: var(--fill-color);\n",
              "    }\n",
              "    60% {\n",
              "      border-color: transparent;\n",
              "      border-right-color: var(--fill-color);\n",
              "    }\n",
              "    80% {\n",
              "      border-color: transparent;\n",
              "      border-right-color: var(--fill-color);\n",
              "      border-bottom-color: var(--fill-color);\n",
              "    }\n",
              "    90% {\n",
              "      border-color: transparent;\n",
              "      border-bottom-color: var(--fill-color);\n",
              "    }\n",
              "  }\n",
              "</style>\n",
              "\n",
              "  <script>\n",
              "    async function quickchart(key) {\n",
              "      const quickchartButtonEl =\n",
              "        document.querySelector('#' + key + ' button');\n",
              "      quickchartButtonEl.disabled = true;  // To prevent multiple clicks.\n",
              "      quickchartButtonEl.classList.add('colab-df-spinner');\n",
              "      try {\n",
              "        const charts = await google.colab.kernel.invokeFunction(\n",
              "            'suggestCharts', [key], {});\n",
              "      } catch (error) {\n",
              "        console.error('Error during call to suggestCharts:', error);\n",
              "      }\n",
              "      quickchartButtonEl.classList.remove('colab-df-spinner');\n",
              "      quickchartButtonEl.classList.add('colab-df-quickchart-complete');\n",
              "    }\n",
              "    (() => {\n",
              "      let quickchartButtonEl =\n",
              "        document.querySelector('#df-d96ced9c-b5bd-46cc-aeb5-4f08b7c202f0 button');\n",
              "      quickchartButtonEl.style.display =\n",
              "        google.colab.kernel.accessAllowed ? 'block' : 'none';\n",
              "    })();\n",
              "  </script>\n",
              "</div>\n",
              "    </div>\n",
              "  </div>\n"
            ]
          },
          "metadata": {},
          "execution_count": 30
        }
      ]
    },
    {
      "cell_type": "code",
      "source": [],
      "metadata": {
        "id": "pPFXKi_AE9rk"
      },
      "execution_count": null,
      "outputs": []
    },
    {
      "cell_type": "markdown",
      "source": [
        "### Random Forest"
      ],
      "metadata": {
        "id": "OUavmgPwE9rl"
      }
    },
    {
      "cell_type": "code",
      "source": [],
      "metadata": {
        "id": "vAKbnwLouzuB"
      },
      "execution_count": null,
      "outputs": []
    },
    {
      "cell_type": "markdown",
      "source": [
        "### Naive Bayes"
      ],
      "metadata": {
        "id": "GWV4eahhE9rl"
      }
    },
    {
      "cell_type": "markdown",
      "source": [
        "### XGBoost"
      ],
      "metadata": {
        "id": "Xd3Zl63pE9rl"
      }
    },
    {
      "cell_type": "markdown",
      "source": [
        "### AdaBoost"
      ],
      "metadata": {
        "id": "lT_byN5GE9rm"
      }
    },
    {
      "cell_type": "markdown",
      "metadata": {
        "id": "HEGAmgJbVuSR"
      },
      "source": [
        "# Discussion on Conventional ML Model\n",
        "\n",
        "For the final model, hyperparameters were chosen by ...\n",
        "\n",
        "In addition to the final model, I also tried a logistic regression model, ...  This performed fairly poorly (accuracy y%) ...  This may have been because ..."
      ]
    },
    {
      "cell_type": "markdown",
      "metadata": {
        "id": "exJ0WB6EWipX"
      },
      "source": [
        "# Deep Learning Model\n",
        "\n",
        "The final model that produced the best-performing predictions for the Kaggle submission (accuracy (x+5)%) was a fully connected dense model with NN layers.  The input was the raw data that had been preprocessed by ..."
      ]
    },
    {
      "cell_type": "markdown",
      "source": [
        "### Baseline Model\n",
        "We will build a Neural Net with a simple architecture first. This will act as a baseline for more complex architectures to be evaluated against that baseline."
      ],
      "metadata": {
        "id": "NzoOf9ZJ2q1C"
      }
    },
    {
      "cell_type": "markdown",
      "source": [
        "## Data Preprocessing\n",
        "https://machinelearningmastery.com/best-practices-for-preparing-and-augmenting-image-data-for-convolutional-neural-networks/\n",
        "\n",
        "https://prince-canuma.medium.com/image-pre-processing-c1aec0be3edf\n",
        "\n",
        "https://www.kaggle.com/code/khotijahs1/cv-image-preprocessing\n",
        "\n",
        "https://iq.opengenus.org/basics-of-machine-learning-image-classification-techniques/"
      ],
      "metadata": {
        "id": "5vPtsCWKcnxF"
      }
    },
    {
      "cell_type": "markdown",
      "source": [
        "### Data Augmentation\n",
        "https://www.section.io/engineering-education/image-preprocessing-in-python/"
      ],
      "metadata": {
        "id": "5FEAUO1Jc1Yq"
      }
    },
    {
      "cell_type": "markdown",
      "source": [
        "## Regularisation\n",
        "e.g. Monte Carlo Droput"
      ],
      "metadata": {
        "id": "r1lKNKdPj7oR"
      }
    },
    {
      "cell_type": "markdown",
      "metadata": {
        "id": "8OoUKNz3Wv9g"
      },
      "source": [
        "[Following this, code and comments as above.]"
      ]
    },
    {
      "cell_type": "markdown",
      "metadata": {
        "id": "EcDCI2dIW3ir"
      },
      "source": [
        "# Discussion on Deep Learning Model\n",
        "\n",
        "For the final model, hyperparameters were chosen by ...\n",
        "\n",
        "In addition to the final model, I also tried a CNN with two conv layers and ...  This performed almost as well as the final model (accuracy (x-3)%) ...  This gap in performance may have been because ..."
      ]
    },
    {
      "cell_type": "markdown",
      "metadata": {
        "id": "O1ngpqdsXg2m"
      },
      "source": [
        "# Discussion of Model Performance and Implementation\n",
        "\n",
        "Comparing my final conventional ML and deep learning models, the deep learning one performed better by 5% on the public test set.  The deep learning model ranked #12 out of N submissions on the public test set, with the top-performing system having z% accuracy, and a majority class baseline having z'% accuracy ...\n",
        "\n",
        "[E.g. discussion about what performance on validation set versus public test set might say about your models or about the dataset.]\n",
        "\n",
        "[E.g. discussion about what performance on private test set versus public test set might say about your models or about the dataset.]\n",
        "\n",
        "[E.g. discussion about what inspecting the data might say about your models or about the dataset.]\n",
        "\n",
        "[E.g. reflection on resource required for models or other implementation issues.]\n",
        "\n"
      ]
    }
  ]
}